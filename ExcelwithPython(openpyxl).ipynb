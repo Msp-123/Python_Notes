{
 "cells": [
  {
   "cell_type": "code",
   "execution_count": 281,
   "metadata": {},
   "outputs": [],
   "source": [
    "import openpyxl\n",
    "from openpyxl import load_workbook"
   ]
  },
  {
   "cell_type": "code",
   "execution_count": 282,
   "metadata": {},
   "outputs": [],
   "source": [
    "workbook = openpyxl.load_workbook(\"denemeExcel.xlsx\")\n",
    "# load_workbook(path) ile dosya seçilir ve açılır."
   ]
  },
  {
   "cell_type": "markdown",
   "metadata": {},
   "source": [
    "## Dosya Açmak"
   ]
  },
  {
   "cell_type": "code",
   "execution_count": 283,
   "metadata": {},
   "outputs": [
    {
     "data": {
      "text/plain": [
       "<openpyxl.workbook.workbook.Workbook at 0x29eac551d90>"
      ]
     },
     "execution_count": 283,
     "metadata": {},
     "output_type": "execute_result"
    }
   ],
   "source": [
    "workbook"
   ]
  },
  {
   "cell_type": "code",
   "execution_count": 284,
   "metadata": {},
   "outputs": [],
   "source": [
    "sheet_names = workbook.sheetnames"
   ]
  },
  {
   "cell_type": "code",
   "execution_count": 285,
   "metadata": {},
   "outputs": [
    {
     "data": {
      "text/plain": [
       "['Sheet1', 'Sheet2', 'Sheet3']"
      ]
     },
     "execution_count": 285,
     "metadata": {},
     "output_type": "execute_result"
    }
   ],
   "source": [
    "sheet_names"
   ]
  },
  {
   "cell_type": "code",
   "execution_count": 286,
   "metadata": {},
   "outputs": [],
   "source": [
    "sheet = workbook.active"
   ]
  },
  {
   "cell_type": "code",
   "execution_count": 287,
   "metadata": {},
   "outputs": [
    {
     "data": {
      "text/plain": [
       "<Worksheet \"Sheet1\">"
      ]
     },
     "execution_count": 287,
     "metadata": {},
     "output_type": "execute_result"
    }
   ],
   "source": [
    "sheet"
   ]
  },
  {
   "cell_type": "code",
   "execution_count": 288,
   "metadata": {},
   "outputs": [],
   "source": [
    "rows = sheet.max_row\n",
    "cols = sheet.max_column"
   ]
  },
  {
   "cell_type": "code",
   "execution_count": 289,
   "metadata": {},
   "outputs": [
    {
     "data": {
      "text/plain": [
       "7"
      ]
     },
     "execution_count": 289,
     "metadata": {},
     "output_type": "execute_result"
    }
   ],
   "source": [
    "rows"
   ]
  },
  {
   "cell_type": "code",
   "execution_count": 290,
   "metadata": {},
   "outputs": [
    {
     "data": {
      "text/plain": [
       "3"
      ]
     },
     "execution_count": 290,
     "metadata": {},
     "output_type": "execute_result"
    }
   ],
   "source": [
    "cols"
   ]
  },
  {
   "cell_type": "markdown",
   "metadata": {},
   "source": [
    "## Dosya Okuma – Satır Satır Okuma veya Belirli Bir Satırı Okuma"
   ]
  },
  {
   "cell_type": "code",
   "execution_count": 291,
   "metadata": {},
   "outputs": [],
   "source": [
    "# Bunun için direkt sheet değişkeninde satır/sütun numarası belirterek veya cell(satir,sütun) fonksiyonu kullanılabilir.\n",
    "# cell(satir,sütun)"
   ]
  },
  {
   "cell_type": "code",
   "execution_count": 292,
   "metadata": {},
   "outputs": [
    {
     "data": {
      "text/plain": [
       "<Worksheet \"Sheet1\">"
      ]
     },
     "execution_count": 292,
     "metadata": {},
     "output_type": "execute_result"
    }
   ],
   "source": [
    "sheet"
   ]
  },
  {
   "cell_type": "code",
   "execution_count": 293,
   "metadata": {},
   "outputs": [
    {
     "name": "stdout",
     "output_type": "stream",
     "text": [
      "MERT\n"
     ]
    }
   ],
   "source": [
    "print(sheet[\"A2\"].value)  "
   ]
  },
  {
   "cell_type": "code",
   "execution_count": 294,
   "metadata": {},
   "outputs": [
    {
     "name": "stdout",
     "output_type": "stream",
     "text": [
      "ENGINEER\n"
     ]
    }
   ],
   "source": [
    "print(sheet[\"C2\"].value)  "
   ]
  },
  {
   "cell_type": "code",
   "execution_count": 295,
   "metadata": {},
   "outputs": [
    {
     "name": "stdout",
     "output_type": "stream",
     "text": [
      "<Cell 'Sheet1'.A2>\n"
     ]
    }
   ],
   "source": [
    "print(sheet.cell(2,1))"
   ]
  },
  {
   "cell_type": "code",
   "execution_count": 296,
   "metadata": {},
   "outputs": [
    {
     "name": "stdout",
     "output_type": "stream",
     "text": [
      "MERT\n"
     ]
    }
   ],
   "source": [
    "print(sheet.cell(2,1).value)"
   ]
  },
  {
   "cell_type": "code",
   "execution_count": 297,
   "metadata": {},
   "outputs": [],
   "source": [
    "# Birden çok satır ve sütun seçmek için ise cell() fonksiyonu döngüde çalıştırılabilir."
   ]
  },
  {
   "cell_type": "code",
   "execution_count": 298,
   "metadata": {
    "scrolled": true
   },
   "outputs": [
    {
     "name": "stdout",
     "output_type": "stream",
     "text": [
      "NAME,AGE,JOB,MERT,24,ENGINEER,İSMAİL,26,DRIVER,AYŞE,44,ARTIST,BAHAR,32,JOURNALIST,İLKER,30,CODER,NAZIM,19,STUDENT,"
     ]
    }
   ],
   "source": [
    "satir = 1\n",
    "sutun = 1\n",
    "\n",
    "while satir <=sheet.max_row:\n",
    "    while sutun <= sheet.max_column:\n",
    "        print(str(sheet.cell(satir,sutun).value),end=\",\")\n",
    "        sutun += 1\n",
    "    satir += 1\n",
    "    sutun = 1"
   ]
  },
  {
   "cell_type": "code",
   "execution_count": 299,
   "metadata": {},
   "outputs": [
    {
     "name": "stdout",
     "output_type": "stream",
     "text": [
      "1.satır1.sutun=NAME,   1.satır2.sutun=AGE,   1.satır3.sutun=JOB,   2.satır1.sutun=MERT,   2.satır2.sutun=24,   2.satır3.sutun=ENGINEER,   3.satır1.sutun=İSMAİL,   3.satır2.sutun=26,   3.satır3.sutun=DRIVER,   4.satır1.sutun=AYŞE,   4.satır2.sutun=44,   4.satır3.sutun=ARTIST,   5.satır1.sutun=BAHAR,   5.satır2.sutun=32,   5.satır3.sutun=JOURNALIST,   6.satır1.sutun=İLKER,   6.satır2.sutun=30,   6.satır3.sutun=CODER,   7.satır1.sutun=NAZIM,   7.satır2.sutun=19,   7.satır3.sutun=STUDENT,   "
     ]
    }
   ],
   "source": [
    "satir = 1\n",
    "sutun = 1\n",
    "\n",
    "while satir <=sheet.max_row:\n",
    "    while sutun <= sheet.max_column:\n",
    "        print(str(satir),\".satır\",str(sutun),\".sutun\",\"=\",str(sheet.cell(satir,sutun).value),sep=\"\",end=\",   \")\n",
    "        sutun += 1\n",
    "    satir += 1\n",
    "    sutun = 1"
   ]
  },
  {
   "cell_type": "code",
   "execution_count": 300,
   "metadata": {},
   "outputs": [],
   "source": [
    "sheet = sheet[\"A1\" : \"C7\"]\n",
    "# Cell object is created by using \n",
    "# sheet object's cell() method. "
   ]
  },
  {
   "cell_type": "code",
   "execution_count": 301,
   "metadata": {},
   "outputs": [
    {
     "name": "stdout",
     "output_type": "stream",
     "text": [
      "((<Cell 'Sheet1'.A1>, <Cell 'Sheet1'.B1>, <Cell 'Sheet1'.C1>), (<Cell 'Sheet1'.A2>, <Cell 'Sheet1'.B2>, <Cell 'Sheet1'.C2>), (<Cell 'Sheet1'.A3>, <Cell 'Sheet1'.B3>, <Cell 'Sheet1'.C3>), (<Cell 'Sheet1'.A4>, <Cell 'Sheet1'.B4>, <Cell 'Sheet1'.C4>), (<Cell 'Sheet1'.A5>, <Cell 'Sheet1'.B5>, <Cell 'Sheet1'.C5>), (<Cell 'Sheet1'.A6>, <Cell 'Sheet1'.B6>, <Cell 'Sheet1'.C6>), (<Cell 'Sheet1'.A7>, <Cell 'Sheet1'.B7>, <Cell 'Sheet1'.C7>))\n"
     ]
    }
   ],
   "source": [
    "print(sheet)"
   ]
  },
  {
   "cell_type": "code",
   "execution_count": 302,
   "metadata": {},
   "outputs": [
    {
     "name": "stdout",
     "output_type": "stream",
     "text": [
      "NAME AGE JOB\n",
      "MERT 24 ENGINEER\n",
      "İSMAİL 26 DRIVER\n",
      "AYŞE 44 ARTIST\n",
      "BAHAR 32 JOURNALIST\n",
      "İLKER 30 CODER\n",
      "NAZIM 19 STUDENT\n"
     ]
    }
   ],
   "source": [
    "for cell1, cell2,cell3 in sheet:\n",
    "    print(cell1.value, cell2.value,cell3.value)"
   ]
  },
  {
   "cell_type": "code",
   "execution_count": null,
   "metadata": {},
   "outputs": [],
   "source": []
  },
  {
   "cell_type": "code",
   "execution_count": null,
   "metadata": {},
   "outputs": [],
   "source": []
  },
  {
   "cell_type": "code",
   "execution_count": null,
   "metadata": {},
   "outputs": [],
   "source": []
  },
  {
   "cell_type": "markdown",
   "metadata": {},
   "source": [
    "## Yeni Bir Excel Dosyası Oluşturma"
   ]
  },
  {
   "cell_type": "code",
   "execution_count": 303,
   "metadata": {},
   "outputs": [
    {
     "data": {
      "text/plain": [
       "'\\nBir Excel dosyası, en az bir Sayfa içeren Çalışma Kitabı olarak adlandırılır. \\nBir çalışma kitabı oluşturmak için önce çalışma kitabını aşağıdaki komutu kullanarak \\nOpenpyxl kitaplığından içe aktarmamız gerekir:\\n'"
      ]
     },
     "execution_count": 303,
     "metadata": {},
     "output_type": "execute_result"
    }
   ],
   "source": [
    "\"\"\"\n",
    "Bir Excel dosyası, en az bir Sayfa içeren Çalışma Kitabı olarak adlandırılır. \n",
    "Bir çalışma kitabı oluşturmak için önce çalışma kitabını aşağıdaki komutu kullanarak \n",
    "Openpyxl kitaplığından içe aktarmamız gerekir:\n",
    "\"\"\""
   ]
  },
  {
   "cell_type": "code",
   "execution_count": 304,
   "metadata": {},
   "outputs": [],
   "source": [
    "from openpyxl import Workbook"
   ]
  },
  {
   "cell_type": "code",
   "execution_count": 305,
   "metadata": {},
   "outputs": [],
   "source": [
    "# Bir çalışma kitabı nesnesi oluşturalım. Bu nesneyi okuma, yazma, vb. Yapılması gereken tüm eylemleri \n",
    "# işlemek için kullanabiliriz\n",
    "wb = Workbook()"
   ]
  },
  {
   "cell_type": "code",
   "execution_count": 306,
   "metadata": {},
   "outputs": [
    {
     "data": {
      "text/plain": [
       "'\\nPython komut dosyalarıyla aynı konumda yeni bir Excel dosyası oluşturmak istiyorsanız, \\ndosya yolunu atlayabilir ve dosya adını doğrudan wb.save komut ile kaydedebilirsin.\\n'"
      ]
     },
     "execution_count": 306,
     "metadata": {},
     "output_type": "execute_result"
    }
   ],
   "source": [
    "wb.save(\"kaydetme.xlsx\") # bulunduğumuz dosya konumuna bu excel dosyasını kaydetmek için kullanılır.\n",
    "\"\"\"\n",
    "Python komut dosyalarıyla aynı konumda yeni bir Excel dosyası oluşturmak istiyorsanız, \n",
    "dosya yolunu atlayabilir ve dosya adını doğrudan wb.save komut ile kaydedebilirsin.\n",
    "\"\"\""
   ]
  },
  {
   "cell_type": "code",
   "execution_count": 307,
   "metadata": {},
   "outputs": [
    {
     "data": {
      "text/plain": [
       "<openpyxl.workbook.workbook.Workbook at 0x29eac5a8f40>"
      ]
     },
     "execution_count": 307,
     "metadata": {},
     "output_type": "execute_result"
    }
   ],
   "source": [
    "wb"
   ]
  },
  {
   "cell_type": "code",
   "execution_count": 308,
   "metadata": {},
   "outputs": [],
   "source": [
    "wb = load_workbook(\"kaydetme.xlsx\")"
   ]
  },
  {
   "cell_type": "code",
   "execution_count": 309,
   "metadata": {},
   "outputs": [],
   "source": [
    "sheet = wb.active # Verileri hangi sayfaya gireceksek belirtmek zorundayız.\n",
    "# sadece 1 sayfamız olduğu için sadece \"active\" diyebiliriz."
   ]
  },
  {
   "cell_type": "code",
   "execution_count": 310,
   "metadata": {},
   "outputs": [],
   "source": [
    "# birden fazla sayfa varsa sheet = wb['SheetName'] şeklinde girmemiz gerekmektedir."
   ]
  },
  {
   "cell_type": "code",
   "execution_count": 311,
   "metadata": {},
   "outputs": [],
   "source": [
    "sheet['A1'] = \"Software Name\""
   ]
  },
  {
   "cell_type": "code",
   "execution_count": 312,
   "metadata": {},
   "outputs": [],
   "source": [
    "sheet.cell(row=1,column=2).value = \"UserName\""
   ]
  },
  {
   "cell_type": "code",
   "execution_count": 313,
   "metadata": {},
   "outputs": [],
   "source": [
    "wb.save(\"kaydetme.xlsx\")  # En sonda dosyayı kaydetmeyi unutmayın."
   ]
  },
  {
   "cell_type": "markdown",
   "metadata": {},
   "source": [
    "## Sayfayı Excel Dosyasında Yeniden Adlandırma"
   ]
  },
  {
   "cell_type": "code",
   "execution_count": 314,
   "metadata": {},
   "outputs": [],
   "source": [
    "from datetime import datetime"
   ]
  },
  {
   "cell_type": "code",
   "execution_count": 315,
   "metadata": {},
   "outputs": [],
   "source": [
    "now = datetime.now()"
   ]
  },
  {
   "cell_type": "code",
   "execution_count": 316,
   "metadata": {},
   "outputs": [
    {
     "data": {
      "text/plain": [
       "datetime.datetime(2022, 3, 17, 23, 42, 46, 23272)"
      ]
     },
     "execution_count": 316,
     "metadata": {},
     "output_type": "execute_result"
    }
   ],
   "source": [
    "now"
   ]
  },
  {
   "cell_type": "code",
   "execution_count": 317,
   "metadata": {},
   "outputs": [
    {
     "ename": "TypeError",
     "evalue": "strftime() missing required argument 'format' (pos 1)",
     "output_type": "error",
     "traceback": [
      "\u001b[1;31m---------------------------------------------------------------------------\u001b[0m",
      "\u001b[1;31mTypeError\u001b[0m                                 Traceback (most recent call last)",
      "\u001b[1;32m<ipython-input-317-c7e85707994c>\u001b[0m in \u001b[0;36m<module>\u001b[1;34m\u001b[0m\n\u001b[1;32m----> 1\u001b[1;33m \u001b[0mnow\u001b[0m \u001b[1;33m=\u001b[0m \u001b[0mnow\u001b[0m\u001b[1;33m.\u001b[0m\u001b[0mstrftime\u001b[0m\u001b[1;33m(\u001b[0m\u001b[1;33m)\u001b[0m\u001b[1;33m\u001b[0m\u001b[1;33m\u001b[0m\u001b[0m\n\u001b[0m",
      "\u001b[1;31mTypeError\u001b[0m: strftime() missing required argument 'format' (pos 1)"
     ]
    }
   ],
   "source": [
    "now = now.strftime()"
   ]
  },
  {
   "cell_type": "code",
   "execution_count": 318,
   "metadata": {},
   "outputs": [],
   "source": [
    "now = now.strftime('%d.%m.%y') # datetime to string"
   ]
  },
  {
   "cell_type": "code",
   "execution_count": 319,
   "metadata": {},
   "outputs": [
    {
     "data": {
      "text/plain": [
       "'17.03.22'"
      ]
     },
     "execution_count": 319,
     "metadata": {},
     "output_type": "execute_result"
    }
   ],
   "source": [
    "now"
   ]
  },
  {
   "cell_type": "code",
   "execution_count": 320,
   "metadata": {},
   "outputs": [],
   "source": [
    "sheet.title = now"
   ]
  },
  {
   "cell_type": "code",
   "execution_count": 321,
   "metadata": {},
   "outputs": [
    {
     "data": {
      "text/plain": [
       "<Worksheet \"17.03.22\">"
      ]
     },
     "execution_count": 321,
     "metadata": {},
     "output_type": "execute_result"
    }
   ],
   "source": [
    "sheet"
   ]
  },
  {
   "cell_type": "markdown",
   "metadata": {},
   "source": [
    "## strftime()"
   ]
  },
  {
   "cell_type": "code",
   "execution_count": 322,
   "metadata": {},
   "outputs": [],
   "source": [
    "time = datetime.now()"
   ]
  },
  {
   "cell_type": "code",
   "execution_count": 323,
   "metadata": {},
   "outputs": [],
   "source": [
    "time = time.strftime('%d.%m.%y,%H:%M:%S')"
   ]
  },
  {
   "cell_type": "code",
   "execution_count": 324,
   "metadata": {},
   "outputs": [
    {
     "data": {
      "text/plain": [
       "'17.03.22,23:43:25'"
      ]
     },
     "execution_count": 324,
     "metadata": {},
     "output_type": "execute_result"
    }
   ],
   "source": [
    "time"
   ]
  },
  {
   "cell_type": "markdown",
   "metadata": {},
   "source": [
    "## Writing to Spreadsheets"
   ]
  },
  {
   "cell_type": "code",
   "execution_count": 325,
   "metadata": {},
   "outputs": [],
   "source": [
    "from openpyxl import Workbook"
   ]
  },
  {
   "cell_type": "code",
   "execution_count": 327,
   "metadata": {},
   "outputs": [],
   "source": [
    "# Call a Workbook() function of openpyxl  \n",
    "# to create a new blank Workbook object\n",
    "workbook = Workbook()"
   ]
  },
  {
   "cell_type": "code",
   "execution_count": 328,
   "metadata": {},
   "outputs": [],
   "source": [
    "#Anytime you modify the Workbook object \n",
    "# or its sheets and cells, the spreadsheet \n",
    "# file will not be saved until you call \n",
    "# the save() workbook method. "
   ]
  },
  {
   "cell_type": "code",
   "execution_count": 329,
   "metadata": {},
   "outputs": [],
   "source": [
    "workbook.save(filename=\"sample.xlsx\")"
   ]
  },
  {
   "cell_type": "code",
   "execution_count": 330,
   "metadata": {},
   "outputs": [
    {
     "data": {
      "text/plain": [
       "'\\nAfter creating an empty file, let’s see how to add some data to it using Python. \\nTo add data first we need to select the active sheet and then using the cell() method we can select any particular cell \\nby passing the row and column number as its parameter. We can also write using cell names'"
      ]
     },
     "execution_count": 330,
     "metadata": {},
     "output_type": "execute_result"
    }
   ],
   "source": [
    "\"\"\"\n",
    "After creating an empty file, let’s see how to add some data to it using Python. \n",
    "To add data first we need to select the active sheet and then using the cell() method we can select any particular cell \n",
    "by passing the row and column number as its parameter. We can also write using cell names\"\"\""
   ]
  },
  {
   "cell_type": "code",
   "execution_count": 331,
   "metadata": {},
   "outputs": [],
   "source": [
    "import openpyxl"
   ]
  },
  {
   "cell_type": "code",
   "execution_count": 332,
   "metadata": {},
   "outputs": [],
   "source": [
    "wb = openpyxl.Workbook()"
   ]
  },
  {
   "cell_type": "code",
   "execution_count": 333,
   "metadata": {},
   "outputs": [],
   "source": [
    "sheet = wb.active"
   ]
  },
  {
   "cell_type": "code",
   "execution_count": 335,
   "metadata": {},
   "outputs": [],
   "source": [
    "c1 = sheet.cell(row = 1, column = 1)"
   ]
  },
  {
   "cell_type": "code",
   "execution_count": 337,
   "metadata": {},
   "outputs": [],
   "source": [
    "c1.value = \"Name\""
   ]
  },
  {
   "cell_type": "code",
   "execution_count": 338,
   "metadata": {},
   "outputs": [],
   "source": [
    "c2 = sheet.cell(row= 1 , column = 2) \n",
    "c2.value = \"Job\""
   ]
  },
  {
   "cell_type": "code",
   "execution_count": 339,
   "metadata": {},
   "outputs": [],
   "source": [
    "c3 = sheet['A2'] \n",
    "c3.value = \"Mert\""
   ]
  },
  {
   "cell_type": "code",
   "execution_count": 340,
   "metadata": {},
   "outputs": [],
   "source": [
    "c3 = sheet['B2'] \n",
    "c3.value = \"Engineer\""
   ]
  },
  {
   "cell_type": "code",
   "execution_count": 341,
   "metadata": {},
   "outputs": [],
   "source": [
    "wb.save(\"sample.xlsx\")"
   ]
  },
  {
   "cell_type": "code",
   "execution_count": null,
   "metadata": {},
   "outputs": [],
   "source": []
  }
 ],
 "metadata": {
  "kernelspec": {
   "display_name": "Python 3",
   "language": "python",
   "name": "python3"
  },
  "language_info": {
   "codemirror_mode": {
    "name": "ipython",
    "version": 3
   },
   "file_extension": ".py",
   "mimetype": "text/x-python",
   "name": "python",
   "nbconvert_exporter": "python",
   "pygments_lexer": "ipython3",
   "version": "3.8.5"
  }
 },
 "nbformat": 4,
 "nbformat_minor": 4
}
