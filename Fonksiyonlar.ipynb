{
 "cells": [
  {
   "cell_type": "code",
   "execution_count": 1,
   "metadata": {},
   "outputs": [
    {
     "data": {
      "text/plain": [
       "'\\n1. Her fonksiyonun bir adı bulunur ve fonksiyonlar sahip oldukları bu adlarla anılır.\\n\\n2. Sekil olarak, her fonksiyonun isminin yanında birer parantez isareti bulunur.\\n\\n3. Bu parantez isaretlerinin içine, fonksiyonlara islevsellik kazandıran bazı parametreler yazılır.\\n\\n4. Fonksiyonlar farklı sayıda parametre alabilir. Örnegin print() fonksiyonu toplam 256\\nadet parametre alabilirken, input() fonksiyonu yalnızca tek bir parametre alır.\\n\\n5. Fonksiyonların isimli ve isimsiz parametreleri vardır. print() fonksiyonundaki sep,\\nend ve 1le parametreleri isimli parametrelere örnekken, mesela print(\"Merhaba\\nDünya!\") kodunda Merhaba Dünya! parametresi isimsiz bir parametredir. Aynı sekilde\\ninput(\"Adınız: \") gibi bir kodda Adınız: parametresi isimsiz bir parametredir\\n\\n'"
      ]
     },
     "execution_count": 1,
     "metadata": {},
     "output_type": "execute_result"
    }
   ],
   "source": [
    "\"\"\"\n",
    "1. Her fonksiyonun bir adı bulunur ve fonksiyonlar sahip oldukları bu adlarla anılır.\n",
    "\n",
    "2. Sekil olarak, her fonksiyonun isminin yanında birer parantez isareti bulunur.\n",
    "\n",
    "3. Bu parantez isaretlerinin içine, fonksiyonlara islevsellik kazandıran bazı parametreler yazılır.\n",
    "\n",
    "4. Fonksiyonlar farklı sayıda parametre alabilir. Örnegin print() fonksiyonu toplam 256\n",
    "adet parametre alabilirken, input() fonksiyonu yalnızca tek bir parametre alır.\n",
    "\n",
    "5. Fonksiyonların isimli ve isimsiz parametreleri vardır. print() fonksiyonundaki sep,\n",
    "end ve 1le parametreleri isimli parametrelere örnekken, mesela print(\"Merhaba\n",
    "Dünya!\") kodunda Merhaba Dünya! parametresi isimsiz bir parametredir. Aynı sekilde\n",
    "input(\"Adınız: \") gibi bir kodda Adınız: parametresi isimsiz bir parametredir\n",
    "\n",
    "\"\"\""
   ]
  },
  {
   "cell_type": "code",
   "execution_count": 2,
   "metadata": {},
   "outputs": [],
   "source": [
    "# Fonksiyonların görevi, karmasık islemleri bir araya toplayarak, bu islemleri tek adımda yapmamızı saglamaktır"
   ]
  },
  {
   "cell_type": "markdown",
   "metadata": {},
   "source": [
    "## Fonksiyon Tanımlamak ve Çagırmak"
   ]
  },
  {
   "cell_type": "code",
   "execution_count": 3,
   "metadata": {},
   "outputs": [
    {
     "data": {
      "text/plain": [
       "'\\n------------------------------\\nisim : Ahmet\\nsoyisim : Gür\\nişletim sistemi: Pardus\\nşehir : İzmir\\n------------------------------\\n'"
      ]
     },
     "execution_count": 3,
     "metadata": {},
     "output_type": "execute_result"
    }
   ],
   "source": [
    "# mesela bir kayit_olustur() fonk. oluşturalım ve bu fonksiyon bu çıktıyı versin:\n",
    "\"\"\"\n",
    "------------------------------\n",
    "isim : Ahmet\n",
    "soyisim : Gür\n",
    "işletim sistemi: Pardus\n",
    "şehir : İzmir\n",
    "------------------------------\n",
    "\"\"\""
   ]
  },
  {
   "cell_type": "code",
   "execution_count": 7,
   "metadata": {},
   "outputs": [],
   "source": [
    "def kayit_olustur(isim, soyisim, isletim_sis, sehir):\n",
    "    print(\"-\"*30)\n",
    "    \n",
    "    print(\"isim                :\",isim)\n",
    "    print(\"soyisim             :\",soyisim)\n",
    "    print(\"isletim sistemi     :\",isletim_sis)\n",
    "    print(\"sehir               :\",sehir)\n",
    "    \n",
    "    print(\"-\"*30)"
   ]
  },
  {
   "cell_type": "code",
   "execution_count": 8,
   "metadata": {},
   "outputs": [
    {
     "name": "stdout",
     "output_type": "stream",
     "text": [
      "------------------------------\n",
      "isim                : Mert\n",
      "soyisim             : Pehlivan\n",
      "isletim sistemi     : Linux\n",
      "sehir               : Bursa\n",
      "------------------------------\n"
     ]
    }
   ],
   "source": [
    "# olusturduğumuz fonksiyona parametreler verelim.\n",
    "kayit_olustur(\"Mert\",\"Pehlivan\",\"Linux\",\"Bursa\")"
   ]
  },
  {
   "cell_type": "code",
   "execution_count": 9,
   "metadata": {},
   "outputs": [],
   "source": [
    "## Şimdi yukarıdaki kod dizimini inceleyelim."
   ]
  },
  {
   "cell_type": "code",
   "execution_count": 10,
   "metadata": {},
   "outputs": [],
   "source": [
    "# aslında iki kısımdan oluşan bir yapı oluşturduk."
   ]
  },
  {
   "cell_type": "code",
   "execution_count": 12,
   "metadata": {},
   "outputs": [
    {
     "data": {
      "text/plain": [
       "'\\ndef kayit_olustur(param1,param2,param3,param4)\\n    (...)\\n    \\nkayit_olustur(param1,param2,param3,param4)\\n'"
      ]
     },
     "execution_count": 12,
     "metadata": {},
     "output_type": "execute_result"
    }
   ],
   "source": [
    "\"\"\"\n",
    "def kayit_olustur(param1,param2,param3,param4)\n",
    "    (...)\n",
    "    \n",
    "kayit_olustur(param1,param2,param3,param4)\n",
    "\"\"\""
   ]
  },
  {
   "cell_type": "code",
   "execution_count": 13,
   "metadata": {},
   "outputs": [],
   "source": [
    "#İlk parçaya fonksiyon tanımı, 2.parçaya ise fonksiyon çağrısı denir.\n",
    "# Function definition, function call"
   ]
  },
  {
   "cell_type": "markdown",
   "metadata": {},
   "source": [
    "## Fonksiyonların Yapısı"
   ]
  },
  {
   "cell_type": "code",
   "execution_count": 14,
   "metadata": {},
   "outputs": [],
   "source": [
    "def selamla():\n",
    "    print(\"Merhaba Dünya\")"
   ]
  },
  {
   "cell_type": "code",
   "execution_count": 16,
   "metadata": {},
   "outputs": [
    {
     "name": "stdout",
     "output_type": "stream",
     "text": [
      "Merhaba Dünya\n"
     ]
    }
   ],
   "source": [
    "selamla() # fonksiyonu çağırdık."
   ]
  },
  {
   "cell_type": "code",
   "execution_count": 17,
   "metadata": {},
   "outputs": [],
   "source": [
    "# def -> fonksiyou tanımlamak için kullanılır.\n",
    "#      (...) -> fonksiyonun gövdesini oluşturur."
   ]
  },
  {
   "cell_type": "markdown",
   "metadata": {},
   "source": [
    "## Fonksiyonlar Ne Ise Yarar?"
   ]
  },
  {
   "cell_type": "code",
   "execution_count": 18,
   "metadata": {},
   "outputs": [],
   "source": [
    "# Diyelim ki, bir sayının karesini bulan bir program yazmak istiyoruz:"
   ]
  },
  {
   "cell_type": "code",
   "execution_count": 1,
   "metadata": {},
   "outputs": [
    {
     "name": "stdout",
     "output_type": "stream",
     "text": [
      "{'12 sayısının karesi 144 sayısıdır.'}\n"
     ]
    }
   ],
   "source": [
    "sayi = 12\n",
    "cıktı = {\"{} sayısının karesi {} sayısıdır.\".format(sayi,sayi**2)}\n",
    "print(cıktı)"
   ]
  },
  {
   "cell_type": "code",
   "execution_count": 23,
   "metadata": {},
   "outputs": [
    {
     "data": {
      "text/plain": [
       "'\\nBuradaki sorun, aynı seyleri tekrar tekrar yazmak zorunda kalmamızdır. Bu küçük örnekte pek\\nbelli olmuyor olabilir, ama özellikle büyük programlarda aynı kodların program içinde sürekli\\nolarak tekrarlanması pek çok probleme yol açar ve çok uzun sürebilir.\\n'"
      ]
     },
     "execution_count": 23,
     "metadata": {},
     "output_type": "execute_result"
    }
   ],
   "source": [
    "# Diyelim ki büyük bir program içinde, farklı\n",
    "# farklı yerlerde yukarıdaki islemi tekrar tekrar yapmak istiyorsunuz.\n",
    "\"\"\"\n",
    "Buradaki sorun, aynı seyleri tekrar tekrar yazmak zorunda kalmamızdır. Bu küçük örnekte pek\n",
    "belli olmuyor olabilir, ama özellikle büyük programlarda aynı kodların program içinde sürekli\n",
    "olarak tekrarlanması pek çok probleme yol açar ve çok uzun sürebilir.\n",
    "\"\"\""
   ]
  },
  {
   "cell_type": "code",
   "execution_count": 24,
   "metadata": {},
   "outputs": [],
   "source": [
    "def kare_bul():\n",
    "    sayi = 12\n",
    "    cıktı = {\"{} sayısının karesi {} sayısıdır.\".format(sayi,sayi**2)}\n",
    "    print(cıktı)"
   ]
  },
  {
   "cell_type": "code",
   "execution_count": 25,
   "metadata": {},
   "outputs": [
    {
     "name": "stdout",
     "output_type": "stream",
     "text": [
      "{'12 sayısının karesi 144 sayısıdır.'}\n"
     ]
    }
   ],
   "source": [
    "kare_bul()"
   ]
  },
  {
   "cell_type": "code",
   "execution_count": 26,
   "metadata": {},
   "outputs": [],
   "source": [
    "# ama burada sadece 12 sayısının karesini bulabiliyoruz."
   ]
  },
  {
   "cell_type": "code",
   "execution_count": 27,
   "metadata": {},
   "outputs": [],
   "source": [
    "def kare_bul(sayi):\n",
    "    cıktı = {\"{} sayısının karesi {} sayısıdır.\".format(sayi,sayi**2)}\n",
    "    print(cıktı)"
   ]
  },
  {
   "cell_type": "code",
   "execution_count": 28,
   "metadata": {},
   "outputs": [
    {
     "name": "stdout",
     "output_type": "stream",
     "text": [
      "{'12 sayısının karesi 144 sayısıdır.'}\n"
     ]
    }
   ],
   "source": [
    "kare_bul(12)"
   ]
  },
  {
   "cell_type": "code",
   "execution_count": 29,
   "metadata": {},
   "outputs": [
    {
     "name": "stdout",
     "output_type": "stream",
     "text": [
      "{'13 sayısının karesi 169 sayısıdır.'}\n"
     ]
    }
   ],
   "source": [
    "kare_bul(13)"
   ]
  },
  {
   "cell_type": "code",
   "execution_count": 30,
   "metadata": {},
   "outputs": [
    {
     "name": "stdout",
     "output_type": "stream",
     "text": [
      "{'-113 sayısının karesi 12769 sayısıdır.'}\n"
     ]
    }
   ],
   "source": [
    "kare_bul(-113)"
   ]
  },
  {
   "cell_type": "code",
   "execution_count": 32,
   "metadata": {},
   "outputs": [
    {
     "data": {
      "text/plain": [
       "'\\nFonksiyona parametre olarak nasıl bir isim verdiginizin önemi yoktur. Parantez içine\\nparametre olarak istediginiz kelimeyi yazabilirsiniz. Önemli olan, parantez içinde fonksiyonun\\nkaç parametre alacagını gösteren bir isaret olmasıdır'"
      ]
     },
     "execution_count": 32,
     "metadata": {},
     "output_type": "execute_result"
    }
   ],
   "source": [
    "\"\"\"\n",
    "Fonksiyona parametre olarak nasıl bir isim verdiginizin önemi yoktur. Parantez içine\n",
    "parametre olarak istediginiz kelimeyi yazabilirsiniz. Önemli olan, parantez içinde fonksiyonun\n",
    "kaç parametre alacagını gösteren bir isaret olmasıdır\"\"\""
   ]
  },
  {
   "cell_type": "code",
   "execution_count": 33,
   "metadata": {},
   "outputs": [],
   "source": [
    "def kare_bul(i):\n",
    "    çıktı = \"{} sayısının karesi {} sayısıdır\"\n",
    "    print(çıktı.format(i, i**2))"
   ]
  },
  {
   "cell_type": "code",
   "execution_count": 34,
   "metadata": {},
   "outputs": [
    {
     "name": "stdout",
     "output_type": "stream",
     "text": [
      "16 sayısının karesi 256 sayısıdır\n"
     ]
    }
   ],
   "source": [
    "kare_bul(16)"
   ]
  },
  {
   "cell_type": "code",
   "execution_count": 38,
   "metadata": {},
   "outputs": [
    {
     "data": {
      "text/plain": [
       "'Fonksiyonu olusturan kodlarda herhangi bir degisiklik yapmak istediginizde sadece fonksiyon\\ntanımının gövdesini degistirmeniz yeterli olacaktır\\nBu sayede sadece fonksiyon gövdesinde degisiklik yaparak, programın baska kısımlarını hiç\\netkilemeden yolumuza devam edebiliyoruz.'"
      ]
     },
     "execution_count": 38,
     "metadata": {},
     "output_type": "execute_result"
    }
   ],
   "source": [
    "\"\"\"Fonksiyonu olusturan kodlarda herhangi bir degisiklik yapmak istediginizde sadece fonksiyon\n",
    "tanımının gövdesini degistirmeniz yeterli olacaktır\n",
    "Bu sayede sadece fonksiyon gövdesinde degisiklik yaparak, programın baska kısımlarını hiç\n",
    "etkilemeden yolumuza devam edebiliyoruz.\"\"\""
   ]
  },
  {
   "cell_type": "code",
   "execution_count": 39,
   "metadata": {},
   "outputs": [],
   "source": [
    "def kare_bul(sayı):\n",
    "    çıktı = \"{} sayısının karesi {}, karekökü ise {} sayısıdır\"\n",
    "    print(çıktı.format(sayı, sayı**2, sayı**0.5))"
   ]
  },
  {
   "cell_type": "code",
   "execution_count": 40,
   "metadata": {},
   "outputs": [
    {
     "name": "stdout",
     "output_type": "stream",
     "text": [
      "16 sayısının karesi 256, karekökü ise 4.0 sayısıdır\n"
     ]
    }
   ],
   "source": [
    "kare_bul(16)"
   ]
  },
  {
   "cell_type": "markdown",
   "metadata": {},
   "source": [
    "## Parametreler ve Argümanlar"
   ]
  },
  {
   "cell_type": "code",
   "execution_count": 41,
   "metadata": {},
   "outputs": [],
   "source": [
    "# Parametre: fonksiyon tanımlarken parantez içinde\n",
    "# belirttigimiz, fonksiyon gövdesinde yapılan isin degisken ögelerini gösteren parçalardır"
   ]
  },
  {
   "cell_type": "code",
   "execution_count": 42,
   "metadata": {},
   "outputs": [],
   "source": [
    "def kopyala(kaynak_dosya, hedef_dizin):\n",
    "    çıktı = \"{} adlı dosya {} adlı dizin içine kopyalandı!\"\n",
    "    print(çıktı.format(kaynak_dosya, hedef_dizin))"
   ]
  },
  {
   "cell_type": "code",
   "execution_count": 43,
   "metadata": {},
   "outputs": [
    {
     "name": "stdout",
     "output_type": "stream",
     "text": [
      "deneme.txt adlı dosya /home/Desktop/PythonNotlar adlı dizin içine kopyalandı!\n"
     ]
    }
   ],
   "source": [
    "kopyala(\"deneme.txt\",\"/home/Desktop/PythonNotlar\")"
   ]
  },
  {
   "cell_type": "code",
   "execution_count": 44,
   "metadata": {},
   "outputs": [
    {
     "data": {
      "text/plain": [
       "'\\nBurada kopyala() adlı bir fonksiyon tanımladık. Bu fonksiyon toplam iki adet parametre\\nalıyor: kaynak_dosya ve hedef_dizin.\\ndeneme.txt” ve “/home/istihza/Desktop” degerlerine argüman adı verilir\\n\\n\\nYani bir\\nfonksiyonu tanımlarken belirledigimiz adlara parametre, aynı fonksiyonu çagırırken\\nbelirledigimiz adlara ise argüman deniyor\\n'"
      ]
     },
     "execution_count": 44,
     "metadata": {},
     "output_type": "execute_result"
    }
   ],
   "source": [
    "\"\"\"\n",
    "Burada kopyala() adlı bir fonksiyon tanımladık. Bu fonksiyon toplam iki adet parametre\n",
    "alıyor: kaynak_dosya ve hedef_dizin.\n",
    "deneme.txt” ve “/home/istihza/Desktop” degerlerine argüman adı verilir\n",
    "\n",
    "\n",
    "Yani bir\n",
    "fonksiyonu tanımlarken belirledigimiz adlara parametre, aynı fonksiyonu çagırırken\n",
    "belirledigimiz adlara ise argüman deniyor\n",
    "\"\"\""
   ]
  },
  {
   "cell_type": "markdown",
   "metadata": {},
   "source": [
    "## Sıralı (veya Isimsiz) Parametreler"
   ]
  },
  {
   "cell_type": "code",
   "execution_count": 45,
   "metadata": {},
   "outputs": [],
   "source": [
    "def kayit_olustur(isim, soyisim, isletim_sis, sehir):\n",
    "    print(\"-\"*30)\n",
    "    \n",
    "    print(\"isim                :\",isim)\n",
    "    print(\"soyisim             :\",soyisim)\n",
    "    print(\"isletim sistemi     :\",isletim_sis)\n",
    "    print(\"sehir               :\",sehir)\n",
    "    \n",
    "    print(\"-\"*30)"
   ]
  },
  {
   "cell_type": "code",
   "execution_count": 46,
   "metadata": {},
   "outputs": [
    {
     "name": "stdout",
     "output_type": "stream",
     "text": [
      "------------------------------\n",
      "isim                : Mert\n",
      "soyisim             : Pehlivan\n",
      "isletim sistemi     : Linux\n",
      "sehir               : Bursa\n",
      "------------------------------\n"
     ]
    }
   ],
   "source": [
    "kayit_olustur(\"Mert\",\"Pehlivan\",\"Linux\",\"Bursa\")"
   ]
  },
  {
   "cell_type": "code",
   "execution_count": 48,
   "metadata": {},
   "outputs": [
    {
     "data": {
      "text/plain": [
       "'\\nverilis sırası önem tasıyan bu tür parametrelere ‘sıralı parametreler’ (veya isimsiz parametreler) adı verilir\\n'"
      ]
     },
     "execution_count": 48,
     "metadata": {},
     "output_type": "execute_result"
    }
   ],
   "source": [
    "# Burada yazılan parametrelerin sırası büyük önem taşır.\n",
    "\"\"\"\n",
    "verilis sırası önem tasıyan bu tür parametrelere ‘sıralı parametreler’ (veya isimsiz parametreler) adı verilir\n",
    "\"\"\""
   ]
  },
  {
   "cell_type": "markdown",
   "metadata": {},
   "source": [
    "## Isimli Parametreler"
   ]
  },
  {
   "cell_type": "code",
   "execution_count": 64,
   "metadata": {},
   "outputs": [
    {
     "data": {
      "text/plain": [
       "'parametre sayısının\\nçok oldugu fonksiyonlarda parametre sırasını akılda tutmak zor olabilir. Böyle durumlarda\\nparametreleri isimleri ile birlikte kullanmayı tercih edebiliriz'"
      ]
     },
     "execution_count": 64,
     "metadata": {},
     "output_type": "execute_result"
    }
   ],
   "source": [
    "\"\"\"parametre sayısının\n",
    "çok oldugu fonksiyonlarda parametre sırasını akılda tutmak zor olabilir. Böyle durumlarda\n",
    "parametreleri isimleri ile birlikte kullanmayı tercih edebiliriz\"\"\""
   ]
  },
  {
   "cell_type": "code",
   "execution_count": 65,
   "metadata": {},
   "outputs": [],
   "source": [
    "def kayit_olustur(isim, soyisim, isletim_sis, sehir):\n",
    "    print(\"-\"*30)\n",
    "    \n",
    "    print(\"isim                :\",isim)\n",
    "    print(\"soyisim             :\",soyisim)\n",
    "    print(\"isletim sistemi     :\",isletim_sis)\n",
    "    print(\"sehir               :\",sehir)\n",
    "    \n",
    "    print(\"-\"*30)"
   ]
  },
  {
   "cell_type": "code",
   "execution_count": 66,
   "metadata": {},
   "outputs": [
    {
     "name": "stdout",
     "output_type": "stream",
     "text": [
      "------------------------------\n",
      "isim                : Mert\n",
      "soyisim             : Pehlivan\n",
      "isletim sistemi     : Linux\n",
      "sehir               : Bursa\n",
      "------------------------------\n"
     ]
    }
   ],
   "source": [
    "kayit_olustur(isim = \"Mert\", soyisim=\"Pehlivan\", isletim_sis=\"Linux\",sehir=\"Bursa\")"
   ]
  },
  {
   "cell_type": "code",
   "execution_count": 67,
   "metadata": {},
   "outputs": [
    {
     "name": "stdout",
     "output_type": "stream",
     "text": [
      "------------------------------\n",
      "isim                : Mert\n",
      "soyisim             : Pehlivan\n",
      "isletim sistemi     : Linux\n",
      "sehir               : Bursa\n",
      "------------------------------\n"
     ]
    }
   ],
   "source": [
    "kayit_olustur(soyisim=\"Pehlivan\",sehir=\"Bursa\",isim = \"Mert\",  isletim_sis=\"Linux\")"
   ]
  },
  {
   "cell_type": "code",
   "execution_count": 68,
   "metadata": {},
   "outputs": [
    {
     "data": {
      "text/plain": [
       "'\\nBöylece fonksiyon parametrelerini istedigimiz sıra ile kullanabiliriz. Ancak burada dikkat\\netmemiz gereken bazı noktalar var\\n'"
      ]
     },
     "execution_count": 68,
     "metadata": {},
     "output_type": "execute_result"
    }
   ],
   "source": [
    "\"\"\"\n",
    "Böylece fonksiyon parametrelerini istedigimiz sıra ile kullanabiliriz. Ancak burada dikkat\n",
    "etmemiz gereken bazı noktalar var\n",
    "\"\"\""
   ]
  },
  {
   "cell_type": "code",
   "execution_count": 69,
   "metadata": {},
   "outputs": [],
   "source": [
    "# İsimli bir parametrenin ardından sıralı bir parametre gelemez"
   ]
  },
  {
   "cell_type": "code",
   "execution_count": 70,
   "metadata": {},
   "outputs": [
    {
     "ename": "SyntaxError",
     "evalue": "positional argument follows keyword argument (<ipython-input-70-3df40523719b>, line 1)",
     "output_type": "error",
     "traceback": [
      "\u001b[1;36m  File \u001b[1;32m\"<ipython-input-70-3df40523719b>\"\u001b[1;36m, line \u001b[1;32m1\u001b[0m\n\u001b[1;33m    kayit_olustur(soyisim=\"Pehlivan\", isim=\"Mert\", \"Linux\", \"Bursa\")\u001b[0m\n\u001b[1;37m                                                   ^\u001b[0m\n\u001b[1;31mSyntaxError\u001b[0m\u001b[1;31m:\u001b[0m positional argument follows keyword argument\n"
     ]
    }
   ],
   "source": [
    "kayit_olustur(soyisim=\"Pehlivan\", isim=\"Mert\", \"Linux\", \"Bursa\")"
   ]
  },
  {
   "cell_type": "code",
   "execution_count": 71,
   "metadata": {},
   "outputs": [
    {
     "ename": "TypeError",
     "evalue": "kayit_olustur() got multiple values for argument 'soyisim'",
     "output_type": "error",
     "traceback": [
      "\u001b[1;31m---------------------------------------------------------------------------\u001b[0m",
      "\u001b[1;31mTypeError\u001b[0m                                 Traceback (most recent call last)",
      "\u001b[1;32m<ipython-input-71-428166a74796>\u001b[0m in \u001b[0;36m<module>\u001b[1;34m\u001b[0m\n\u001b[1;32m----> 1\u001b[1;33m \u001b[0mkayit_olustur\u001b[0m\u001b[1;33m(\u001b[0m \u001b[1;34m\"Linux\"\u001b[0m\u001b[1;33m,\u001b[0m \u001b[1;34m\"Bursa\"\u001b[0m\u001b[1;33m,\u001b[0m\u001b[0msoyisim\u001b[0m\u001b[1;33m=\u001b[0m\u001b[1;34m\"Pehlivan\"\u001b[0m\u001b[1;33m,\u001b[0m \u001b[0misim\u001b[0m\u001b[1;33m=\u001b[0m\u001b[1;34m\"Mert\"\u001b[0m\u001b[1;33m)\u001b[0m\u001b[1;33m\u001b[0m\u001b[1;33m\u001b[0m\u001b[0m\n\u001b[0m",
      "\u001b[1;31mTypeError\u001b[0m: kayit_olustur() got multiple values for argument 'soyisim'"
     ]
    }
   ],
   "source": [
    "kayit_olustur( \"Linux\", \"Bursa\",soyisim=\"Pehlivan\", isim=\"Mert\")"
   ]
  },
  {
   "cell_type": "code",
   "execution_count": 73,
   "metadata": {},
   "outputs": [
    {
     "name": "stdout",
     "output_type": "stream",
     "text": [
      "------------------------------\n",
      "isim                : Mert\n",
      "soyisim             : Pehlivan\n",
      "isletim sistemi     : Linux\n",
      "sehir               : Bursa\n",
      "------------------------------\n"
     ]
    }
   ],
   "source": [
    "kayit_olustur(\"Mert\", \"Pehlivan\",isletim_sis=\"Linux\",sehir= \"Bursa\")"
   ]
  },
  {
   "cell_type": "code",
   "execution_count": 74,
   "metadata": {},
   "outputs": [
    {
     "name": "stdout",
     "output_type": "stream",
     "text": [
      "------------------------------\n",
      "isim                : Mert\n",
      "soyisim             : Pehlivan\n",
      "isletim sistemi     : Linux\n",
      "sehir               : Bursa\n",
      "------------------------------\n"
     ]
    }
   ],
   "source": [
    "kayit_olustur(\"Mert\", \"Pehlivan\",sehir= \"Bursa\",isletim_sis=\"Linux\")"
   ]
  },
  {
   "cell_type": "markdown",
   "metadata": {},
   "source": [
    "## Varsayılan Degerli Parametreler"
   ]
  },
  {
   "cell_type": "code",
   "execution_count": 77,
   "metadata": {},
   "outputs": [
    {
     "name": "stdout",
     "output_type": "stream",
     "text": [
      "MerhabaDünya."
     ]
    }
   ],
   "source": [
    "print(\"Merhaba\",\"Dünya\",sep=\"\",end=\".\")"
   ]
  },
  {
   "cell_type": "code",
   "execution_count": 78,
   "metadata": {},
   "outputs": [],
   "source": [
    "# sep ve end parametrelerine değer atamazsak default olarak belli bir değere sahip olurlar.\n",
    "# Bu şekildeki parametrelere varsayılan degerli parametre denir."
   ]
  },
  {
   "cell_type": "code",
   "execution_count": 1,
   "metadata": {},
   "outputs": [],
   "source": [
    "def isim_yazma(isim=\"Tanımsız\"):\n",
    "    print(\"İsminiz: {}\".format(isim))"
   ]
  },
  {
   "cell_type": "code",
   "execution_count": 3,
   "metadata": {},
   "outputs": [
    {
     "name": "stdout",
     "output_type": "stream",
     "text": [
      "İsminiz: Tanımsız\n"
     ]
    }
   ],
   "source": [
    "isim_yazma()"
   ]
  },
  {
   "cell_type": "code",
   "execution_count": 4,
   "metadata": {},
   "outputs": [
    {
     "name": "stdout",
     "output_type": "stream",
     "text": [
      "İsminiz: Mert\n"
     ]
    }
   ],
   "source": [
    "isim_yazma(\"Mert\")"
   ]
  },
  {
   "cell_type": "code",
   "execution_count": 5,
   "metadata": {},
   "outputs": [
    {
     "name": "stdout",
     "output_type": "stream",
     "text": [
      "İsminiz: Fırat\n"
     ]
    }
   ],
   "source": [
    "isim_yazma(\"Fırat\")"
   ]
  },
  {
   "cell_type": "markdown",
   "metadata": {},
   "source": [
    "## Rastgele Sayıda Isimsiz Parametre Belirleme"
   ]
  },
  {
   "cell_type": "code",
   "execution_count": 2,
   "metadata": {},
   "outputs": [],
   "source": [
    "# sınırsız parametre alabilen fonksiyonlar üretebilir miyiz?"
   ]
  },
  {
   "cell_type": "code",
   "execution_count": 4,
   "metadata": {},
   "outputs": [],
   "source": [
    "def fonksiyon (*parametreler):\n",
    "    print(parametreler)"
   ]
  },
  {
   "cell_type": "code",
   "execution_count": 5,
   "metadata": {},
   "outputs": [
    {
     "name": "stdout",
     "output_type": "stream",
     "text": [
      "(1, 2, 3, 4, 5, 6)\n"
     ]
    }
   ],
   "source": [
    "fonksiyon(1,2,3,4,5,6)"
   ]
  },
  {
   "cell_type": "code",
   "execution_count": 6,
   "metadata": {},
   "outputs": [
    {
     "data": {
      "text/plain": [
       "'\\nGördügünüz gibi, fonksiyon tanımı içinde kullandıgımız * isareti sayesinde fonksiyonumuzun\\npratik olarak sınırsız sayıda parametre kabul etmesini saglayabiliyoruz. Bu arada, bu tür\\nfonksiyonların alabilecegi parametre sayısı, dedigimiz gibi, pratikte sınırsızdır, ama teknik\\nolarak bu sayı 256 adedi geçemez.\\n'"
      ]
     },
     "execution_count": 6,
     "metadata": {},
     "output_type": "execute_result"
    }
   ],
   "source": [
    "\"\"\"\n",
    "Gördügünüz gibi, fonksiyon tanımı içinde kullandıgımız * isareti sayesinde fonksiyonumuzun\n",
    "pratik olarak sınırsız sayıda parametre kabul etmesini saglayabiliyoruz. Bu arada, bu tür\n",
    "fonksiyonların alabilecegi parametre sayısı, dedigimiz gibi, pratikte sınırsızdır, ama teknik\n",
    "olarak bu sayı 256 adedi geçemez.\n",
    "\"\"\""
   ]
  },
  {
   "cell_type": "code",
   "execution_count": 7,
   "metadata": {},
   "outputs": [
    {
     "data": {
      "text/plain": [
       "'\\nYukarıdaki kodların verdigi çıktının bir demet olduguna dikkatinizi çekmek isterim. Bu bilgiye\\nsahip olduktan sonra, bu tür fonksiyonları demet isleme kurallarına göre istediginiz sekilde\\nmanipüle edebilirsiniz.\\n'"
      ]
     },
     "execution_count": 7,
     "metadata": {},
     "output_type": "execute_result"
    }
   ],
   "source": [
    "\"\"\"\n",
    "Yukarıdaki kodların verdigi çıktının bir demet olduguna dikkatinizi çekmek isterim. Bu bilgiye\n",
    "sahip olduktan sonra, bu tür fonksiyonları demet isleme kurallarına göre istediginiz sekilde\n",
    "manipüle edebilirsiniz.\n",
    "\"\"\""
   ]
  },
  {
   "cell_type": "code",
   "execution_count": 8,
   "metadata": {},
   "outputs": [],
   "source": [
    "# aşağıdaki fonksiyon verilen bütün parametreleri birbiriyle çarpar."
   ]
  },
  {
   "cell_type": "code",
   "execution_count": 9,
   "metadata": {},
   "outputs": [],
   "source": [
    "def carp(*sayilar):\n",
    "    sonuc = 1\n",
    "    for i in sayilar:\n",
    "        sonuc *= i\n",
    "    print(sonuc)"
   ]
  },
  {
   "cell_type": "code",
   "execution_count": 10,
   "metadata": {},
   "outputs": [
    {
     "name": "stdout",
     "output_type": "stream",
     "text": [
      "24\n"
     ]
    }
   ],
   "source": [
    "carp(1,2,3,4)"
   ]
  },
  {
   "cell_type": "code",
   "execution_count": 11,
   "metadata": {},
   "outputs": [],
   "source": [
    "# fonksiyon tanımında parametrenin soluna * getirdigimizde, bu fonksiyon çagrılırken verilen\n",
    "# argümanlar tek bir degisken içinde bir demet olarak toplanıyor."
   ]
  },
  {
   "cell_type": "code",
   "execution_count": 12,
   "metadata": {},
   "outputs": [],
   "source": [
    "# Python dünyasında * isaretiyle birlikte kullanılacak parametrenin adı geleneksel olarak, ‘argümanlar’ anlamında ‘args’tır"
   ]
  },
  {
   "cell_type": "code",
   "execution_count": 14,
   "metadata": {},
   "outputs": [
    {
     "data": {
      "text/plain": [
       "'def fonksiyon(*args):\\n    .......    '"
      ]
     },
     "execution_count": 14,
     "metadata": {},
     "output_type": "execute_result"
    }
   ],
   "source": [
    "\"\"\"def fonksiyon(*args):\n",
    "    .......    \"\"\""
   ]
  },
  {
   "cell_type": "markdown",
   "metadata": {},
   "source": [
    "## Rastgele Sayıda Isimli Parametre Belirleme"
   ]
  },
  {
   "cell_type": "code",
   "execution_count": 21,
   "metadata": {},
   "outputs": [],
   "source": [
    "def fonksiyon(**parametreler):\n",
    "    print(parametreler)"
   ]
  },
  {
   "cell_type": "code",
   "execution_count": 22,
   "metadata": {},
   "outputs": [
    {
     "name": "stdout",
     "output_type": "stream",
     "text": [
      "{'isim': 'Mert', 'soyisim': 'Pehlivan', 'meslek': 'Mühendis', 'sehir': 'Bursa'}\n"
     ]
    }
   ],
   "source": [
    "fonksiyon(isim = \"Mert\", soyisim = \"Pehlivan\", meslek = \"Mühendis\", sehir = \"Bursa\")"
   ]
  },
  {
   "cell_type": "code",
   "execution_count": 23,
   "metadata": {},
   "outputs": [
    {
     "data": {
      "text/plain": [
       "'\\nfonksiyonu tanımlarken parametremizin sol tarafına yerlestirdigimiz **\\nisareti, bu fonksiyonu çagırırken yazdıgımız isimli parametrelerin bize bir sözlük olarak\\nverilmesini saglıyor. Bu yapının bize bir sözlük verdigini bildikten sonra, bunu sözlük veri\\ntipinin kuralları çerçevesinde istedigimiz sekilde evirip çevirebiliriz\\n'"
      ]
     },
     "execution_count": 23,
     "metadata": {},
     "output_type": "execute_result"
    }
   ],
   "source": [
    "\"\"\"\n",
    "fonksiyonu tanımlarken parametremizin sol tarafına yerlestirdigimiz **\n",
    "isareti, bu fonksiyonu çagırırken yazdıgımız isimli parametrelerin bize bir sözlük olarak\n",
    "verilmesini saglıyor. Bu yapının bize bir sözlük verdigini bildikten sonra, bunu sözlük veri\n",
    "tipinin kuralları çerçevesinde istedigimiz sekilde evirip çevirebiliriz\n",
    "\"\"\""
   ]
  },
  {
   "cell_type": "code",
   "execution_count": 32,
   "metadata": {},
   "outputs": [],
   "source": [
    "def kayit_olustur(**bilgiler):\n",
    "    print(\"-\"*30)\n",
    "    for anahtar,deger in bilgiler.items():\n",
    "        print(\"{:<10}: {}\".format(anahtar,deger))\n",
    "    print(\"-\"*30)"
   ]
  },
  {
   "cell_type": "code",
   "execution_count": 33,
   "metadata": {},
   "outputs": [
    {
     "name": "stdout",
     "output_type": "stream",
     "text": [
      "------------------------------\n",
      "ad        : Mert\n",
      "soyad     : Pehlivan\n",
      "şehir     : İstanbul\n",
      "tel       : 05335552211\n",
      "------------------------------\n"
     ]
    }
   ],
   "source": [
    "kayit_olustur(ad=\"Mert\", soyad=\"Pehlivan\", şehir=\"İstanbul\", tel=\"05335552211\")"
   ]
  },
  {
   "cell_type": "code",
   "execution_count": 34,
   "metadata": {},
   "outputs": [
    {
     "data": {
      "text/plain": [
       "'\\nGördügünüz gibi, ** isaretlerini kullanmamız sayesinde hem adlarını hem de degerlerini\\nkendimiz belirledigimiz bir kisi veritabanı olusturma imkanı elde ediyoruz. Üstelik bu\\nveritabanının, kisiye ait kaç farklı bilgi içerecegini de tamamen kendimiz belirleyebiliyoruz\\n'"
      ]
     },
     "execution_count": 34,
     "metadata": {},
     "output_type": "execute_result"
    }
   ],
   "source": [
    "\"\"\"\n",
    "Gördügünüz gibi, ** isaretlerini kullanmamız sayesinde hem adlarını hem de degerlerini\n",
    "kendimiz belirledigimiz bir kisi veritabanı olusturma imkanı elde ediyoruz. Üstelik bu\n",
    "veritabanının, kisiye ait kaç farklı bilgi içerecegini de tamamen kendimiz belirleyebiliyoruz\n",
    "\"\"\""
   ]
  },
  {
   "cell_type": "code",
   "execution_count": 35,
   "metadata": {},
   "outputs": [],
   "source": [
    "sozluk = {\"a\":1,\"b\":2}"
   ]
  },
  {
   "cell_type": "code",
   "execution_count": 36,
   "metadata": {},
   "outputs": [
    {
     "data": {
      "text/plain": [
       "{'a': 1, 'b': 2}"
      ]
     },
     "execution_count": 36,
     "metadata": {},
     "output_type": "execute_result"
    }
   ],
   "source": [
    "sozluk"
   ]
  },
  {
   "cell_type": "code",
   "execution_count": 37,
   "metadata": {},
   "outputs": [
    {
     "data": {
      "text/plain": [
       "dict_items([('a', 1), ('b', 2)])"
      ]
     },
     "execution_count": 37,
     "metadata": {},
     "output_type": "execute_result"
    }
   ],
   "source": [
    "sozluk.items()"
   ]
  },
  {
   "cell_type": "code",
   "execution_count": 38,
   "metadata": {},
   "outputs": [
    {
     "data": {
      "text/plain": [
       "'\\nTıpkı * isaretlerinin betimledigi parametrenin geleneksel olarak ‘args’ seklinde adlandırılması\\ngibi, ** isaretlerinin betimledigi parametre de geleneksel olarak ‘kwargs’ seklinde adlandırılır.\\nDolayısıyla yukarıdaki gibi bir fonksiyonu Python programcıları söyle tanımlar:\\n'"
      ]
     },
     "execution_count": 38,
     "metadata": {},
     "output_type": "execute_result"
    }
   ],
   "source": [
    "\"\"\"\n",
    "Tıpkı * isaretlerinin betimledigi parametrenin geleneksel olarak ‘args’ seklinde adlandırılması\n",
    "gibi, ** isaretlerinin betimledigi parametre de geleneksel olarak ‘kwargs’ seklinde adlandırılır.\n",
    "Dolayısıyla yukarıdaki gibi bir fonksiyonu Python programcıları söyle tanımlar:\n",
    "\"\"\""
   ]
  },
  {
   "cell_type": "code",
   "execution_count": 39,
   "metadata": {},
   "outputs": [
    {
     "data": {
      "text/plain": [
       "'\\ndef fonskiyon(**kwargs):\\n    ....\\n'"
      ]
     },
     "execution_count": 39,
     "metadata": {},
     "output_type": "execute_result"
    }
   ],
   "source": [
    "\"\"\"\n",
    "def fonskiyon(**kwargs):\n",
    "    ....\n",
    "\"\"\""
   ]
  },
  {
   "cell_type": "code",
   "execution_count": 40,
   "metadata": {},
   "outputs": [],
   "source": [
    "def karsılık_bul(*args,**kwargs):\n",
    "    for sozcuk in args:\n",
    "        if sozcuk in kwargs:\n",
    "            print(\"{} = {}\".format(sozcuk,kwargs[sozcuk]))\n",
    "        else:\n",
    "            print(\"{} kelimesi sözlükte yok!\".format(sozcuk))"
   ]
  },
  {
   "cell_type": "code",
   "execution_count": 41,
   "metadata": {},
   "outputs": [],
   "source": [
    "sozluk = {\n",
    "    \"kitap\" : \"book\",\n",
    "    \"bilgisayar\" : \"computer\",\n",
    "    \"programlama\" : \"programming\"\n",
    "}"
   ]
  },
  {
   "cell_type": "code",
   "execution_count": 42,
   "metadata": {},
   "outputs": [
    {
     "name": "stdout",
     "output_type": "stream",
     "text": [
      "kitap = book\n",
      "bilgisayar = computer\n",
      "programlama = programming\n",
      "fonksiyon kelimesi sözlükte yok!\n"
     ]
    }
   ],
   "source": [
    "karsılık_bul(\"kitap\",\"bilgisayar\",\"programlama\",\"fonksiyon\",**sozluk)"
   ]
  },
  {
   "cell_type": "markdown",
   "metadata": {},
   "source": [
    "## return Deyimi"
   ]
  },
  {
   "cell_type": "code",
   "execution_count": 1,
   "metadata": {},
   "outputs": [],
   "source": [
    "def ismin_ne():\n",
    "    isim = input(\"ismin ne? \")\n",
    "    print(isim)"
   ]
  },
  {
   "cell_type": "code",
   "execution_count": 3,
   "metadata": {},
   "outputs": [
    {
     "name": "stdout",
     "output_type": "stream",
     "text": [
      "ismin ne? Mert\n",
      "Mert\n"
     ]
    }
   ],
   "source": [
    "ismin_ne()"
   ]
  },
  {
   "cell_type": "code",
   "execution_count": 4,
   "metadata": {},
   "outputs": [
    {
     "data": {
      "text/plain": [
       "'\\nfonksiyonun tek islevi kullanıcıdan aldıgı isim bilgisini ekrana basmaktır. Aldıgınız\\nbu veriyi baska yerlerde kullanamazsınız. Bu fonksiyonu çagırdıgınız anda kullanıcıya ismi\\nsorulacak ve alınan cevap ekrana basılacaktır. Ancak siz, tanımladıgınız fonksiyonların tek\\ngörevinin bir veriyi ekrana basmak olmasını istemeyebilirsiniz\\n'"
      ]
     },
     "execution_count": 4,
     "metadata": {},
     "output_type": "execute_result"
    }
   ],
   "source": [
    "\"\"\"\n",
    "fonksiyonun tek islevi kullanıcıdan aldıgı isim bilgisini ekrana basmaktır. Aldıgınız\n",
    "bu veriyi baska yerlerde kullanamazsınız. Bu fonksiyonu çagırdıgınız anda kullanıcıya ismi\n",
    "sorulacak ve alınan cevap ekrana basılacaktır. Ancak siz, tanımladıgınız fonksiyonların tek\n",
    "görevinin bir veriyi ekrana basmak olmasını istemeyebilirsiniz\n",
    "\"\"\""
   ]
  },
  {
   "cell_type": "code",
   "execution_count": 5,
   "metadata": {},
   "outputs": [
    {
     "name": "stdout",
     "output_type": "stream",
     "text": [
      "ismin ne? Mert\n",
      "Mert\n",
      "Merhaba None. Nasılsın?\n"
     ]
    }
   ],
   "source": [
    "print(\"Merhaba {}. Nasılsın?\".format(ismin_ne()))"
   ]
  },
  {
   "cell_type": "code",
   "execution_count": 6,
   "metadata": {},
   "outputs": [
    {
     "name": "stdout",
     "output_type": "stream",
     "text": [
      "ismin ne? Mert\n",
      "Mert\n",
      "None\n"
     ]
    }
   ],
   "source": [
    "print(ismin_ne())"
   ]
  },
  {
   "cell_type": "code",
   "execution_count": 7,
   "metadata": {},
   "outputs": [],
   "source": [
    "def ismin_ne():\n",
    "    isim = input(\"ismin ne? \")\n",
    "    return isim"
   ]
  },
  {
   "cell_type": "code",
   "execution_count": 8,
   "metadata": {},
   "outputs": [
    {
     "name": "stdout",
     "output_type": "stream",
     "text": [
      "ismin ne? Mert\n"
     ]
    },
    {
     "data": {
      "text/plain": [
       "'Mert'"
      ]
     },
     "execution_count": 8,
     "metadata": {},
     "output_type": "execute_result"
    }
   ],
   "source": [
    "ismin_ne()"
   ]
  },
  {
   "cell_type": "code",
   "execution_count": 9,
   "metadata": {},
   "outputs": [
    {
     "data": {
      "text/plain": [
       "'Gördügünüz gibi, fonksiyonu çagırdıgımızda yalnızca fonksiyon gövdesindeki input()\\nfonksiyonu çalıstı, ama bu fonksiyondan gelen veri ekrana çıktı olarak verilmedi. Çünkü\\nbiz burada herhangi bir ekrana basma (‘print’) islemi yapmadık. Yaptıgımız tek sey isim adlı\\ndegiskeni ‘döndürmek’.'"
      ]
     },
     "execution_count": 9,
     "metadata": {},
     "output_type": "execute_result"
    }
   ],
   "source": [
    "\"\"\"Gördügünüz gibi, fonksiyonu çagırdıgımızda yalnızca fonksiyon gövdesindeki input()\n",
    "fonksiyonu çalıstı, ama bu fonksiyondan gelen veri ekrana çıktı olarak verilmedi. Çünkü\n",
    "biz burada herhangi bir ekrana basma (‘print’) islemi yapmadık. Yaptıgımız tek sey isim adlı\n",
    "degiskeni ‘döndürmek’.\"\"\""
   ]
  },
  {
   "cell_type": "code",
   "execution_count": 10,
   "metadata": {},
   "outputs": [
    {
     "data": {
      "text/plain": [
       "'\\nEger tanımladıgımız bir fonksiyonda return deyimini kullanarak herhangi bir deger\\ndöndürmezsek, Python fonksiyondan hususi bir degerin döndürülmedigini göstermek için\\n‘None’ adlı bir deger döndürür... Iste yukarıda tanımladıgımız ilk ismin_ne() fonksiyonunu\\nprint(ismin_ne()) seklinde çagırdıgımızda ekranda None degerinin görünmesinin nedeni\\nbudur.\\n'"
      ]
     },
     "execution_count": 10,
     "metadata": {},
     "output_type": "execute_result"
    }
   ],
   "source": [
    "\"\"\"\n",
    "Eger tanımladıgımız bir fonksiyonda return deyimini kullanarak herhangi bir deger\n",
    "döndürmezsek, Python fonksiyondan hususi bir degerin döndürülmedigini göstermek için\n",
    "‘None’ adlı bir deger döndürür... Iste yukarıda tanımladıgımız ilk ismin_ne() fonksiyonunu\n",
    "print(ismin_ne()) seklinde çagırdıgımızda ekranda None degerinin görünmesinin nedeni\n",
    "budur.\n",
    "\"\"\""
   ]
  },
  {
   "cell_type": "code",
   "execution_count": 11,
   "metadata": {},
   "outputs": [],
   "source": [
    "#Peki bir fonksiyon içinde herhangi bir veriyi ekrana basmayıp return deyimi yardımıyla döndürmemizin bize ne faydası var?"
   ]
  },
  {
   "cell_type": "code",
   "execution_count": 12,
   "metadata": {},
   "outputs": [
    {
     "data": {
      "text/plain": [
       "'\\nAslında bunun cevabı çok açık. Bir fonksiyon içinde bir degeri döndürmek yerine ekrana\\nbastıgınızda o fonksiyonun islevini alabildigine kısıtlamıs oluyorsunuz. Fonksiyonunuzun tek\\nislevi bir degeri ekrana basmak oluyor. Su örnekte de gösterdigimiz gibi, bu degeri daha sonra\\nbaska ortamlarda kullanamıyoruz\\n'"
      ]
     },
     "execution_count": 12,
     "metadata": {},
     "output_type": "execute_result"
    }
   ],
   "source": [
    "\"\"\"\n",
    "Aslında bunun cevabı çok açık. Bir fonksiyon içinde bir degeri döndürmek yerine ekrana\n",
    "bastıgınızda o fonksiyonun islevini alabildigine kısıtlamıs oluyorsunuz. Fonksiyonunuzun tek\n",
    "islevi bir degeri ekrana basmak oluyor. Su örnekte de gösterdigimiz gibi, bu degeri daha sonra\n",
    "baska ortamlarda kullanamıyoruz\n",
    "\"\"\""
   ]
  },
  {
   "cell_type": "code",
   "execution_count": 17,
   "metadata": {},
   "outputs": [
    {
     "name": "stdout",
     "output_type": "stream",
     "text": [
      "ismin ne? Mert\n",
      "Merhaba Mert. Nasılsın?\n"
     ]
    }
   ],
   "source": [
    "def ismin_ne():\n",
    "    isim = input(\"ismin ne? \")\n",
    "    return isim\n",
    "print(\"Merhaba {}. Nasılsın?\".format(ismin_ne()))"
   ]
  },
  {
   "cell_type": "code",
   "execution_count": 19,
   "metadata": {},
   "outputs": [
    {
     "data": {
      "text/plain": [
       "'Yani bu degeri sadece ekrana basmakla sınırlamıyoruz kendimizi. Hatta fonksiyondan\\ndöndürdügümüz degeri baska bir degiskene atama imkanına dahi sahibiz bu sekilde'"
      ]
     },
     "execution_count": 19,
     "metadata": {},
     "output_type": "execute_result"
    }
   ],
   "source": [
    "\"\"\"Yani bu degeri sadece ekrana basmakla sınırlamıyoruz kendimizi. Hatta fonksiyondan\n",
    "döndürdügümüz degeri baska bir degiskene atama imkanına dahi sahibiz bu sekilde\"\"\""
   ]
  },
  {
   "cell_type": "code",
   "execution_count": 20,
   "metadata": {},
   "outputs": [
    {
     "name": "stdout",
     "output_type": "stream",
     "text": [
      "ismin ne? Mert\n"
     ]
    }
   ],
   "source": [
    "ad = ismin_ne()"
   ]
  },
  {
   "cell_type": "code",
   "execution_count": 21,
   "metadata": {},
   "outputs": [
    {
     "data": {
      "text/plain": [
       "'Mert'"
      ]
     },
     "execution_count": 21,
     "metadata": {},
     "output_type": "execute_result"
    }
   ],
   "source": [
    "ad"
   ]
  },
  {
   "cell_type": "code",
   "execution_count": 22,
   "metadata": {},
   "outputs": [
    {
     "data": {
      "text/plain": [
       "'Bu deyim, içinde bulundugu fonksiyonun çalısma sürecini kesintiye ugratır. Yani return\\ndeyimini kullandıgınız satırdan sonra gelen hiçbir kod çalısmaz. Basit bir örnek verelim'"
      ]
     },
     "execution_count": 22,
     "metadata": {},
     "output_type": "execute_result"
    }
   ],
   "source": [
    "\"\"\"Bu deyim, içinde bulundugu fonksiyonun çalısma sürecini kesintiye ugratır. Yani return\n",
    "deyimini kullandıgınız satırdan sonra gelen hiçbir kod çalısmaz. Basit bir örnek verelim\"\"\""
   ]
  },
  {
   "cell_type": "code",
   "execution_count": 23,
   "metadata": {},
   "outputs": [],
   "source": [
    "def fonk():\n",
    "    print(3)\n",
    "    return\n",
    "    print(5)"
   ]
  },
  {
   "cell_type": "code",
   "execution_count": 24,
   "metadata": {},
   "outputs": [
    {
     "name": "stdout",
     "output_type": "stream",
     "text": [
      "3\n"
     ]
    }
   ],
   "source": [
    "fonk()"
   ]
  },
  {
   "cell_type": "code",
   "execution_count": 25,
   "metadata": {},
   "outputs": [],
   "source": [
    "# Bu özellikten çesitli sekillerde yararlanabilirsiniz"
   ]
  },
  {
   "cell_type": "code",
   "execution_count": 27,
   "metadata": {},
   "outputs": [],
   "source": [
    "def fonk(n):\n",
    "    if n < 0:\n",
    "        return 'eksi degerli sayı olamaz!'\n",
    "    else:\n",
    "        return n"
   ]
  },
  {
   "cell_type": "code",
   "execution_count": 29,
   "metadata": {},
   "outputs": [],
   "source": [
    "f = fonk(5)"
   ]
  },
  {
   "cell_type": "code",
   "execution_count": 30,
   "metadata": {},
   "outputs": [
    {
     "data": {
      "text/plain": [
       "5"
      ]
     },
     "execution_count": 30,
     "metadata": {},
     "output_type": "execute_result"
    }
   ],
   "source": [
    "f"
   ]
  },
  {
   "cell_type": "code",
   "execution_count": 31,
   "metadata": {},
   "outputs": [],
   "source": [
    "d = fonk(-5)"
   ]
  },
  {
   "cell_type": "code",
   "execution_count": 32,
   "metadata": {},
   "outputs": [
    {
     "data": {
      "text/plain": [
       "'eksi degerli sayı olamaz!'"
      ]
     },
     "execution_count": 32,
     "metadata": {},
     "output_type": "execute_result"
    }
   ],
   "source": [
    "d"
   ]
  },
  {
   "cell_type": "markdown",
   "metadata": {},
   "source": [
    "## Fonksiyonların Kapsamı ve global Deyimi"
   ]
  },
  {
   "cell_type": "code",
   "execution_count": 33,
   "metadata": {},
   "outputs": [],
   "source": [
    "x = 0\n",
    "\n",
    "def fonk():\n",
    "    x = 1\n",
    "    return x"
   ]
  },
  {
   "cell_type": "code",
   "execution_count": 36,
   "metadata": {},
   "outputs": [],
   "source": [
    "# Acaba fonksiyon içinde tanımladıgımız x degiskeni, fonksiyon dısındaki x degiskeninin degerini degistiriyor mu?"
   ]
  },
  {
   "cell_type": "code",
   "execution_count": 37,
   "metadata": {},
   "outputs": [],
   "source": [
    "# GÖRELİM"
   ]
  },
  {
   "cell_type": "code",
   "execution_count": 38,
   "metadata": {},
   "outputs": [],
   "source": [
    "x = 0\n",
    "\n",
    "def fonk():\n",
    "    x = 1\n",
    "    return x"
   ]
  },
  {
   "cell_type": "code",
   "execution_count": 40,
   "metadata": {},
   "outputs": [
    {
     "name": "stdout",
     "output_type": "stream",
     "text": [
      "fonksiyon içindeki x:  1\n"
     ]
    }
   ],
   "source": [
    "print(\"fonksiyon içindeki x: \",fonk())"
   ]
  },
  {
   "cell_type": "code",
   "execution_count": 41,
   "metadata": {},
   "outputs": [
    {
     "name": "stdout",
     "output_type": "stream",
     "text": [
      "fonksiyon dışındaki x:  0\n"
     ]
    }
   ],
   "source": [
    "print(\"fonksiyon dışındaki x: \",x)"
   ]
  },
  {
   "cell_type": "code",
   "execution_count": 42,
   "metadata": {},
   "outputs": [
    {
     "data": {
      "text/plain": [
       "'Gördügünüz gibi fonksiyon içindeki ve fonksiyon dısındaki aynı adlı degiskenler birbirine\\nkarısmıyor. Bunun sebebi, Python’daki ‘isim alanı’ (namespace) adlı bir kavramdır'"
      ]
     },
     "execution_count": 42,
     "metadata": {},
     "output_type": "execute_result"
    }
   ],
   "source": [
    "\"\"\"Gördügünüz gibi fonksiyon içindeki ve fonksiyon dısındaki aynı adlı degiskenler birbirine\n",
    "karısmıyor. Bunun sebebi, Python’daki ‘isim alanı’ (namespace) adlı bir kavramdır\"\"\""
   ]
  },
  {
   "cell_type": "code",
   "execution_count": 43,
   "metadata": {},
   "outputs": [
    {
     "data": {
      "text/plain": [
       "'\\nPython’da her nesnenin,geçerli ve etkin oldugu bir isim alanı bulunur. Örnegin yukarıdaki kodlarda fonksiyon\\ndısındaki x degiskeni ana isim alanında yer alan ‘global’ bir degiskendir. Fonksiyon içindeki\\nx degiskeni ise fonk() degiskeninin isim alanı içinde yer alan ‘lokal’ bir degiskendir. Bu iki\\ndegisken, adları aynı da olsa, birbirlerinden farklı iki nesnedir\\n'"
      ]
     },
     "execution_count": 43,
     "metadata": {},
     "output_type": "execute_result"
    }
   ],
   "source": [
    "\"\"\"\n",
    "Python’da her nesnenin,geçerli ve etkin oldugu bir isim alanı bulunur. Örnegin yukarıdaki kodlarda fonksiyon\n",
    "dısındaki x degiskeni ana isim alanında yer alan ‘global’ bir degiskendir. Fonksiyon içindeki\n",
    "x degiskeni ise fonk() degiskeninin isim alanı içinde yer alan ‘lokal’ bir degiskendir. Bu iki\n",
    "degisken, adları aynı da olsa, birbirlerinden farklı iki nesnedir\n",
    "\"\"\""
   ]
  },
  {
   "cell_type": "code",
   "execution_count": 46,
   "metadata": {},
   "outputs": [
    {
     "name": "stdout",
     "output_type": "stream",
     "text": [
      "x'in ilk hali: []\n",
      "x'i değiştiriyoruz...\n",
      "x'in son hali:  [1]\n"
     ]
    }
   ],
   "source": [
    "x = []\n",
    "print('x\\'in ilk hali:', x)\n",
    "def değiştir():\n",
    "    print('x\\'i değiştiriyoruz...')\n",
    "    x.append(1)\n",
    "    return x\n",
    "değiştir()\n",
    "print('x\\'in son hali: ', x)"
   ]
  },
  {
   "cell_type": "code",
   "execution_count": 47,
   "metadata": {},
   "outputs": [
    {
     "data": {
      "text/plain": [
       "'\\nBurada ise daha farklı bir durum söz konusu. Fonksiyon içinde append() metodunu\\nkullanarak yaptıgımız ekleme islemi fonksiyon dısındaki listeyi de etkiledi.\\nPython herhangi bir nesneye göndermede bulundugumuzda, yani o nesnenin degerini talep\\nettigimizde aradıgımız nesneyi ilk önce mevcut isim alanı içinde arar. Eger aranan nesneyi\\nmevcut isim alanı içinde bulamazsa yukarıya dogru bütün isim alanlarını tek tek kontrol eder\\n'"
      ]
     },
     "execution_count": 47,
     "metadata": {},
     "output_type": "execute_result"
    }
   ],
   "source": [
    "\"\"\"\n",
    "Burada ise daha farklı bir durum söz konusu. Fonksiyon içinde append() metodunu\n",
    "kullanarak yaptıgımız ekleme islemi fonksiyon dısındaki listeyi de etkiledi.\n",
    "Python herhangi bir nesneye göndermede bulundugumuzda, yani o nesnenin degerini talep\n",
    "ettigimizde aradıgımız nesneyi ilk önce mevcut isim alanı içinde arar. Eger aranan nesneyi\n",
    "mevcut isim alanı içinde bulamazsa yukarıya dogru bütün isim alanlarını tek tek kontrol eder\n",
    "\"\"\""
   ]
  },
  {
   "cell_type": "code",
   "execution_count": 50,
   "metadata": {},
   "outputs": [],
   "source": [
    "def fonk():\n",
    "    print(a)"
   ]
  },
  {
   "cell_type": "code",
   "execution_count": 51,
   "metadata": {},
   "outputs": [
    {
     "ename": "NameError",
     "evalue": "name 'a' is not defined",
     "output_type": "error",
     "traceback": [
      "\u001b[1;31m---------------------------------------------------------------------------\u001b[0m",
      "\u001b[1;31mNameError\u001b[0m                                 Traceback (most recent call last)",
      "\u001b[1;32m<ipython-input-51-fbd1a232738e>\u001b[0m in \u001b[0;36m<module>\u001b[1;34m\u001b[0m\n\u001b[1;32m----> 1\u001b[1;33m \u001b[0mfonk\u001b[0m\u001b[1;33m(\u001b[0m\u001b[1;33m)\u001b[0m\u001b[1;33m\u001b[0m\u001b[1;33m\u001b[0m\u001b[0m\n\u001b[0m",
      "\u001b[1;32m<ipython-input-50-e0a60b3da7b4>\u001b[0m in \u001b[0;36mfonk\u001b[1;34m()\u001b[0m\n\u001b[0;32m      1\u001b[0m \u001b[1;32mdef\u001b[0m \u001b[0mfonk\u001b[0m\u001b[1;33m(\u001b[0m\u001b[1;33m)\u001b[0m\u001b[1;33m:\u001b[0m\u001b[1;33m\u001b[0m\u001b[1;33m\u001b[0m\u001b[0m\n\u001b[1;32m----> 2\u001b[1;33m     \u001b[0mprint\u001b[0m\u001b[1;33m(\u001b[0m\u001b[0ma\u001b[0m\u001b[1;33m)\u001b[0m\u001b[1;33m\u001b[0m\u001b[1;33m\u001b[0m\u001b[0m\n\u001b[0m",
      "\u001b[1;31mNameError\u001b[0m: name 'a' is not defined"
     ]
    }
   ],
   "source": [
    "fonk()"
   ]
  },
  {
   "cell_type": "code",
   "execution_count": 52,
   "metadata": {},
   "outputs": [],
   "source": [
    "a = 0\n",
    "\n",
    "def fonk():\n",
    "    print(a)"
   ]
  },
  {
   "cell_type": "code",
   "execution_count": 54,
   "metadata": {},
   "outputs": [
    {
     "name": "stdout",
     "output_type": "stream",
     "text": [
      "0\n"
     ]
    }
   ],
   "source": [
    "fonk()\n",
    "# Bu kod global alandaki x degiskeninin degerini verecektir"
   ]
  },
  {
   "cell_type": "code",
   "execution_count": 55,
   "metadata": {},
   "outputs": [],
   "source": [
    "x = 0\n",
    "\n",
    "def fonk():\n",
    "    x = 10\n",
    "    print(x)"
   ]
  },
  {
   "cell_type": "code",
   "execution_count": 56,
   "metadata": {},
   "outputs": [
    {
     "data": {
      "text/plain": [
       "0"
      ]
     },
     "execution_count": 56,
     "metadata": {},
     "output_type": "execute_result"
    }
   ],
   "source": [
    "x"
   ]
  },
  {
   "cell_type": "code",
   "execution_count": 57,
   "metadata": {},
   "outputs": [
    {
     "name": "stdout",
     "output_type": "stream",
     "text": [
      "10\n"
     ]
    }
   ],
   "source": [
    "fonk()"
   ]
  },
  {
   "cell_type": "code",
   "execution_count": 58,
   "metadata": {},
   "outputs": [
    {
     "data": {
      "text/plain": [
       "'Dedigimiz gibi, global isim alanındaki nesnelerin degerini lokal isim alanlarından\\nsorgulayabiliyoruz. Ancak istedigimiz sey global isim alanındaki nesnelerin degerini\\ndegistirmekse bazı kavramlar arasındaki farkları iyi anlamamız gerekiyor'"
      ]
     },
     "execution_count": 58,
     "metadata": {},
     "output_type": "execute_result"
    }
   ],
   "source": [
    "\"\"\"Dedigimiz gibi, global isim alanındaki nesnelerin degerini lokal isim alanlarından\n",
    "sorgulayabiliyoruz. Ancak istedigimiz sey global isim alanındaki nesnelerin degerini\n",
    "degistirmekse bazı kavramlar arasındaki farkları iyi anlamamız gerekiyor\"\"\""
   ]
  },
  {
   "cell_type": "code",
   "execution_count": 59,
   "metadata": {},
   "outputs": [
    {
     "data": {
      "text/plain": [
       "'Python’da bir nesnenin degerini degistirmekle, o nesneyi yeniden tanımlamak farklı\\nkavramlardır.\\nEger bir nesne degistirilebilir bir nesne ise, o nesnenin degerini, lokal isim alanlarından\\ndegistirebilirsiniz:'"
      ]
     },
     "execution_count": 59,
     "metadata": {},
     "output_type": "execute_result"
    }
   ],
   "source": [
    "\"\"\"Python’da bir nesnenin degerini degistirmekle, o nesneyi yeniden tanımlamak farklı\n",
    "kavramlardır.\n",
    "Eger bir nesne degistirilebilir bir nesne ise, o nesnenin degerini, lokal isim alanlarından\n",
    "degistirebilirsiniz:\"\"\""
   ]
  },
  {
   "cell_type": "code",
   "execution_count": 62,
   "metadata": {},
   "outputs": [
    {
     "name": "stdout",
     "output_type": "stream",
     "text": [
      "[10]\n"
     ]
    }
   ],
   "source": [
    "x = list()\n",
    "def fonk():\n",
    "    x.append(10)\n",
    "    return x\n",
    "print(fonk())"
   ]
  },
  {
   "cell_type": "code",
   "execution_count": 63,
   "metadata": {},
   "outputs": [
    {
     "data": {
      "text/plain": [
       "'Ama eger bir nesne degistirilemez bir nesne ise, o nesnenin degerini zaten normalde\\nde degistiremezsiniz. Degistirmis gibi yapmak için ise o nesneyi yeniden tanımlamanız\\ngerektigini biliyorsunuz:'"
      ]
     },
     "execution_count": 63,
     "metadata": {},
     "output_type": "execute_result"
    }
   ],
   "source": [
    "\"\"\"Ama eger bir nesne degistirilemez bir nesne ise, o nesnenin degerini zaten normalde\n",
    "de degistiremezsiniz. Degistirmis gibi yapmak için ise o nesneyi yeniden tanımlamanız\n",
    "gerektigini biliyorsunuz:\"\"\""
   ]
  },
  {
   "cell_type": "code",
   "execution_count": 66,
   "metadata": {},
   "outputs": [],
   "source": [
    "isim = \"Mert\"\n",
    "isim += \" Pehlivan\"\n",
    "#Burada yaptıgımız sey, karakter dizisinin degerini degistirmekten ziyade bu karakter dizisini\n",
    "#yeniden tanımlamaktır. Çünkü bildiginiz gibi karakter dizileri degistirilemeyen veri tipleridir"
   ]
  },
  {
   "cell_type": "code",
   "execution_count": 67,
   "metadata": {},
   "outputs": [
    {
     "name": "stdout",
     "output_type": "stream",
     "text": [
      "Mert Pehlivan\n"
     ]
    }
   ],
   "source": [
    "print(isim)"
   ]
  },
  {
   "cell_type": "code",
   "execution_count": 68,
   "metadata": {},
   "outputs": [
    {
     "data": {
      "text/plain": [
       "'  ÖNEMLİ!!!!\\nIste karakter dizileri gibi degistirilemeyen nesneleri, lokal isim alanlarında\\ndegistiremeyeceginiz gibi, yeniden tanımlayamazsınız da'"
      ]
     },
     "execution_count": 68,
     "metadata": {},
     "output_type": "execute_result"
    }
   ],
   "source": [
    "\"\"\"  ÖNEMLİ!!!!\n",
    "Iste karakter dizileri gibi degistirilemeyen nesneleri, lokal isim alanlarında\n",
    "degistiremeyeceginiz gibi, yeniden tanımlayamazsınız da\"\"\""
   ]
  },
  {
   "cell_type": "code",
   "execution_count": 69,
   "metadata": {},
   "outputs": [],
   "source": [
    "ad = \"Mert\"\n",
    "\n",
    "def fonk():\n",
    "    ad += \" Pehlivan\"\n",
    "    return ad"
   ]
  },
  {
   "cell_type": "code",
   "execution_count": 70,
   "metadata": {},
   "outputs": [
    {
     "ename": "UnboundLocalError",
     "evalue": "local variable 'ad' referenced before assignment",
     "output_type": "error",
     "traceback": [
      "\u001b[1;31m---------------------------------------------------------------------------\u001b[0m",
      "\u001b[1;31mUnboundLocalError\u001b[0m                         Traceback (most recent call last)",
      "\u001b[1;32m<ipython-input-70-8e74c4a4a662>\u001b[0m in \u001b[0;36m<module>\u001b[1;34m\u001b[0m\n\u001b[1;32m----> 1\u001b[1;33m \u001b[0mprint\u001b[0m\u001b[1;33m(\u001b[0m\u001b[0mfonk\u001b[0m\u001b[1;33m(\u001b[0m\u001b[1;33m)\u001b[0m\u001b[1;33m)\u001b[0m\u001b[1;33m\u001b[0m\u001b[1;33m\u001b[0m\u001b[0m\n\u001b[0m",
      "\u001b[1;32m<ipython-input-69-07424b1dacb1>\u001b[0m in \u001b[0;36mfonk\u001b[1;34m()\u001b[0m\n\u001b[0;32m      2\u001b[0m \u001b[1;33m\u001b[0m\u001b[0m\n\u001b[0;32m      3\u001b[0m \u001b[1;32mdef\u001b[0m \u001b[0mfonk\u001b[0m\u001b[1;33m(\u001b[0m\u001b[1;33m)\u001b[0m\u001b[1;33m:\u001b[0m\u001b[1;33m\u001b[0m\u001b[1;33m\u001b[0m\u001b[0m\n\u001b[1;32m----> 4\u001b[1;33m     \u001b[0mad\u001b[0m \u001b[1;33m+=\u001b[0m \u001b[1;34m\" Pehlivan\"\u001b[0m\u001b[1;33m\u001b[0m\u001b[1;33m\u001b[0m\u001b[0m\n\u001b[0m\u001b[0;32m      5\u001b[0m     \u001b[1;32mreturn\u001b[0m \u001b[0mad\u001b[0m\u001b[1;33m\u001b[0m\u001b[1;33m\u001b[0m\u001b[0m\n",
      "\u001b[1;31mUnboundLocalError\u001b[0m: local variable 'ad' referenced before assignment"
     ]
    }
   ],
   "source": [
    "print(fonk())"
   ]
  },
  {
   "cell_type": "code",
   "execution_count": 71,
   "metadata": {},
   "outputs": [],
   "source": [
    "# Aynı durum degistirilebilir nesneler için de geçerlidir:"
   ]
  },
  {
   "cell_type": "code",
   "execution_count": 72,
   "metadata": {},
   "outputs": [],
   "source": [
    "isim_listesi = []\n",
    "\n",
    "def fonk():\n",
    "    isim_listesi += [\"Mert\",\"Pehlivan\"]\n",
    "    return isim_listesi"
   ]
  },
  {
   "cell_type": "code",
   "execution_count": 74,
   "metadata": {},
   "outputs": [
    {
     "ename": "UnboundLocalError",
     "evalue": "local variable 'isim_listesi' referenced before assignment",
     "output_type": "error",
     "traceback": [
      "\u001b[1;31m---------------------------------------------------------------------------\u001b[0m",
      "\u001b[1;31mUnboundLocalError\u001b[0m                         Traceback (most recent call last)",
      "\u001b[1;32m<ipython-input-74-8e74c4a4a662>\u001b[0m in \u001b[0;36m<module>\u001b[1;34m\u001b[0m\n\u001b[1;32m----> 1\u001b[1;33m \u001b[0mprint\u001b[0m\u001b[1;33m(\u001b[0m\u001b[0mfonk\u001b[0m\u001b[1;33m(\u001b[0m\u001b[1;33m)\u001b[0m\u001b[1;33m)\u001b[0m\u001b[1;33m\u001b[0m\u001b[1;33m\u001b[0m\u001b[0m\n\u001b[0m",
      "\u001b[1;32m<ipython-input-72-288e11460cce>\u001b[0m in \u001b[0;36mfonk\u001b[1;34m()\u001b[0m\n\u001b[0;32m      2\u001b[0m \u001b[1;33m\u001b[0m\u001b[0m\n\u001b[0;32m      3\u001b[0m \u001b[1;32mdef\u001b[0m \u001b[0mfonk\u001b[0m\u001b[1;33m(\u001b[0m\u001b[1;33m)\u001b[0m\u001b[1;33m:\u001b[0m\u001b[1;33m\u001b[0m\u001b[1;33m\u001b[0m\u001b[0m\n\u001b[1;32m----> 4\u001b[1;33m     \u001b[0misim_listesi\u001b[0m \u001b[1;33m+=\u001b[0m \u001b[1;33m[\u001b[0m\u001b[1;34m\"Mert\"\u001b[0m\u001b[1;33m,\u001b[0m\u001b[1;34m\"Pehlivan\"\u001b[0m\u001b[1;33m]\u001b[0m\u001b[1;33m\u001b[0m\u001b[1;33m\u001b[0m\u001b[0m\n\u001b[0m\u001b[0;32m      5\u001b[0m     \u001b[1;32mreturn\u001b[0m \u001b[0misim_listesi\u001b[0m\u001b[1;33m\u001b[0m\u001b[1;33m\u001b[0m\u001b[0m\n",
      "\u001b[1;31mUnboundLocalError\u001b[0m: local variable 'isim_listesi' referenced before assignment"
     ]
    }
   ],
   "source": [
    "print(fonk())"
   ]
  },
  {
   "cell_type": "code",
   "execution_count": 75,
   "metadata": {},
   "outputs": [],
   "source": [
    "# Degistirilebilen bir veri tipi olan listeleri, fonksiyon içinde yeniden tanımlayamazsınız. Ancak\n",
    "# tabii isterseniz listeleri degisiklige ugratabilirsiniz"
   ]
  },
  {
   "cell_type": "code",
   "execution_count": 76,
   "metadata": {},
   "outputs": [],
   "source": [
    "isim_listesi = []\n",
    "\n",
    "def fonk():\n",
    "    isim_listesi.extend([\"Mert\",\"Pehlivan\"])\n",
    "    return isim_listesi"
   ]
  },
  {
   "cell_type": "code",
   "execution_count": 77,
   "metadata": {},
   "outputs": [
    {
     "name": "stdout",
     "output_type": "stream",
     "text": [
      "['Mert', 'Pehlivan']\n"
     ]
    }
   ],
   "source": [
    "print(fonk())"
   ]
  },
  {
   "cell_type": "code",
   "execution_count": 78,
   "metadata": {},
   "outputs": [],
   "source": [
    "# Iste Python programlama dili bu tür durumlar için çözüm olacak bir araç sunar bize. Bu aracın adı global."
   ]
  },
  {
   "cell_type": "markdown",
   "metadata": {},
   "source": [
    "## Global"
   ]
  },
  {
   "cell_type": "code",
   "execution_count": 79,
   "metadata": {},
   "outputs": [],
   "source": [
    "ad = \"Mert\"\n",
    "\n",
    "def fonk():\n",
    "    ad += \" Pehlivan\"\n",
    "    return ad"
   ]
  },
  {
   "cell_type": "code",
   "execution_count": 80,
   "metadata": {},
   "outputs": [
    {
     "ename": "UnboundLocalError",
     "evalue": "local variable 'ad' referenced before assignment",
     "output_type": "error",
     "traceback": [
      "\u001b[1;31m---------------------------------------------------------------------------\u001b[0m",
      "\u001b[1;31mUnboundLocalError\u001b[0m                         Traceback (most recent call last)",
      "\u001b[1;32m<ipython-input-80-8e74c4a4a662>\u001b[0m in \u001b[0;36m<module>\u001b[1;34m\u001b[0m\n\u001b[1;32m----> 1\u001b[1;33m \u001b[0mprint\u001b[0m\u001b[1;33m(\u001b[0m\u001b[0mfonk\u001b[0m\u001b[1;33m(\u001b[0m\u001b[1;33m)\u001b[0m\u001b[1;33m)\u001b[0m\u001b[1;33m\u001b[0m\u001b[1;33m\u001b[0m\u001b[0m\n\u001b[0m",
      "\u001b[1;32m<ipython-input-79-07424b1dacb1>\u001b[0m in \u001b[0;36mfonk\u001b[1;34m()\u001b[0m\n\u001b[0;32m      2\u001b[0m \u001b[1;33m\u001b[0m\u001b[0m\n\u001b[0;32m      3\u001b[0m \u001b[1;32mdef\u001b[0m \u001b[0mfonk\u001b[0m\u001b[1;33m(\u001b[0m\u001b[1;33m)\u001b[0m\u001b[1;33m:\u001b[0m\u001b[1;33m\u001b[0m\u001b[1;33m\u001b[0m\u001b[0m\n\u001b[1;32m----> 4\u001b[1;33m     \u001b[0mad\u001b[0m \u001b[1;33m+=\u001b[0m \u001b[1;34m\" Pehlivan\"\u001b[0m\u001b[1;33m\u001b[0m\u001b[1;33m\u001b[0m\u001b[0m\n\u001b[0m\u001b[0;32m      5\u001b[0m     \u001b[1;32mreturn\u001b[0m \u001b[0mad\u001b[0m\u001b[1;33m\u001b[0m\u001b[1;33m\u001b[0m\u001b[0m\n",
      "\u001b[1;31mUnboundLocalError\u001b[0m: local variable 'ad' referenced before assignment"
     ]
    }
   ],
   "source": [
    "print(fonk())"
   ]
  },
  {
   "cell_type": "code",
   "execution_count": 81,
   "metadata": {},
   "outputs": [],
   "source": [
    "ad = \"Mert\"\n",
    "\n",
    "def fonk():\n",
    "    global ad\n",
    "    ad += \" Pehlivan\"\n",
    "    return ad"
   ]
  },
  {
   "cell_type": "code",
   "execution_count": 82,
   "metadata": {},
   "outputs": [
    {
     "name": "stdout",
     "output_type": "stream",
     "text": [
      "Mert Pehlivan\n"
     ]
    }
   ],
   "source": [
    "print(fonk())"
   ]
  },
  {
   "cell_type": "code",
   "execution_count": 83,
   "metadata": {},
   "outputs": [],
   "source": [
    "# global isim :  isim adlı degiskenin global alana tasınmasını saglıyor. Böylece global alanda\n",
    "# bulunan isim adlı degiskeni degisiklige ugratabiliyoruz"
   ]
  },
  {
   "cell_type": "code",
   "execution_count": 84,
   "metadata": {},
   "outputs": [
    {
     "data": {
      "text/plain": [
       "'\\nglobal deyimi her ne kadar ilk bakısta çok faydalı bir araçmıs gibi görünse de aslında\\nprogramlarımızda genellikle bu deyimi kullanmaktan kaçınmamız iyi bir 1kir olacaktır. Çünkü\\nbu deyim aslında global alanı kirletmemize neden oluyor. Global degiskenlerin lokal\\nisim alanlarında degisiklige ugratılması, eger dikkatsiz davranırsanız programlarınızın hatalı\\nçalısmasına yol açabilir.\\n'"
      ]
     },
     "execution_count": 84,
     "metadata": {},
     "output_type": "execute_result"
    }
   ],
   "source": [
    "\"\"\"\n",
    "global deyimi her ne kadar ilk bakısta çok faydalı bir araçmıs gibi görünse de aslında\n",
    "programlarımızda genellikle bu deyimi kullanmaktan kaçınmamız iyi bir 1kir olacaktır. Çünkü\n",
    "bu deyim aslında global alanı kirletmemize neden oluyor. Global degiskenlerin lokal\n",
    "isim alanlarında degisiklige ugratılması, eger dikkatsiz davranırsanız programlarınızın hatalı\n",
    "çalısmasına yol açabilir.\n",
    "\"\"\""
   ]
  },
  {
   "cell_type": "code",
   "execution_count": null,
   "metadata": {},
   "outputs": [],
   "source": []
  }
 ],
 "metadata": {
  "kernelspec": {
   "display_name": "Python 3",
   "language": "python",
   "name": "python3"
  },
  "language_info": {
   "codemirror_mode": {
    "name": "ipython",
    "version": 3
   },
   "file_extension": ".py",
   "mimetype": "text/x-python",
   "name": "python",
   "nbconvert_exporter": "python",
   "pygments_lexer": "ipython3",
   "version": "3.8.5"
  }
 },
 "nbformat": 4,
 "nbformat_minor": 4
}
