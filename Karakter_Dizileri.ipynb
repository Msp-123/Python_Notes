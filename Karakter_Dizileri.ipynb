{
 "cells": [
  {
   "cell_type": "code",
   "execution_count": 13,
   "metadata": {},
   "outputs": [
    {
     "data": {
      "text/plain": [
       "'Python ile programlama yaparken karakter dizileri ile iki sekilde karsılasabilirsiniz: Birincisi,\\nbir karakter dizisini dogrudan kendiniz tanımlamıs olabilirsiniz. Ikincisi, karakter dizisi\\nsize baska bir kaynak aracılıgıyla gelmis olabilir (mesela input() fonksiyonu yardımıyla\\nkullanıcıdan aldıgınız bir veri).'"
      ]
     },
     "execution_count": 13,
     "metadata": {},
     "output_type": "execute_result"
    }
   ],
   "source": [
    "\"\"\"Python ile programlama yaparken karakter dizileri ile iki sekilde karsılasabilirsiniz: Birincisi,\n",
    "bir karakter dizisini dogrudan kendiniz tanımlamıs olabilirsiniz. Ikincisi, karakter dizisi\n",
    "size baska bir kaynak aracılıgıyla gelmis olabilir (mesela input() fonksiyonu yardımıyla\n",
    "kullanıcıdan aldıgınız bir veri).\"\"\""
   ]
  },
  {
   "cell_type": "code",
   "execution_count": 66,
   "metadata": {},
   "outputs": [],
   "source": [
    "import locale"
   ]
  },
  {
   "cell_type": "code",
   "execution_count": null,
   "metadata": {},
   "outputs": [],
   "source": []
  },
  {
   "cell_type": "code",
   "execution_count": 14,
   "metadata": {},
   "outputs": [
    {
     "name": "stdout",
     "output_type": "stream",
     "text": [
      "karakter dizisi\n"
     ]
    }
   ],
   "source": [
    "#Python’da kendi tanımladıgınız ya da herhangi baska bir kaynaktan gelen karakter dizilerine erismenin birkaç farklı yolu vardır.\n",
    "#Örnegin:\n",
    "#degeri “karakter dizisi” olan nesne adlı bir degisken tanımladık. \n",
    "#Yazdıgımız programlarda bu degiskene erismek için, degiskenin adını kullanmamız yeterlidir\n",
    "nesne = \"karakter dizisi\"\n",
    "print(nesne)"
   ]
  },
  {
   "cell_type": "code",
   "execution_count": 15,
   "metadata": {},
   "outputs": [
    {
     "name": "stdout",
     "output_type": "stream",
     "text": [
      "Herhangi bir şey: Mert Sukru\n"
     ]
    }
   ],
   "source": [
    "# Diğer bir yöntem ise input() ile kullanıcıdan aldığımız veriler karakter dizisi olacaktır.\n",
    "veri = input(\"Herhangi bir şey: \")"
   ]
  },
  {
   "cell_type": "code",
   "execution_count": 16,
   "metadata": {},
   "outputs": [
    {
     "name": "stdout",
     "output_type": "stream",
     "text": [
      "Mert Sukru\n"
     ]
    }
   ],
   "source": [
    "print(veri)"
   ]
  },
  {
   "cell_type": "code",
   "execution_count": 17,
   "metadata": {},
   "outputs": [
    {
     "name": "stdout",
     "output_type": "stream",
     "text": [
      "k a r a k t e r   d i z i s i\n"
     ]
    }
   ],
   "source": [
    "print(*nesne)"
   ]
  },
  {
   "cell_type": "code",
   "execution_count": 18,
   "metadata": {},
   "outputs": [
    {
     "name": "stdout",
     "output_type": "stream",
     "text": [
      "k.a.r.a.k.t.e.r. .d.i.z.i.s.i\n"
     ]
    }
   ],
   "source": [
    "print(*nesne,sep=\".\")"
   ]
  },
  {
   "cell_type": "markdown",
   "metadata": {},
   "source": [
    "## Karakter Dizilerinin Ögelerine Erişmek"
   ]
  },
  {
   "cell_type": "code",
   "execution_count": 19,
   "metadata": {},
   "outputs": [
    {
     "data": {
      "text/plain": [
       "'Python’da karakter dizilerinin içindeki ögelerin bir sırası vardır. Örnegin “Python”\\ndedigimizde, bu karakter dizisinin ilk ögesi olan “P” karakterinin sırası 0 ‘dır. “y” karakteri\\nise 1. sıradadır. Aynı sekilde devam edersek, “t” karakteri 2., “h” karakteri 3., “o” karakteri 4.,\\n“n” karakteri ise 5. sırada yer alır.'"
      ]
     },
     "execution_count": 19,
     "metadata": {},
     "output_type": "execute_result"
    }
   ],
   "source": [
    "\"\"\"Python’da karakter dizilerinin içindeki ögelerin bir sırası vardır. Örnegin “Python”\n",
    "dedigimizde, bu karakter dizisinin ilk ögesi olan “P” karakterinin sırası 0 ‘dır. “y” karakteri\n",
    "ise 1. sıradadır. Aynı sekilde devam edersek, “t” karakteri 2., “h” karakteri 3., “o” karakteri 4.,\n",
    "“n” karakteri ise 5. sırada yer alır.\"\"\""
   ]
  },
  {
   "cell_type": "code",
   "execution_count": 2,
   "metadata": {},
   "outputs": [],
   "source": [
    "isim = \"Python\"\n",
    "# Python'da karakter dizilerinin herbir ögesine indexler yardımıyla erişebiliriz.\n",
    "# P -> 0.index, y->1.index, t->2.index\n",
    "# aynı zamanda n-> -1, o -> -2 index numarası ile çağrılabilir.\n",
    "#ögeler [] içine index sayıları yazılarak çağrılır."
   ]
  },
  {
   "cell_type": "code",
   "execution_count": 3,
   "metadata": {},
   "outputs": [
    {
     "name": "stdout",
     "output_type": "stream",
     "text": [
      "P\n"
     ]
    }
   ],
   "source": [
    "print(isim[0])"
   ]
  },
  {
   "cell_type": "code",
   "execution_count": 4,
   "metadata": {},
   "outputs": [
    {
     "name": "stdout",
     "output_type": "stream",
     "text": [
      "t\n"
     ]
    }
   ],
   "source": [
    "print(isim[2])"
   ]
  },
  {
   "cell_type": "code",
   "execution_count": 5,
   "metadata": {},
   "outputs": [
    {
     "name": "stdout",
     "output_type": "stream",
     "text": [
      "n\n"
     ]
    }
   ],
   "source": [
    "print(isim[5])"
   ]
  },
  {
   "cell_type": "code",
   "execution_count": 6,
   "metadata": {},
   "outputs": [
    {
     "name": "stdout",
     "output_type": "stream",
     "text": [
      "n\n"
     ]
    }
   ],
   "source": [
    "print(isim[-1])"
   ]
  },
  {
   "cell_type": "code",
   "execution_count": 7,
   "metadata": {},
   "outputs": [
    {
     "name": "stdout",
     "output_type": "stream",
     "text": [
      "h\n"
     ]
    }
   ],
   "source": [
    "print(isim[-3])"
   ]
  },
  {
   "cell_type": "code",
   "execution_count": 8,
   "metadata": {},
   "outputs": [
    {
     "data": {
      "text/plain": [
       "6"
      ]
     },
     "execution_count": 8,
     "metadata": {},
     "output_type": "execute_result"
    }
   ],
   "source": [
    "len(isim) # index sayısı len()-1 kadardır."
   ]
  },
  {
   "cell_type": "code",
   "execution_count": 9,
   "metadata": {},
   "outputs": [
    {
     "ename": "IndexError",
     "evalue": "string index out of range",
     "output_type": "error",
     "traceback": [
      "\u001b[1;31m---------------------------------------------------------------------------\u001b[0m",
      "\u001b[1;31mIndexError\u001b[0m                                Traceback (most recent call last)",
      "\u001b[1;32m<ipython-input-9-deee7c17b197>\u001b[0m in \u001b[0;36m<module>\u001b[1;34m\u001b[0m\n\u001b[1;32m----> 1\u001b[1;33m \u001b[0mprint\u001b[0m\u001b[1;33m(\u001b[0m\u001b[0misim\u001b[0m\u001b[1;33m[\u001b[0m\u001b[0mlen\u001b[0m\u001b[1;33m(\u001b[0m\u001b[0misim\u001b[0m\u001b[1;33m)\u001b[0m\u001b[1;33m]\u001b[0m\u001b[1;33m)\u001b[0m  \u001b[1;31m# index aralığının dışında olduğu için hata verir.\u001b[0m\u001b[1;33m\u001b[0m\u001b[1;33m\u001b[0m\u001b[0m\n\u001b[0m",
      "\u001b[1;31mIndexError\u001b[0m: string index out of range"
     ]
    }
   ],
   "source": [
    "print(isim[len(isim)])  # index aralığının dışında olduğu için hata verir."
   ]
  },
  {
   "cell_type": "code",
   "execution_count": 10,
   "metadata": {},
   "outputs": [
    {
     "name": "stdout",
     "output_type": "stream",
     "text": [
      "n\n"
     ]
    }
   ],
   "source": [
    "print(isim[len(isim)-1])"
   ]
  },
  {
   "cell_type": "code",
   "execution_count": 1,
   "metadata": {},
   "outputs": [],
   "source": [
    "sayı_dizisi = \"123456789\""
   ]
  },
  {
   "cell_type": "code",
   "execution_count": 2,
   "metadata": {},
   "outputs": [
    {
     "name": "stdout",
     "output_type": "stream",
     "text": [
      "4\n"
     ]
    }
   ],
   "source": [
    "sayi = int(sayı_dizisi[1])*2\n",
    "print(sayi)"
   ]
  },
  {
   "cell_type": "code",
   "execution_count": 3,
   "metadata": {},
   "outputs": [
    {
     "name": "stdout",
     "output_type": "stream",
     "text": [
      "22\n"
     ]
    }
   ],
   "source": [
    "print((sayı_dizisi[1])*2)"
   ]
  },
  {
   "cell_type": "code",
   "execution_count": 5,
   "metadata": {},
   "outputs": [
    {
     "name": "stdout",
     "output_type": "stream",
     "text": [
      "İsminizi giriniz: Mert\n",
      "İsminizin 2. harfi e\n"
     ]
    }
   ],
   "source": [
    "isim = input(\"İsminizi giriniz: \")\n",
    "print(\"İsminizin {}. harfi {}\".format(2,isim[1]))"
   ]
  },
  {
   "cell_type": "code",
   "execution_count": 6,
   "metadata": {},
   "outputs": [
    {
     "name": "stdout",
     "output_type": "stream",
     "text": [
      "İsminizi giriniz: Mert Sukru\n",
      "İsminizin 1. harfi M\n",
      "İsminizin 2. harfi e\n",
      "İsminizin 3. harfi r\n",
      "İsminizin 4. harfi t\n",
      "İsminizin 5. harfi S\n",
      "İsminizin 6. harfi S\n",
      "İsminizin 7. harfi u\n",
      "İsminizin 8. harfi k\n",
      "İsminizin 9. harfi r\n",
      "İsminizin 10. harfi u\n"
     ]
    }
   ],
   "source": [
    "isim = input(\"İsminizi giriniz: \")\n",
    "for i in enumerate(isim):\n",
    "    j = i[0]\n",
    "    if i[1] != \" \":\n",
    "        print(\"İsminizin {}. harfi {}\".format(j+1,isim[j]))\n",
    "    else:\n",
    "        print(\"İsminizin {}. harfi {}\".format(j+1,isim[j+1]))"
   ]
  },
  {
   "cell_type": "markdown",
   "metadata": {},
   "source": [
    "## Karakter Dizilerini Dilimlemek"
   ]
  },
  {
   "cell_type": "code",
   "execution_count": 7,
   "metadata": {},
   "outputs": [
    {
     "data": {
      "text/plain": [
       "'karakter dizisine köseli parantez içinde bazı degerler vererek bu karakter\\ndizisini dilim dilim ayırmak mümkün'"
      ]
     },
     "execution_count": 7,
     "metadata": {},
     "output_type": "execute_result"
    }
   ],
   "source": [
    "\"\"\"karakter dizisine köseli parantez içinde bazı degerler vererek bu karakter\n",
    "dizisini dilim dilim ayırmak mümkün\"\"\""
   ]
  },
  {
   "cell_type": "code",
   "execution_count": 8,
   "metadata": {},
   "outputs": [],
   "source": [
    "ifade = \"Bursa\""
   ]
  },
  {
   "cell_type": "code",
   "execution_count": 9,
   "metadata": {},
   "outputs": [
    {
     "data": {
      "text/plain": [
       "'Bursa'"
      ]
     },
     "execution_count": 9,
     "metadata": {},
     "output_type": "execute_result"
    }
   ],
   "source": [
    "ifade"
   ]
  },
  {
   "cell_type": "code",
   "execution_count": 10,
   "metadata": {},
   "outputs": [],
   "source": [
    "# karakter_dizisi[alınacak_ilk_öğenin_sırası:alınacak_son_öğenin_sırasının_bir_fazlası] şeklinde dilimlenebilir."
   ]
  },
  {
   "cell_type": "code",
   "execution_count": 11,
   "metadata": {},
   "outputs": [
    {
     "data": {
      "text/plain": [
       "'Burs'"
      ]
     },
     "execution_count": 11,
     "metadata": {},
     "output_type": "execute_result"
    }
   ],
   "source": [
    "ifade[0:4]"
   ]
  },
  {
   "cell_type": "code",
   "execution_count": 12,
   "metadata": {},
   "outputs": [
    {
     "data": {
      "text/plain": [
       "'Bursa'"
      ]
     },
     "execution_count": 12,
     "metadata": {},
     "output_type": "execute_result"
    }
   ],
   "source": [
    "ifade[0:5]"
   ]
  },
  {
   "cell_type": "code",
   "execution_count": 13,
   "metadata": {},
   "outputs": [
    {
     "data": {
      "text/plain": [
       "'Bu'"
      ]
     },
     "execution_count": 13,
     "metadata": {},
     "output_type": "execute_result"
    }
   ],
   "source": [
    "ifade[0:2]"
   ]
  },
  {
   "cell_type": "code",
   "execution_count": 14,
   "metadata": {},
   "outputs": [
    {
     "data": {
      "text/plain": [
       "'ur'"
      ]
     },
     "execution_count": 14,
     "metadata": {},
     "output_type": "execute_result"
    }
   ],
   "source": [
    "ifade[1:-2]"
   ]
  },
  {
   "cell_type": "code",
   "execution_count": 15,
   "metadata": {},
   "outputs": [
    {
     "data": {
      "text/plain": [
       "'rs'"
      ]
     },
     "execution_count": 15,
     "metadata": {},
     "output_type": "execute_result"
    }
   ],
   "source": [
    "ifade[-3:-1]"
   ]
  },
  {
   "cell_type": "code",
   "execution_count": 16,
   "metadata": {},
   "outputs": [
    {
     "data": {
      "text/plain": [
       "''"
      ]
     },
     "execution_count": 16,
     "metadata": {},
     "output_type": "execute_result"
    }
   ],
   "source": [
    "ifade[-1:-3]"
   ]
  },
  {
   "cell_type": "code",
   "execution_count": 17,
   "metadata": {},
   "outputs": [
    {
     "data": {
      "text/plain": [
       "'Bursa'"
      ]
     },
     "execution_count": 17,
     "metadata": {},
     "output_type": "execute_result"
    }
   ],
   "source": [
    "ifade[0:5]"
   ]
  },
  {
   "cell_type": "code",
   "execution_count": 18,
   "metadata": {},
   "outputs": [
    {
     "data": {
      "text/plain": [
       "'Bursa'"
      ]
     },
     "execution_count": 18,
     "metadata": {},
     "output_type": "execute_result"
    }
   ],
   "source": [
    "ifade[:5] # ilk kısmı boş bırakırsak 0 olarak alacaktır."
   ]
  },
  {
   "cell_type": "code",
   "execution_count": 19,
   "metadata": {},
   "outputs": [
    {
     "data": {
      "text/plain": [
       "'Bursa'"
      ]
     },
     "execution_count": 19,
     "metadata": {},
     "output_type": "execute_result"
    }
   ],
   "source": [
    "ifade[0:]"
   ]
  },
  {
   "cell_type": "code",
   "execution_count": 20,
   "metadata": {},
   "outputs": [
    {
     "data": {
      "text/plain": [
       "'Bursa'"
      ]
     },
     "execution_count": 20,
     "metadata": {},
     "output_type": "execute_result"
    }
   ],
   "source": [
    "ifade[0:5:1]\n",
    "#kardiz[ilk_karakter:son_karakter:atlama_sayısı]"
   ]
  },
  {
   "cell_type": "code",
   "execution_count": 21,
   "metadata": {},
   "outputs": [
    {
     "data": {
      "text/plain": [
       "'Bra'"
      ]
     },
     "execution_count": 21,
     "metadata": {},
     "output_type": "execute_result"
    }
   ],
   "source": [
    "ifade[0:5:2]"
   ]
  },
  {
   "cell_type": "markdown",
   "metadata": {},
   "source": [
    "## Karakter Dizilerini Ters Çevirmek"
   ]
  },
  {
   "cell_type": "code",
   "execution_count": 22,
   "metadata": {},
   "outputs": [
    {
     "data": {
      "text/plain": [
       "str"
      ]
     },
     "execution_count": 22,
     "metadata": {},
     "output_type": "execute_result"
    }
   ],
   "source": [
    "cumle = \"Bursa Büyükşehir Belediyesi\"\n",
    "type(cumle)"
   ]
  },
  {
   "cell_type": "code",
   "execution_count": 23,
   "metadata": {},
   "outputs": [
    {
     "data": {
      "text/plain": [
       "'iseyideleB riheşküyüB asruB'"
      ]
     },
     "execution_count": 23,
     "metadata": {},
     "output_type": "execute_result"
    }
   ],
   "source": [
    "cumle[::-1]  \n",
    "# 0 'dan başladı -1 atladı ve -1. indexi yazdırdı. Daha sonra son index olan -28'e kadar gitti.\n",
    "#-1 atlamaya devam ederek -2, -3 olarak devam etti."
   ]
  },
  {
   "cell_type": "code",
   "execution_count": 24,
   "metadata": {},
   "outputs": [
    {
     "data": {
      "text/plain": [
       "'ieiee iekyBarB'"
      ]
     },
     "execution_count": 24,
     "metadata": {},
     "output_type": "execute_result"
    }
   ],
   "source": [
    "cumle[::-2]"
   ]
  },
  {
   "cell_type": "code",
   "execution_count": 25,
   "metadata": {},
   "outputs": [
    {
     "data": {
      "text/plain": [
       "'BraBykei eeiei'"
      ]
     },
     "execution_count": 25,
     "metadata": {},
     "output_type": "execute_result"
    }
   ],
   "source": [
    "cumle[::2]"
   ]
  },
  {
   "cell_type": "code",
   "execution_count": 26,
   "metadata": {},
   "outputs": [
    {
     "data": {
      "text/plain": [
       "'ruB'"
      ]
     },
     "execution_count": 26,
     "metadata": {},
     "output_type": "execute_result"
    }
   ],
   "source": [
    "cumle[2::-1]"
   ]
  },
  {
   "cell_type": "code",
   "execution_count": 27,
   "metadata": {},
   "outputs": [
    {
     "data": {
      "text/plain": [
       "' yşiBeyi'"
      ]
     },
     "execution_count": 27,
     "metadata": {},
     "output_type": "execute_result"
    }
   ],
   "source": [
    "cumle[5:27:3]"
   ]
  },
  {
   "cell_type": "markdown",
   "metadata": {},
   "source": [
    "## reversed() fonksiyonu"
   ]
  },
  {
   "cell_type": "code",
   "execution_count": 28,
   "metadata": {},
   "outputs": [],
   "source": [
    "# Yukarıda bahsettiğimiz şekilde de ters karakter dizilerini ters çevirebiliriz.\n",
    "# Ama isterseniz reversed() adlı bir fonksiyondan da yararlanabiliriz."
   ]
  },
  {
   "cell_type": "code",
   "execution_count": 29,
   "metadata": {},
   "outputs": [
    {
     "data": {
      "text/plain": [
       "<reversed at 0x16f7154c790>"
      ]
     },
     "execution_count": 29,
     "metadata": {},
     "output_type": "execute_result"
    }
   ],
   "source": [
    "reversed(cumle)\n",
    "#bu fonksiyonu düz bir sekilde kullandıgımızda bize bir ‘reversed’ nesnesi vermekle yetiniyor. (range()de de aynı.)"
   ]
  },
  {
   "cell_type": "code",
   "execution_count": 30,
   "metadata": {},
   "outputs": [
    {
     "name": "stdout",
     "output_type": "stream",
     "text": [
      "<reversed object at 0x0000016F7155F310>\n"
     ]
    }
   ],
   "source": [
    "# reversed() komutunun içeriğini görmek için ise print(*) yada for kullanabiliriz.\n",
    "print(reversed(cumle)) # burada da object yerini verecektir.\n",
    "# bu nedenle print(*reversed()) olarak kullanıp for döngüsünü taklit edebiliriz."
   ]
  },
  {
   "cell_type": "code",
   "execution_count": 31,
   "metadata": {},
   "outputs": [
    {
     "name": "stdout",
     "output_type": "stream",
     "text": [
      "M e r t\n"
     ]
    }
   ],
   "source": [
    "print(*\"Mert\")"
   ]
  },
  {
   "cell_type": "code",
   "execution_count": 32,
   "metadata": {},
   "outputs": [
    {
     "name": "stdout",
     "output_type": "stream",
     "text": [
      "i s e y i d e l e B   r i h e ş k ü y ü B   a s r u B\n"
     ]
    }
   ],
   "source": [
    "print(*reversed(cumle))"
   ]
  },
  {
   "cell_type": "code",
   "execution_count": 33,
   "metadata": {},
   "outputs": [
    {
     "name": "stdout",
     "output_type": "stream",
     "text": [
      "iseyideleB riheşküyüB asruB\n"
     ]
    }
   ],
   "source": [
    "print(*reversed(cumle),sep=\"\")"
   ]
  },
  {
   "cell_type": "markdown",
   "metadata": {},
   "source": [
    "## Karakter Dizilerini Alfabe Sırasına Dizmek"
   ]
  },
  {
   "cell_type": "markdown",
   "metadata": {},
   "source": [
    "## sorted() onksiyonu ile yapılır"
   ]
  },
  {
   "cell_type": "code",
   "execution_count": 34,
   "metadata": {},
   "outputs": [
    {
     "data": {
      "text/plain": [
       "['a', 'a', 'b', 'c', 'l', 'm', 'u']"
      ]
     },
     "execution_count": 34,
     "metadata": {},
     "output_type": "execute_result"
    }
   ],
   "source": [
    "sorted(\"bulmaca\")\n",
    "# sorted() fonksiyonunun çıktısı listedir."
   ]
  },
  {
   "cell_type": "code",
   "execution_count": 35,
   "metadata": {},
   "outputs": [
    {
     "name": "stdout",
     "output_type": "stream",
     "text": [
      "a,a,b,c,l,m,u\n"
     ]
    }
   ],
   "source": [
    "# ama bildiğimiz şekilde bir çıktı istersekte;\n",
    "print(*sorted(\"bulmaca\"),sep=\",\")"
   ]
  },
  {
   "cell_type": "code",
   "execution_count": 36,
   "metadata": {},
   "outputs": [
    {
     "data": {
      "text/plain": [
       "['e', 'i', 'k', 'ç', 'ç']"
      ]
     },
     "execution_count": 36,
     "metadata": {},
     "output_type": "execute_result"
    }
   ],
   "source": [
    "#Gördügünüz gibi, sorted() fonksiyonunu kullanmak çok kolay, ama aslında bu fonksiyonunönemli bir problemi var\n",
    "sorted(\"çiçek\")\n",
    "# Türkçedeki ç harfini sıralayamadı."
   ]
  },
  {
   "cell_type": "code",
   "execution_count": 37,
   "metadata": {},
   "outputs": [
    {
     "data": {
      "text/plain": [
       "['ç', 'ç', 'e', 'i', 'k']"
      ]
     },
     "execution_count": 37,
     "metadata": {},
     "output_type": "execute_result"
    }
   ],
   "source": [
    "#Bu sorunu asmak için söyle bir yöntem deneyebilirsiniz.\n",
    "import locale\n",
    "locale.setlocale(locale.LC_ALL,\"Turkish_Turkey.1254\") # Windows için\n",
    "sorted(\"çiçek\",key=locale.strxfrm)"
   ]
  },
  {
   "cell_type": "code",
   "execution_count": 38,
   "metadata": {},
   "outputs": [
    {
     "data": {
      "text/plain": [
       "'locale modülü bize belli bir dilin kendine has özelliklerine göre programlama yapma\\nimkanı verir. Örnegin bu modülünün içinde yer alan fonksiyonlardan biri olan setlocale()\\nfonksiyonunu kullanarak, programımızda öntanımlı dil ayarlarına uygun bir sekilde\\nprogramlama yapma olanagı saglarız.'"
      ]
     },
     "execution_count": 38,
     "metadata": {},
     "output_type": "execute_result"
    }
   ],
   "source": [
    "# locale de tıpkı sys, os ve keyword gibi bir modül olup, içinde pek çok degisken ve fonksiyon barındırır.\n",
    "\"\"\"locale modülü bize belli bir dilin kendine has özelliklerine göre programlama yapma\n",
    "imkanı verir. Örnegin bu modülünün içinde yer alan fonksiyonlardan biri olan setlocale()\n",
    "fonksiyonunu kullanarak, programımızda öntanımlı dil ayarlarına uygun bir sekilde\n",
    "programlama yapma olanagı saglarız.\"\"\""
   ]
  },
  {
   "cell_type": "code",
   "execution_count": 39,
   "metadata": {},
   "outputs": [
    {
     "data": {
      "text/plain": [
       "['a', 'ç', 'f', 'ğ', 'h', 'i', 'ü']"
      ]
     },
     "execution_count": 39,
     "metadata": {},
     "output_type": "execute_result"
    }
   ],
   "source": [
    "sorted(\"afğhçiü\",key=locale.strxfrm)"
   ]
  },
  {
   "cell_type": "code",
   "execution_count": 40,
   "metadata": {},
   "outputs": [
    {
     "name": "stdout",
     "output_type": "stream",
     "text": [
      "{'a': 0, 'b': 1, 'c': 2, 'ç': 3, 'd': 4, 'e': 5, 'f': 6, 'g': 7, 'ğ': 8, 'h': 9, 'ı': 10, 'i': 11, 'j': 12, 'k': 13, 'l': 14, 'm': 15, 'n': 16, 'o': 17, 'ö': 18, 'p': 19, 'r': 20, 's': 21, 'ş': 22, 't': 23, 'u': 24, 'ü': 25, 'v': 26, 'y': 27, 'z': 28}\n"
     ]
    }
   ],
   "source": [
    "#BURAYI ES GEÇ !!\n",
    "harfler = \"abcçdefgğhıijklmnoöprsştuüvyz\"\n",
    "çevrim = {i: harfler.index(i) for i in harfler}\n",
    "sorted(\"afgdhkıi\", key=çevrim.get)\n",
    "print(çevrim)"
   ]
  },
  {
   "cell_type": "markdown",
   "metadata": {},
   "source": [
    "## Karakter Dizileri Üzerinde Degisiklik Yapmak"
   ]
  },
  {
   "cell_type": "code",
   "execution_count": 41,
   "metadata": {},
   "outputs": [],
   "source": [
    "meyve = \"elma\""
   ]
  },
  {
   "cell_type": "code",
   "execution_count": 42,
   "metadata": {},
   "outputs": [
    {
     "data": {
      "text/plain": [
       "'Elma'"
      ]
     },
     "execution_count": 42,
     "metadata": {},
     "output_type": "execute_result"
    }
   ],
   "source": [
    "# Mesela bu string in ilk harfini büyük harf yapmak isteyelim.\n",
    "# Bunu dilimleme yöntemi ile yapabiliriz.\n",
    "\"E\" + meyve[1:]"
   ]
  },
  {
   "cell_type": "code",
   "execution_count": 43,
   "metadata": {},
   "outputs": [
    {
     "name": "stdout",
     "output_type": "stream",
     "text": [
      "elma\n"
     ]
    }
   ],
   "source": [
    "#Bu şekilde yaparsak orjinal string aynı kalır.\n",
    "print(meyve)"
   ]
  },
  {
   "cell_type": "code",
   "execution_count": 44,
   "metadata": {},
   "outputs": [],
   "source": [
    "# 2 yöntemle orjinal stringi değiştirebiliriz.\n",
    "meyve = \"E\" + meyve[1:]"
   ]
  },
  {
   "cell_type": "code",
   "execution_count": 45,
   "metadata": {},
   "outputs": [
    {
     "data": {
      "text/plain": [
       "'Elma'"
      ]
     },
     "execution_count": 45,
     "metadata": {},
     "output_type": "execute_result"
    }
   ],
   "source": [
    "meyve"
   ]
  },
  {
   "cell_type": "code",
   "execution_count": 46,
   "metadata": {},
   "outputs": [
    {
     "data": {
      "text/plain": [
       "'Burada yaptıgımız sey \"meyve\" degiskeninin degerini degistirmek degildir. Biz burada aslında\\nbambaska bir kardiz degiskeni daha tanımlıyoruz. Yani ilk kardiz degiskeni ile sonraki kardiz\\ndegiskeni aynı seyler degil. Bunu teyit etmek için önceki derslerimizde gördügümüz id()\\nfonksiyonundan yararlanabilirsiniz:'"
      ]
     },
     "execution_count": 46,
     "metadata": {},
     "output_type": "execute_result"
    }
   ],
   "source": [
    "\"\"\"Burada yaptıgımız sey \"meyve\" degiskeninin degerini degistirmek degildir. Biz burada aslında\n",
    "bambaska bir kardiz degiskeni daha tanımlıyoruz. Yani ilk kardiz degiskeni ile sonraki kardiz\n",
    "degiskeni aynı seyler degil. Bunu teyit etmek için önceki derslerimizde gördügümüz id()\n",
    "fonksiyonundan yararlanabilirsiniz:\"\"\""
   ]
  },
  {
   "cell_type": "code",
   "execution_count": 47,
   "metadata": {},
   "outputs": [],
   "source": [
    "meyve = \"elma\""
   ]
  },
  {
   "cell_type": "code",
   "execution_count": 48,
   "metadata": {},
   "outputs": [
    {
     "data": {
      "text/plain": [
       "1578155520752"
      ]
     },
     "execution_count": 48,
     "metadata": {},
     "output_type": "execute_result"
    }
   ],
   "source": [
    "id(meyve)"
   ]
  },
  {
   "cell_type": "code",
   "execution_count": 49,
   "metadata": {},
   "outputs": [],
   "source": [
    "meyve = \"E\" + meyve[1:]"
   ]
  },
  {
   "cell_type": "code",
   "execution_count": 50,
   "metadata": {},
   "outputs": [
    {
     "data": {
      "text/plain": [
       "1578155533552"
      ]
     },
     "execution_count": 50,
     "metadata": {},
     "output_type": "execute_result"
    }
   ],
   "source": [
    "id(meyve)"
   ]
  },
  {
   "cell_type": "code",
   "execution_count": 51,
   "metadata": {},
   "outputs": [
    {
     "data": {
      "text/plain": [
       "'Yani bu iki degisken bellek içinde farklı adreslerde tutuluyor. İkinci meyve değişkeni ilk meyve değişkeni\\nsilip üzerine yazıyor.degiskeninin tuttugu karakter dizisi degisiyormus gibi bir etki elde ediyoruz'"
      ]
     },
     "execution_count": 51,
     "metadata": {},
     "output_type": "execute_result"
    }
   ],
   "source": [
    "\"\"\"Yani bu iki degisken bellek içinde farklı adreslerde tutuluyor. İkinci meyve değişkeni ilk meyve değişkeni\n",
    "silip üzerine yazıyor.degiskeninin tuttugu karakter dizisi degisiyormus gibi bir etki elde ediyoruz\"\"\""
   ]
  },
  {
   "cell_type": "code",
   "execution_count": 52,
   "metadata": {},
   "outputs": [
    {
     "data": {
      "text/plain": [
       "'dedigimiz gibi, karakter dizileri degistirilemeyen veri\\ntipleridir. Bir karakter dizisi üzerinde degisiklik yapmak istiyorsak, o karakter dizisini bastan\\ntanımlamamız gerekir.'"
      ]
     },
     "execution_count": 52,
     "metadata": {},
     "output_type": "execute_result"
    }
   ],
   "source": [
    "\"\"\"dedigimiz gibi, karakter dizileri degistirilemeyen veri\n",
    "tipleridir. Bir karakter dizisi üzerinde degisiklik yapmak istiyorsak, o karakter dizisini bastan\n",
    "tanımlamamız gerekir.\"\"\""
   ]
  },
  {
   "cell_type": "code",
   "execution_count": 53,
   "metadata": {},
   "outputs": [],
   "source": [
    "isim = \"Mert\""
   ]
  },
  {
   "cell_type": "code",
   "execution_count": 54,
   "metadata": {},
   "outputs": [
    {
     "ename": "TypeError",
     "evalue": "'str' object does not support item assignment",
     "output_type": "error",
     "traceback": [
      "\u001b[1;31m---------------------------------------------------------------------------\u001b[0m",
      "\u001b[1;31mTypeError\u001b[0m                                 Traceback (most recent call last)",
      "\u001b[1;32m<ipython-input-54-28b7029facde>\u001b[0m in \u001b[0;36m<module>\u001b[1;34m\u001b[0m\n\u001b[1;32m----> 1\u001b[1;33m \u001b[0misim\u001b[0m\u001b[1;33m[\u001b[0m\u001b[1;36m0\u001b[0m\u001b[1;33m]\u001b[0m \u001b[1;33m=\u001b[0m \u001b[1;34m\"D\"\u001b[0m\u001b[1;33m\u001b[0m\u001b[1;33m\u001b[0m\u001b[0m\n\u001b[0m",
      "\u001b[1;31mTypeError\u001b[0m: 'str' object does not support item assignment"
     ]
    }
   ],
   "source": [
    "isim[0] = \"D\""
   ]
  },
  {
   "cell_type": "markdown",
   "metadata": {},
   "source": [
    "## Karakter Dizilerinin Metotları"
   ]
  },
  {
   "cell_type": "code",
   "execution_count": 55,
   "metadata": {},
   "outputs": [
    {
     "data": {
      "text/plain": [
       "'\\nmetotlar Python’da nesnelerin niteliklerini\\ndegistirmemizi, sorgulamamızı veya bu nesnelere yeni özellikler katmamızı saglayan\\naraçlardır. Metotlar sayesinde karakter dizilerini istedigimiz gibi egip bükebiliriz.\\n'"
      ]
     },
     "execution_count": 55,
     "metadata": {},
     "output_type": "execute_result"
    }
   ],
   "source": [
    "\"\"\"\n",
    "metotlar Python’da nesnelerin niteliklerini\n",
    "degistirmemizi, sorgulamamızı veya bu nesnelere yeni özellikler katmamızı saglayan\n",
    "araçlardır. Metotlar sayesinde karakter dizilerini istedigimiz gibi egip bükebiliriz.\n",
    "\"\"\""
   ]
  },
  {
   "cell_type": "code",
   "execution_count": 56,
   "metadata": {},
   "outputs": [],
   "source": [
    "#bir karakter dizisinin hangi metotlara sahip oldugunu şu komut yardımıyla listeleyebiliriz.\n",
    "#dir()"
   ]
  },
  {
   "cell_type": "code",
   "execution_count": 57,
   "metadata": {},
   "outputs": [
    {
     "data": {
      "text/plain": [
       "['__add__',\n",
       " '__class__',\n",
       " '__contains__',\n",
       " '__delattr__',\n",
       " '__dir__',\n",
       " '__doc__',\n",
       " '__eq__',\n",
       " '__format__',\n",
       " '__ge__',\n",
       " '__getattribute__',\n",
       " '__getitem__',\n",
       " '__getnewargs__',\n",
       " '__gt__',\n",
       " '__hash__',\n",
       " '__init__',\n",
       " '__init_subclass__',\n",
       " '__iter__',\n",
       " '__le__',\n",
       " '__len__',\n",
       " '__lt__',\n",
       " '__mod__',\n",
       " '__mul__',\n",
       " '__ne__',\n",
       " '__new__',\n",
       " '__reduce__',\n",
       " '__reduce_ex__',\n",
       " '__repr__',\n",
       " '__rmod__',\n",
       " '__rmul__',\n",
       " '__setattr__',\n",
       " '__sizeof__',\n",
       " '__str__',\n",
       " '__subclasshook__',\n",
       " 'capitalize',\n",
       " 'casefold',\n",
       " 'center',\n",
       " 'count',\n",
       " 'encode',\n",
       " 'endswith',\n",
       " 'expandtabs',\n",
       " 'find',\n",
       " 'format',\n",
       " 'format_map',\n",
       " 'index',\n",
       " 'isalnum',\n",
       " 'isalpha',\n",
       " 'isascii',\n",
       " 'isdecimal',\n",
       " 'isdigit',\n",
       " 'isidentifier',\n",
       " 'islower',\n",
       " 'isnumeric',\n",
       " 'isprintable',\n",
       " 'isspace',\n",
       " 'istitle',\n",
       " 'isupper',\n",
       " 'join',\n",
       " 'ljust',\n",
       " 'lower',\n",
       " 'lstrip',\n",
       " 'maketrans',\n",
       " 'partition',\n",
       " 'replace',\n",
       " 'rfind',\n",
       " 'rindex',\n",
       " 'rjust',\n",
       " 'rpartition',\n",
       " 'rsplit',\n",
       " 'rstrip',\n",
       " 'split',\n",
       " 'splitlines',\n",
       " 'startswith',\n",
       " 'strip',\n",
       " 'swapcase',\n",
       " 'title',\n",
       " 'translate',\n",
       " 'upper',\n",
       " 'zfill']"
      ]
     },
     "execution_count": 57,
     "metadata": {},
     "output_type": "execute_result"
    }
   ],
   "source": [
    "dir(\"\")"
   ]
  },
  {
   "cell_type": "code",
   "execution_count": 62,
   "metadata": {},
   "outputs": [],
   "source": [
    "# METOTLARIN KULLANIMI"
   ]
  },
  {
   "cell_type": "code",
   "execution_count": 66,
   "metadata": {},
   "outputs": [],
   "source": [
    "# karakter_dizisi.metot(parametre)  --> bu gösterime Python'da 'noktalı gösterim'(dot notation) denir."
   ]
  },
  {
   "cell_type": "markdown",
   "metadata": {},
   "source": [
    "## replace()"
   ]
  },
  {
   "cell_type": "code",
   "execution_count": 67,
   "metadata": {},
   "outputs": [],
   "source": [
    "# bu metodu kullanarak bir karakter dizisi içindeki karakterleri baska karakterlerle degistirebilecegiz."
   ]
  },
  {
   "cell_type": "code",
   "execution_count": 68,
   "metadata": {},
   "outputs": [],
   "source": [
    "meyve = \"elma\""
   ]
  },
  {
   "cell_type": "code",
   "execution_count": 69,
   "metadata": {},
   "outputs": [
    {
     "data": {
      "text/plain": [
       "'Elma'"
      ]
     },
     "execution_count": 69,
     "metadata": {},
     "output_type": "execute_result"
    }
   ],
   "source": [
    "meyve.replace(\"e\",\"E\")"
   ]
  },
  {
   "cell_type": "code",
   "execution_count": 70,
   "metadata": {},
   "outputs": [],
   "source": [
    "# karakter_dizisi.replace(eski_karakter_dizisi, yeni_karakter_dizisi)"
   ]
  },
  {
   "cell_type": "code",
   "execution_count": 71,
   "metadata": {},
   "outputs": [],
   "source": [
    "sehir = \"İstanbul\""
   ]
  },
  {
   "cell_type": "code",
   "execution_count": 72,
   "metadata": {},
   "outputs": [
    {
     "data": {
      "text/plain": [
       "'İstanBUL'"
      ]
     },
     "execution_count": 72,
     "metadata": {},
     "output_type": "execute_result"
    }
   ],
   "source": [
    "sehir.replace(\"bul\",\"BUL\")"
   ]
  },
  {
   "cell_type": "code",
   "execution_count": 73,
   "metadata": {},
   "outputs": [
    {
     "data": {
      "text/plain": [
       "'replace() metodu üçüncü bir parametre daha alır. Bu\\nparametre ise bir karakter dizisi içindeki karakterlerin kaç tanesinin degistirilecegini gösterir.\\nEger bu parametreyi belirtmezsek replace() metodu ilgili karakterlerin tamamını degistirir.'"
      ]
     },
     "execution_count": 73,
     "metadata": {},
     "output_type": "execute_result"
    }
   ],
   "source": [
    "\"\"\"replace() metodu üçüncü bir parametre daha alır. Bu\n",
    "parametre ise bir karakter dizisi içindeki karakterlerin kaç tanesinin degistirilecegini gösterir.\n",
    "Eger bu parametreyi belirtmezsek replace() metodu ilgili karakterlerin tamamını degistirir.\"\"\""
   ]
  },
  {
   "cell_type": "code",
   "execution_count": 74,
   "metadata": {},
   "outputs": [
    {
     "data": {
      "text/plain": [
       "'mmlkt'"
      ]
     },
     "execution_count": 74,
     "metadata": {},
     "output_type": "execute_result"
    }
   ],
   "source": [
    "ifade = \"memleket\"\n",
    "ifade.replace(\"e\",\"\")"
   ]
  },
  {
   "cell_type": "code",
   "execution_count": 75,
   "metadata": {},
   "outputs": [
    {
     "data": {
      "text/plain": [
       "'mmleket'"
      ]
     },
     "execution_count": 75,
     "metadata": {},
     "output_type": "execute_result"
    }
   ],
   "source": [
    "ifade = \"memleket\"\n",
    "ifade.replace(\"e\",\"\",1)"
   ]
  },
  {
   "cell_type": "code",
   "execution_count": 76,
   "metadata": {},
   "outputs": [],
   "source": [
    "# NOTE : karakter dizileri degistirilemeyen veri tipleridir. Dolayısıyla eger bir karakter dizisi üzerinde degisiklik yapmak\n",
    "# istiyorsanız, o karakter dizisini bastan tanımlamalısınız."
   ]
  },
  {
   "cell_type": "code",
   "execution_count": 77,
   "metadata": {},
   "outputs": [
    {
     "data": {
      "text/plain": [
       "'Elma'"
      ]
     },
     "execution_count": 77,
     "metadata": {},
     "output_type": "execute_result"
    }
   ],
   "source": [
    "meyve = \"elma\"\n",
    "meyve.replace(\"e\",\"E\")"
   ]
  },
  {
   "cell_type": "code",
   "execution_count": 78,
   "metadata": {},
   "outputs": [
    {
     "data": {
      "text/plain": [
       "'elma'"
      ]
     },
     "execution_count": 78,
     "metadata": {},
     "output_type": "execute_result"
    }
   ],
   "source": [
    "meyve"
   ]
  },
  {
   "cell_type": "code",
   "execution_count": 79,
   "metadata": {},
   "outputs": [],
   "source": [
    "meyve = \"elma\"\n",
    "meyve = meyve.replace(\"e\",\"E\")"
   ]
  },
  {
   "cell_type": "code",
   "execution_count": 80,
   "metadata": {},
   "outputs": [
    {
     "data": {
      "text/plain": [
       "'Elma'"
      ]
     },
     "execution_count": 80,
     "metadata": {},
     "output_type": "execute_result"
    }
   ],
   "source": [
    "meyve"
   ]
  },
  {
   "cell_type": "markdown",
   "metadata": {},
   "source": [
    "## split(), rsplit(), splitlines()"
   ]
  },
  {
   "cell_type": "code",
   "execution_count": 15,
   "metadata": {},
   "outputs": [],
   "source": [
    "# karakter dizisinde yer alan bütün kelimeleri nasıl ayırabiliriz?"
   ]
  },
  {
   "cell_type": "code",
   "execution_count": 16,
   "metadata": {},
   "outputs": [],
   "source": [
    "isim = \"İstanbul Büyüksehir Belediyesi\""
   ]
  },
  {
   "cell_type": "code",
   "execution_count": 17,
   "metadata": {},
   "outputs": [
    {
     "name": "stdout",
     "output_type": "stream",
     "text": [
      "İstanbul,Büyüksehir,Belediyesi\n"
     ]
    }
   ],
   "source": [
    "print(isim[0:8],isim[9:19],isim[20:],sep=\",\")"
   ]
  },
  {
   "cell_type": "code",
   "execution_count": 84,
   "metadata": {},
   "outputs": [],
   "source": [
    "# Ama karakter dizisi değişirse yöntem boşa gider."
   ]
  },
  {
   "cell_type": "code",
   "execution_count": 86,
   "metadata": {},
   "outputs": [],
   "source": [
    "# Bu işlem için split() metodu kullanılabilir.\n",
    "# Bu metodun görevi karakter dizilerini belli noktalardan bölmektir."
   ]
  },
  {
   "cell_type": "code",
   "execution_count": 87,
   "metadata": {},
   "outputs": [
    {
     "data": {
      "text/plain": [
       "['İstanbul', 'Büyüksehir', 'Belediyesi']"
      ]
     },
     "execution_count": 87,
     "metadata": {},
     "output_type": "execute_result"
    }
   ],
   "source": [
    "isim.split()"
   ]
  },
  {
   "cell_type": "code",
   "execution_count": 88,
   "metadata": {},
   "outputs": [],
   "source": [
    "# split() metoduna herhangi bir parametre vermedigimiz için bu metot karakter dizisi içindeki kelimeleri bosluklardan böldü."
   ]
  },
  {
   "cell_type": "code",
   "execution_count": 97,
   "metadata": {},
   "outputs": [],
   "source": [
    "sehirler = \"İstanbul, Bursa, İzmir, Adana, Trabzon\""
   ]
  },
  {
   "cell_type": "code",
   "execution_count": 98,
   "metadata": {},
   "outputs": [
    {
     "data": {
      "text/plain": [
       "'İstanbul, Bursa, İzmir, Adana, Trabzon'"
      ]
     },
     "execution_count": 98,
     "metadata": {},
     "output_type": "execute_result"
    }
   ],
   "source": [
    "sehirler"
   ]
  },
  {
   "cell_type": "code",
   "execution_count": 99,
   "metadata": {},
   "outputs": [],
   "source": [
    "sehirler = sehirler.split()"
   ]
  },
  {
   "cell_type": "code",
   "execution_count": 102,
   "metadata": {},
   "outputs": [
    {
     "data": {
      "text/plain": [
       "['İstanbul,', 'Bursa,', 'İzmir,', 'Adana,', 'Trabzon']"
      ]
     },
     "execution_count": 102,
     "metadata": {},
     "output_type": "execute_result"
    }
   ],
   "source": [
    "sehirler  # artık bu liste seklinde saklanır."
   ]
  },
  {
   "cell_type": "code",
   "execution_count": 103,
   "metadata": {},
   "outputs": [],
   "source": [
    "sehirler2 = \"İstanbul, Bursa, İzmir, Adana, Trabzon\""
   ]
  },
  {
   "cell_type": "code",
   "execution_count": 104,
   "metadata": {},
   "outputs": [],
   "source": [
    "sehirler2 = sehirler2.split(\",\")"
   ]
  },
  {
   "cell_type": "code",
   "execution_count": 105,
   "metadata": {},
   "outputs": [
    {
     "data": {
      "text/plain": [
       "['İstanbul', ' Bursa', ' İzmir', ' Adana', ' Trabzon']"
      ]
     },
     "execution_count": 105,
     "metadata": {},
     "output_type": "execute_result"
    }
   ],
   "source": [
    "sehirler2"
   ]
  },
  {
   "cell_type": "code",
   "execution_count": 106,
   "metadata": {},
   "outputs": [
    {
     "data": {
      "text/plain": [
       "'\\nsplit() metoduna hangi parametreyi verirseniz bu metot ilgili karakter\\ndizisini o karakterin geçtigi yerlerden bölecektir.\\nEger parametre olarak verdiginiz deger karakter dizisi içinde hiç geçmiyorsa karakter dizisi\\nüzerinde herhangi bir degisiklik yapılmaz\\n\\n'"
      ]
     },
     "execution_count": 106,
     "metadata": {},
     "output_type": "execute_result"
    }
   ],
   "source": [
    "\"\"\"\n",
    "split() metoduna hangi parametreyi verirseniz bu metot ilgili karakter\n",
    "dizisini o karakterin geçtigi yerlerden bölecektir.\n",
    "Eger parametre olarak verdiginiz deger karakter dizisi içinde hiç geçmiyorsa karakter dizisi\n",
    "üzerinde herhangi bir degisiklik yapılmaz\n",
    "\n",
    "\"\"\""
   ]
  },
  {
   "cell_type": "code",
   "execution_count": 123,
   "metadata": {},
   "outputs": [],
   "source": [
    "# split() 2.parametreyi de alabilir. Bu da kaç kere böleceğini belirtir."
   ]
  },
  {
   "cell_type": "code",
   "execution_count": 124,
   "metadata": {},
   "outputs": [],
   "source": [
    "belediye = \"İstanbul Büyüksehir Belediyesi\""
   ]
  },
  {
   "cell_type": "code",
   "execution_count": 125,
   "metadata": {},
   "outputs": [],
   "source": [
    "belediye = belediye.split(\" \",1) # 2.parametrenin çalışması için ilk parametrede mutlaka yazılmalıdır."
   ]
  },
  {
   "cell_type": "code",
   "execution_count": 126,
   "metadata": {},
   "outputs": [
    {
     "data": {
      "text/plain": [
       "['İstanbul', 'Büyüksehir Belediyesi']"
      ]
     },
     "execution_count": 126,
     "metadata": {},
     "output_type": "execute_result"
    }
   ],
   "source": [
    "belediye"
   ]
  },
  {
   "cell_type": "markdown",
   "metadata": {},
   "source": [
    "## rsplit()"
   ]
  },
  {
   "cell_type": "code",
   "execution_count": 127,
   "metadata": {},
   "outputs": [
    {
     "data": {
      "text/plain": [
       "'rsplit() metodu her yönüyle split() metoduna benzer. split() ile rsplit() arasındaki\\ntek fark, split() metodunun karakter dizisini soldan saga, rsplit() metodunun ise sagdan\\nsola dogru okumasıdır'"
      ]
     },
     "execution_count": 127,
     "metadata": {},
     "output_type": "execute_result"
    }
   ],
   "source": [
    "\"\"\"rsplit() metodu her yönüyle split() metoduna benzer. split() ile rsplit() arasındaki\n",
    "tek fark, split() metodunun karakter dizisini soldan saga, rsplit() metodunun ise sagdan\n",
    "sola dogru okumasıdır\"\"\""
   ]
  },
  {
   "cell_type": "code",
   "execution_count": 128,
   "metadata": {},
   "outputs": [],
   "source": [
    "belediye = \"İstanbul Büyüksehir Belediyesi\""
   ]
  },
  {
   "cell_type": "code",
   "execution_count": 130,
   "metadata": {},
   "outputs": [
    {
     "data": {
      "text/plain": [
       "['İstanbul', 'Büyüksehir Belediyesi']"
      ]
     },
     "execution_count": 130,
     "metadata": {},
     "output_type": "execute_result"
    }
   ],
   "source": [
    "belediye.split(\" \",1)"
   ]
  },
  {
   "cell_type": "code",
   "execution_count": 132,
   "metadata": {},
   "outputs": [
    {
     "data": {
      "text/plain": [
       "['İstanbul Büyüksehir', 'Belediyesi']"
      ]
     },
     "execution_count": 132,
     "metadata": {},
     "output_type": "execute_result"
    }
   ],
   "source": [
    "belediye.rsplit(\" \",1)"
   ]
  },
  {
   "cell_type": "markdown",
   "metadata": {},
   "source": [
    "## splitlines()"
   ]
  },
  {
   "cell_type": "code",
   "execution_count": 133,
   "metadata": {},
   "outputs": [],
   "source": [
    "# splitlines() metodunu ise bir karakter dizisini satır satır ayırmak için kullanabiliriz."
   ]
  },
  {
   "cell_type": "code",
   "execution_count": 134,
   "metadata": {},
   "outputs": [],
   "source": [
    "metin = \"\"\"Python programlama dili Guido Van Rossum adlı Hollandalı bir programcı\n",
    "tarafından 90'lı yılların başında geliştirilmeye başlanmıştır. Çoğu insan, isminin\n",
    "Python olmasına bakarak, bu programlama dilinin, adını piton yılanından aldığını\n",
    "düşünür. Ancak zannedildiğinin aksine bu programlama dilinin adı piton yılanından\n",
    "gelmez. Guido Van Rossum bu programlama dilini, The Monty Python adlı bir İngiliz\n",
    "komedi grubunun, Monty Python's Flying Circus adlı gösterisinden esinlenerek\n",
    "adlandırmıştır. Ancak her ne kadar gerçek böyle olsa da, Python programlama\n",
    "dilinin pek çok yerde bir yılan figürü ile temsil edilmesi neredeyse bir gelenek\n",
    "halini almıştır diyebiliriz.\"\"\""
   ]
  },
  {
   "cell_type": "code",
   "execution_count": 135,
   "metadata": {},
   "outputs": [
    {
     "name": "stdout",
     "output_type": "stream",
     "text": [
      "['Python programlama dili Guido Van Rossum adlı Hollandalı bir programcı', \"tarafından 90'lı yılların başında geliştirilmeye başlanmıştır. Çoğu insan, isminin\", 'Python olmasına bakarak, bu programlama dilinin, adını piton yılanından aldığını', 'düşünür. Ancak zannedildiğinin aksine bu programlama dilinin adı piton yılanından', 'gelmez. Guido Van Rossum bu programlama dilini, The Monty Python adlı bir İngiliz', \"komedi grubunun, Monty Python's Flying Circus adlı gösterisinden esinlenerek\", 'adlandırmıştır. Ancak her ne kadar gerçek böyle olsa da, Python programlama', 'dilinin pek çok yerde bir yılan figürü ile temsil edilmesi neredeyse bir gelenek', 'halini almıştır diyebiliriz.']\n"
     ]
    }
   ],
   "source": [
    "print(metin.splitlines())"
   ]
  },
  {
   "cell_type": "markdown",
   "metadata": {},
   "source": [
    "## lower()"
   ]
  },
  {
   "cell_type": "code",
   "execution_count": 136,
   "metadata": {},
   "outputs": [
    {
     "data": {
      "text/plain": [
       "'Bazı programlarda kullanıcıdan istenen veriler büyük-küçük\\nharfe duyarlıdır. Yani mesela kullanıcıdan bir parola isteniyorsa, kullanıcının bu parolayı\\nbüyük-küçük harfe dikkat ederek yazması gerekir'"
      ]
     },
     "execution_count": 136,
     "metadata": {},
     "output_type": "execute_result"
    }
   ],
   "source": [
    "\"\"\"Bazı programlarda kullanıcıdan istenen veriler büyük-küçük\n",
    "harfe duyarlıdır. Yani mesela kullanıcıdan bir parola isteniyorsa, kullanıcının bu parolayı\n",
    "büyük-küçük harfe dikkat ederek yazması gerekir\"\"\""
   ]
  },
  {
   "cell_type": "code",
   "execution_count": 139,
   "metadata": {},
   "outputs": [],
   "source": [
    "sifre = \"1234MmcA\""
   ]
  },
  {
   "cell_type": "code",
   "execution_count": 140,
   "metadata": {},
   "outputs": [
    {
     "data": {
      "text/plain": [
       "'1234mmca'"
      ]
     },
     "execution_count": 140,
     "metadata": {},
     "output_type": "execute_result"
    }
   ],
   "source": [
    "sifre.lower()"
   ]
  },
  {
   "cell_type": "code",
   "execution_count": 141,
   "metadata": {},
   "outputs": [],
   "source": [
    "il = \"İstanbul\""
   ]
  },
  {
   "cell_type": "code",
   "execution_count": 142,
   "metadata": {},
   "outputs": [
    {
     "data": {
      "text/plain": [
       "'i̇stanbul'"
      ]
     },
     "execution_count": 142,
     "metadata": {},
     "output_type": "execute_result"
    }
   ],
   "source": [
    "il.lower()"
   ]
  },
  {
   "cell_type": "code",
   "execution_count": 143,
   "metadata": {},
   "outputs": [],
   "source": [
    "# Python İ harfini Türkçe'ye uygun olarak küçültemiyor."
   ]
  },
  {
   "cell_type": "code",
   "execution_count": 144,
   "metadata": {},
   "outputs": [],
   "source": [
    "il2 = \"ADIYAMAN\""
   ]
  },
  {
   "cell_type": "code",
   "execution_count": 146,
   "metadata": {},
   "outputs": [
    {
     "data": {
      "text/plain": [
       "'adiyaman'"
      ]
     },
     "execution_count": 146,
     "metadata": {},
     "output_type": "execute_result"
    }
   ],
   "source": [
    "il2.lower() # I harfini de i olarak küçülttü."
   ]
  },
  {
   "cell_type": "code",
   "execution_count": 147,
   "metadata": {},
   "outputs": [
    {
     "data": {
      "text/plain": [
       "'adıyaman'"
      ]
     },
     "execution_count": 147,
     "metadata": {},
     "output_type": "execute_result"
    }
   ],
   "source": [
    "il2.replace(\"I\",\"ı\").lower()"
   ]
  },
  {
   "cell_type": "code",
   "execution_count": 151,
   "metadata": {},
   "outputs": [
    {
     "data": {
      "text/plain": [
       "'istanbul'"
      ]
     },
     "execution_count": 151,
     "metadata": {},
     "output_type": "execute_result"
    }
   ],
   "source": [
    "il.replace(\"İ\",\"i\").lower()"
   ]
  },
  {
   "cell_type": "markdown",
   "metadata": {},
   "source": [
    "## upper()"
   ]
  },
  {
   "cell_type": "code",
   "execution_count": 152,
   "metadata": {},
   "outputs": [],
   "source": [
    "nesne = \"defter\""
   ]
  },
  {
   "cell_type": "code",
   "execution_count": 153,
   "metadata": {},
   "outputs": [
    {
     "data": {
      "text/plain": [
       "'DEFTER'"
      ]
     },
     "execution_count": 153,
     "metadata": {},
     "output_type": "execute_result"
    }
   ],
   "source": [
    "nesne.upper()"
   ]
  },
  {
   "cell_type": "code",
   "execution_count": 154,
   "metadata": {},
   "outputs": [],
   "source": [
    "nesne = \"kitap\""
   ]
  },
  {
   "cell_type": "code",
   "execution_count": 155,
   "metadata": {},
   "outputs": [
    {
     "data": {
      "text/plain": [
       "'KITAP'"
      ]
     },
     "execution_count": 155,
     "metadata": {},
     "output_type": "execute_result"
    }
   ],
   "source": [
    "nesne.upper()"
   ]
  },
  {
   "cell_type": "code",
   "execution_count": 156,
   "metadata": {},
   "outputs": [
    {
     "data": {
      "text/plain": [
       "'KİTAP'"
      ]
     },
     "execution_count": 156,
     "metadata": {},
     "output_type": "execute_result"
    }
   ],
   "source": [
    "nesne.replace(\"i\",\"İ\").upper()"
   ]
  },
  {
   "cell_type": "markdown",
   "metadata": {},
   "source": [
    "## endswith()"
   ]
  },
  {
   "cell_type": "code",
   "execution_count": 157,
   "metadata": {},
   "outputs": [
    {
     "data": {
      "text/plain": [
       "'endswith() metodu karakter dizileri üzerinde herhangi bir degisiklik yapmamızı saglamaz.\\nBu metodun görevi karakter dizisinin durumunu sorgulamaktır'"
      ]
     },
     "execution_count": 157,
     "metadata": {},
     "output_type": "execute_result"
    }
   ],
   "source": [
    "\"\"\"endswith() metodu karakter dizileri üzerinde herhangi bir degisiklik yapmamızı saglamaz.\n",
    "Bu metodun görevi karakter dizisinin durumunu sorgulamaktır\"\"\""
   ]
  },
  {
   "cell_type": "code",
   "execution_count": 160,
   "metadata": {},
   "outputs": [
    {
     "data": {
      "text/plain": [
       "True"
      ]
     },
     "execution_count": 160,
     "metadata": {},
     "output_type": "execute_result"
    }
   ],
   "source": [
    "kelime = \"Python\"\n",
    "kelime.endswith(\"n\")"
   ]
  },
  {
   "cell_type": "code",
   "execution_count": 161,
   "metadata": {},
   "outputs": [
    {
     "data": {
      "text/plain": [
       "False"
      ]
     },
     "execution_count": 161,
     "metadata": {},
     "output_type": "execute_result"
    }
   ],
   "source": [
    "kelime = \"Python\"\n",
    "kelime.endswith(\"c\")"
   ]
  },
  {
   "cell_type": "code",
   "execution_count": 162,
   "metadata": {},
   "outputs": [],
   "source": [
    "d1 = \"bilgiler.txt\"\n",
    "d2 = \"bilgiler.csv\"\n",
    "d3 = \"maaslar.txt\"\n",
    "d4 = \"maaslar.csv\""
   ]
  },
  {
   "cell_type": "code",
   "execution_count": 168,
   "metadata": {},
   "outputs": [
    {
     "data": {
      "text/plain": [
       "'.txt'"
      ]
     },
     "execution_count": 168,
     "metadata": {},
     "output_type": "execute_result"
    }
   ],
   "source": [
    "d3[-4:]"
   ]
  },
  {
   "cell_type": "code",
   "execution_count": 169,
   "metadata": {},
   "outputs": [
    {
     "data": {
      "text/plain": [
       "True"
      ]
     },
     "execution_count": 169,
     "metadata": {},
     "output_type": "execute_result"
    }
   ],
   "source": [
    "d3[-4:] == \".txt\""
   ]
  },
  {
   "cell_type": "code",
   "execution_count": 165,
   "metadata": {},
   "outputs": [
    {
     "name": "stdout",
     "output_type": "stream",
     "text": [
      "True\n"
     ]
    }
   ],
   "source": [
    "print(d1.endswith(\".txt\"))"
   ]
  },
  {
   "cell_type": "code",
   "execution_count": 166,
   "metadata": {},
   "outputs": [
    {
     "name": "stdout",
     "output_type": "stream",
     "text": [
      "CSV formatında dosyadır.\n"
     ]
    }
   ],
   "source": [
    "if d2.endswith(\".csv\"):\n",
    "    print(\"CSV formatında dosyadır.\")"
   ]
  },
  {
   "cell_type": "markdown",
   "metadata": {},
   "source": [
    "## startswith()"
   ]
  },
  {
   "cell_type": "code",
   "execution_count": 167,
   "metadata": {},
   "outputs": [
    {
     "data": {
      "text/plain": [
       "True"
      ]
     },
     "execution_count": 167,
     "metadata": {},
     "output_type": "execute_result"
    }
   ],
   "source": [
    "kelime = \"Python\"\n",
    "kelime.startswith(\"P\")"
   ]
  },
  {
   "cell_type": "markdown",
   "metadata": {},
   "source": [
    "## capitalize()"
   ]
  },
  {
   "cell_type": "code",
   "execution_count": null,
   "metadata": {},
   "outputs": [],
   "source": [
    "#capitalize() metodu bir karakter dizisinin yalnızca ilk har1ni büyütüyordu"
   ]
  },
  {
   "cell_type": "code",
   "execution_count": 171,
   "metadata": {},
   "outputs": [
    {
     "data": {
      "text/plain": [
       "'Python'"
      ]
     },
     "execution_count": 171,
     "metadata": {},
     "output_type": "execute_result"
    }
   ],
   "source": [
    "kelime"
   ]
  },
  {
   "cell_type": "code",
   "execution_count": 172,
   "metadata": {},
   "outputs": [
    {
     "data": {
      "text/plain": [
       "'Python'"
      ]
     },
     "execution_count": 172,
     "metadata": {},
     "output_type": "execute_result"
    }
   ],
   "source": [
    "kelime.capitalize()"
   ]
  },
  {
   "cell_type": "markdown",
   "metadata": {},
   "source": [
    "## title()"
   ]
  },
  {
   "cell_type": "code",
   "execution_count": 173,
   "metadata": {},
   "outputs": [
    {
     "data": {
      "text/plain": [
       "'title() metodu\\nda karakter dizilerinin ilk har1ni büyütür. Ama capitalize() metodundan farklı olarak\\nbu metot, birden fazla kelimeden olusan karakter dizilerinin her kelimesinin ilk har2erini\\nbüyütür.'"
      ]
     },
     "execution_count": 173,
     "metadata": {},
     "output_type": "execute_result"
    }
   ],
   "source": [
    "\"\"\"title() metodu\n",
    "da karakter dizilerinin ilk har1ni büyütür. Ama capitalize() metodundan farklı olarak\n",
    "bu metot, birden fazla kelimeden olusan karakter dizilerinin her kelimesinin ilk har2erini\n",
    "büyütür.\"\"\""
   ]
  },
  {
   "cell_type": "code",
   "execution_count": 174,
   "metadata": {},
   "outputs": [],
   "source": [
    "baslık = \"python ile programalama egitimi\""
   ]
  },
  {
   "cell_type": "code",
   "execution_count": 175,
   "metadata": {},
   "outputs": [
    {
     "data": {
      "text/plain": [
       "'Python Ile Programalama Egitimi'"
      ]
     },
     "execution_count": 175,
     "metadata": {},
     "output_type": "execute_result"
    }
   ],
   "source": [
    "baslık.title()"
   ]
  },
  {
   "cell_type": "code",
   "execution_count": 177,
   "metadata": {},
   "outputs": [
    {
     "data": {
      "text/plain": [
       "'Python İle Programalama Egitimi'"
      ]
     },
     "execution_count": 177,
     "metadata": {},
     "output_type": "execute_result"
    }
   ],
   "source": [
    "baslık.replace(\"i\",\"İ\",1).title()"
   ]
  },
  {
   "cell_type": "code",
   "execution_count": null,
   "metadata": {},
   "outputs": [],
   "source": []
  }
 ],
 "metadata": {
  "kernelspec": {
   "display_name": "Python 3",
   "language": "python",
   "name": "python3"
  },
  "language_info": {
   "codemirror_mode": {
    "name": "ipython",
    "version": 3
   },
   "file_extension": ".py",
   "mimetype": "text/x-python",
   "name": "python",
   "nbconvert_exporter": "python",
   "pygments_lexer": "ipython3",
   "version": "3.8.5"
  }
 },
 "nbformat": 4,
 "nbformat_minor": 4
}
