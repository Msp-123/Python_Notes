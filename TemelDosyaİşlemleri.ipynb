{
 "cells": [
  {
   "cell_type": "markdown",
   "metadata": {},
   "source": [
    "## Dosya Olusturmak"
   ]
  },
  {
   "cell_type": "code",
   "execution_count": 1,
   "metadata": {},
   "outputs": [],
   "source": [
    "# Python programlama dilinde dosya islemleri için open() adlı bir fonksiyondan yararlanacagız"
   ]
  },
  {
   "cell_type": "code",
   "execution_count": 2,
   "metadata": {},
   "outputs": [],
   "source": [
    "# f = open(dosya_adı, kip)  kip w,r gibi yazma okuma parametresi"
   ]
  },
  {
   "cell_type": "code",
   "execution_count": 18,
   "metadata": {},
   "outputs": [],
   "source": [
    "maaslar = open(\"C:\\\\Users\\\\T55294\\\\Desktop\\\\PythonDosyalar\\\\maaslar.txt\",\"w\")\n",
    "# o kalsörde maaslar adında txt dosyası oluşturduk."
   ]
  },
  {
   "cell_type": "markdown",
   "metadata": {},
   "source": [
    "## Dosyaya Yazmak"
   ]
  },
  {
   "cell_type": "code",
   "execution_count": 19,
   "metadata": {},
   "outputs": [
    {
     "data": {
      "text/plain": [
       "'\\nBir dosyayı, yukarıda gösterdigimiz sekilde yazma kipinde açtıgımız zaman, Python bizim için\\niçi bos bir dosya olusturacaktır. Peki biz bu dosyanın içini nasıl dolduracagız?'"
      ]
     },
     "execution_count": 19,
     "metadata": {},
     "output_type": "execute_result"
    }
   ],
   "source": [
    "\"\"\"\n",
    "Bir dosyayı, yukarıda gösterdigimiz sekilde yazma kipinde açtıgımız zaman, Python bizim için\n",
    "içi bos bir dosya olusturacaktır. Peki biz bu dosyanın içini nasıl dolduracagız?\"\"\""
   ]
  },
  {
   "cell_type": "code",
   "execution_count": 20,
   "metadata": {},
   "outputs": [
    {
     "data": {
      "text/plain": [
       "'\\nPython programlama dilinde, open() fonksiyonu ile yazma kipinde açtıgımız bir dosyaya bir\\nveri yazabilmek için dosyaların write() adlı metodundan yararlanacagız'"
      ]
     },
     "execution_count": 20,
     "metadata": {},
     "output_type": "execute_result"
    }
   ],
   "source": [
    "\"\"\"\n",
    "Python programlama dilinde, open() fonksiyonu ile yazma kipinde açtıgımız bir dosyaya bir\n",
    "veri yazabilmek için dosyaların write() adlı metodundan yararlanacagız\"\"\""
   ]
  },
  {
   "cell_type": "code",
   "execution_count": 21,
   "metadata": {},
   "outputs": [],
   "source": [
    "# dosya.write(yazılacak_şeyler)"
   ]
  },
  {
   "cell_type": "code",
   "execution_count": 22,
   "metadata": {},
   "outputs": [],
   "source": [
    "# maaslar dosyası yukarıda açık."
   ]
  },
  {
   "cell_type": "code",
   "execution_count": 23,
   "metadata": {},
   "outputs": [
    {
     "data": {
      "text/plain": [
       "18"
      ]
     },
     "execution_count": 23,
     "metadata": {},
     "output_type": "execute_result"
    }
   ],
   "source": [
    "odemeler = open(\"C:\\\\Users\\\\T55294\\\\Desktop\\\\PythonDosyalar\\\\odemeler.txt\",\"w\")\n",
    "odemeler.write(\"Mert Pehlivan: 100\")"
   ]
  },
  {
   "cell_type": "code",
   "execution_count": 24,
   "metadata": {},
   "outputs": [],
   "source": [
    "# Eger dosyayı açtıgınızda bu bilgi yerine hâlâ bos bir dosya görüyorsanız, sebebi tamponda\n",
    "# tutulan verilerin henüz dosyaya islenmemis olmasıdır."
   ]
  },
  {
   "cell_type": "code",
   "execution_count": 25,
   "metadata": {},
   "outputs": [],
   "source": [
    "#Eger durum böyleyse, dosyanızı kapatmanız gerekiyor. Bunu close() adlı baska bir metotla yapabiliriz."
   ]
  },
  {
   "cell_type": "code",
   "execution_count": 26,
   "metadata": {},
   "outputs": [],
   "source": [
    "odemeler.close()"
   ]
  },
  {
   "cell_type": "code",
   "execution_count": 27,
   "metadata": {},
   "outputs": [],
   "source": [
    "maaslar.close()"
   ]
  },
  {
   "cell_type": "code",
   "execution_count": 28,
   "metadata": {},
   "outputs": [
    {
     "data": {
      "text/plain": [
       "'\\neger yazdıgınız bilgiler zaten dosyaya islenmisse dosyayı\\nkapatmanıza gerek olmadıgı anlamını çıkarmayın. Herhangi bir sekilde açtıgınız dosyaları\\nkapatmanız, özellikle dosyanın açılmasıyla birlikte kullanılmaya baslayan ve arka planda\\nçalısan kaynakların serbest bırakılması açısından büyük önem tasıyor. O yüzden açtıgımız\\ndosyaların tamamını programın isleyisi sona erdiginde kapatmayı unutmuyoruz'"
      ]
     },
     "execution_count": 28,
     "metadata": {},
     "output_type": "execute_result"
    }
   ],
   "source": [
    "\"\"\"\n",
    "eger yazdıgınız bilgiler zaten dosyaya islenmisse dosyayı\n",
    "kapatmanıza gerek olmadıgı anlamını çıkarmayın. Herhangi bir sekilde açtıgınız dosyaları\n",
    "kapatmanız, özellikle dosyanın açılmasıyla birlikte kullanılmaya baslayan ve arka planda\n",
    "çalısan kaynakların serbest bırakılması açısından büyük önem tasıyor. O yüzden açtıgımız\n",
    "dosyaların tamamını programın isleyisi sona erdiginde kapatmayı unutmuyoruz\"\"\""
   ]
  },
  {
   "cell_type": "markdown",
   "metadata": {},
   "source": [
    "## Dosya Okumak"
   ]
  },
  {
   "cell_type": "code",
   "execution_count": 14,
   "metadata": {},
   "outputs": [],
   "source": [
    "# odemeler = open(\"C:\\\\Users\\\\T55294\\\\Desktop\\\\PythonDosyalar\\\\odemeler.txt\",\"r\")"
   ]
  },
  {
   "cell_type": "code",
   "execution_count": 15,
   "metadata": {},
   "outputs": [
    {
     "data": {
      "text/plain": [
       "'Eger bir\\ndosyayı okuma kipinde açacaksanız, bu “r” har1ni hiç belirtmeseniz de olur'"
      ]
     },
     "execution_count": 15,
     "metadata": {},
     "output_type": "execute_result"
    }
   ],
   "source": [
    "\"\"\"Eger bir\n",
    "dosyayı okuma kipinde açacaksanız, bu “r” har1ni hiç belirtmeseniz de olur\"\"\""
   ]
  },
  {
   "cell_type": "code",
   "execution_count": 16,
   "metadata": {},
   "outputs": [
    {
     "data": {
      "text/plain": [
       "'“r” kipiyle açtıgımız bir dosyayı okumak için ise read(), readline() ve\\nreadlines() adlı üç farklı metottan yararlanacagız'"
      ]
     },
     "execution_count": 16,
     "metadata": {},
     "output_type": "execute_result"
    }
   ],
   "source": [
    "\"\"\"“r” kipiyle açtıgımız bir dosyayı okumak için ise read(), readline() ve\n",
    "readlines() adlı üç farklı metottan yararlanacagız\"\"\""
   ]
  },
  {
   "cell_type": "code",
   "execution_count": 17,
   "metadata": {},
   "outputs": [
    {
     "data": {
      "text/plain": [
       "'Bu metotların üçü de dosya okumaya yarasa da, verdikleri çıktılar birbirinden farklıdır. O\\nyüzden farklı amaçlar için farklı metodu kullanmanız gereken durumlarla karsılasabilirsiniz.'"
      ]
     },
     "execution_count": 17,
     "metadata": {},
     "output_type": "execute_result"
    }
   ],
   "source": [
    "\"\"\"Bu metotların üçü de dosya okumaya yarasa da, verdikleri çıktılar birbirinden farklıdır. O\n",
    "yüzden farklı amaçlar için farklı metodu kullanmanız gereken durumlarla karsılasabilirsiniz.\"\"\""
   ]
  },
  {
   "cell_type": "code",
   "execution_count": 29,
   "metadata": {},
   "outputs": [],
   "source": [
    "maaslar = open(\"C:\\\\Users\\\\T55294\\\\Desktop\\\\PythonDosyalar\\\\maaslar.txt\",\"r\")"
   ]
  },
  {
   "cell_type": "code",
   "execution_count": 30,
   "metadata": {},
   "outputs": [
    {
     "name": "stdout",
     "output_type": "stream",
     "text": [
      "Mert : 300\n",
      "Ali  : 500\n",
      "AyÅŸe : 600\n",
      "Zeynep : 700\n"
     ]
    }
   ],
   "source": [
    "print(maaslar.read())"
   ]
  },
  {
   "cell_type": "code",
   "execution_count": 31,
   "metadata": {},
   "outputs": [
    {
     "data": {
      "text/plain": [
       "'eger bu kodları Windows’ta çalıstırdıysanız Türkçe karakterler bozuk çıkmıs olabilir. Bu\\ndurumu simdilik görmezden gelin'"
      ]
     },
     "execution_count": 31,
     "metadata": {},
     "output_type": "execute_result"
    }
   ],
   "source": [
    "\"\"\"eger bu kodları Windows’ta çalıstırdıysanız Türkçe karakterler bozuk çıkmıs olabilir. Bu\n",
    "durumu simdilik görmezden gelin\"\"\""
   ]
  },
  {
   "cell_type": "code",
   "execution_count": 33,
   "metadata": {},
   "outputs": [],
   "source": [
    "maaslar.close()"
   ]
  },
  {
   "cell_type": "code",
   "execution_count": 34,
   "metadata": {},
   "outputs": [],
   "source": [
    "maaslar = open(\"C:\\\\Users\\\\T55294\\\\Desktop\\\\PythonDosyalar\\\\maaslar.txt\",\"r\")"
   ]
  },
  {
   "cell_type": "code",
   "execution_count": 35,
   "metadata": {},
   "outputs": [
    {
     "name": "stdout",
     "output_type": "stream",
     "text": [
      "Mert : 300\n",
      "\n"
     ]
    }
   ],
   "source": [
    "print(maaslar.readline())"
   ]
  },
  {
   "cell_type": "code",
   "execution_count": 36,
   "metadata": {},
   "outputs": [
    {
     "data": {
      "text/plain": [
       "'ad() metodu bize dosya içeriginin tamamını veriyordu. Gördügünüz gibi readline()\\nmetodu tek bir satır veriyor. Yani bu metot yardımıyla dosyaları satır satır okuyabiliyoruz'"
      ]
     },
     "execution_count": 36,
     "metadata": {},
     "output_type": "execute_result"
    }
   ],
   "source": [
    "\"\"\"ad() metodu bize dosya içeriginin tamamını veriyordu. Gördügünüz gibi readline()\n",
    "metodu tek bir satır veriyor. Yani bu metot yardımıyla dosyaları satır satır okuyabiliyoruz\"\"\""
   ]
  },
  {
   "cell_type": "code",
   "execution_count": 37,
   "metadata": {},
   "outputs": [
    {
     "name": "stdout",
     "output_type": "stream",
     "text": [
      "Ali  : 500\n",
      "\n"
     ]
    }
   ],
   "source": [
    "print(maaslar.readline())"
   ]
  },
  {
   "cell_type": "code",
   "execution_count": 38,
   "metadata": {},
   "outputs": [
    {
     "name": "stdout",
     "output_type": "stream",
     "text": [
      "AyÅŸe : 600\n",
      "\n"
     ]
    }
   ],
   "source": [
    "print(maaslar.readline())"
   ]
  },
  {
   "cell_type": "code",
   "execution_count": 39,
   "metadata": {},
   "outputs": [
    {
     "name": "stdout",
     "output_type": "stream",
     "text": [
      "Zeynep : 700\n"
     ]
    }
   ],
   "source": [
    "print(maaslar.readline())"
   ]
  },
  {
   "cell_type": "code",
   "execution_count": 40,
   "metadata": {},
   "outputs": [],
   "source": [
    "maaslar.close()"
   ]
  },
  {
   "cell_type": "code",
   "execution_count": 41,
   "metadata": {},
   "outputs": [
    {
     "name": "stdout",
     "output_type": "stream",
     "text": [
      "['Mert : 300\\n', 'Ali  : 500\\n', 'AyÅŸe : 600\\n', 'Zeynep : 700']\n"
     ]
    }
   ],
   "source": [
    "maaslar = open(\"C:\\\\Users\\\\T55294\\\\Desktop\\\\PythonDosyalar\\\\maaslar.txt\",\"r\")\n",
    "print(maaslar.readlines())"
   ]
  },
  {
   "cell_type": "code",
   "execution_count": 49,
   "metadata": {},
   "outputs": [],
   "source": [
    "maaslar.close()"
   ]
  },
  {
   "cell_type": "code",
   "execution_count": 42,
   "metadata": {},
   "outputs": [
    {
     "data": {
      "text/plain": [
       "'bu defa karakter dizisi yerine bir liste ile karsılasıyoruz. Demek ki read() ve\\nreadline() metotları çıktı olarak bize bir karakter dizisi verirken, readlines() metodu liste\\nveriyormus.'"
      ]
     },
     "execution_count": 42,
     "metadata": {},
     "output_type": "execute_result"
    }
   ],
   "source": [
    "\"\"\"bu defa karakter dizisi yerine bir liste ile karsılasıyoruz. Demek ki read() ve\n",
    "readline() metotları çıktı olarak bize bir karakter dizisi verirken, readlines() metodu liste\n",
    "veriyormus.\"\"\""
   ]
  },
  {
   "cell_type": "markdown",
   "metadata": {},
   "source": [
    "## Dosyaları Otomatik Kapatma"
   ]
  },
  {
   "cell_type": "code",
   "execution_count": 43,
   "metadata": {},
   "outputs": [
    {
     "data": {
      "text/plain": [
       "'\\nBu tür durumlara karsı iki seçeneginiz var:\\n1. try... except... finally... bloklarından yararlanmak\\n2. with adlı bir deyimi kullanmak\\n'"
      ]
     },
     "execution_count": 43,
     "metadata": {},
     "output_type": "execute_result"
    }
   ],
   "source": [
    "\"\"\"\n",
    "Bu tür durumlara karsı iki seçeneginiz var:\n",
    "1. try... except... finally... bloklarından yararlanmak\n",
    "2. with adlı bir deyimi kullanmak\n",
    "\"\"\""
   ]
  },
  {
   "cell_type": "code",
   "execution_count": 45,
   "metadata": {},
   "outputs": [
    {
     "data": {
      "text/plain": [
       "'\\ntry:\\n    dosya = open(\"dosyaadı\", \"r\")\\n    ...burada dosyayla bazı işlemler yapıyoruz...\\n    ...ve ansızın bir hata oluşuyor...\\nexcept IOError:\\n    print(\"bir hata oluştu!\")\\nfinally:\\n    dosya.close()\\n    '"
      ]
     },
     "execution_count": 45,
     "metadata": {},
     "output_type": "execute_result"
    }
   ],
   "source": [
    "\"\"\"\n",
    "try:\n",
    "    dosya = open(\"dosyaadı\", \"r\")\n",
    "    ...burada dosyayla bazı işlemler yapıyoruz...\n",
    "    ...ve ansızın bir hata oluşuyor...\n",
    "except IOError:\n",
    "    print(\"bir hata oluştu!\")\n",
    "finally:\n",
    "    dosya.close()\n",
    "    \"\"\""
   ]
  },
  {
   "cell_type": "code",
   "execution_count": 46,
   "metadata": {},
   "outputs": [
    {
     "data": {
      "text/plain": [
       "'\\nwith open(\"dosyaadı\", \"r\") as dosya:\\nprint(dosya.read())\\n'"
      ]
     },
     "execution_count": 46,
     "metadata": {},
     "output_type": "execute_result"
    }
   ],
   "source": [
    "\"\"\"\n",
    "with open(\"dosyaadı\", \"r\") as dosya:\n",
    "print(dosya.read())\n",
    "\"\"\""
   ]
  },
  {
   "cell_type": "markdown",
   "metadata": {},
   "source": [
    "## Dosyayı Ileri-Geri Sarmak"
   ]
  },
  {
   "cell_type": "code",
   "execution_count": 47,
   "metadata": {},
   "outputs": [
    {
     "data": {
      "text/plain": [
       "'\\nDosya okumak için kullanılan metotları anlatırken, dosya bir kez okunduktan sonra imlecin\\notomatik olarak dosyanın basına dönmedigini görmüstük. Yani mesela read() metoduyla\\ndosyayı bir kez okuduktan sonra, dosyayı tekrar okumak istersek elde edecegimiz sey bos bir\\nkarakter dizisi olacaktır. Çünkü dosya okunduktan sonra okunacak baska bir satır kalmamıs,\\nimleç dosya sonuna ulasmıs ve otomatik olarak da basa dönmemistir.\\n'"
      ]
     },
     "execution_count": 47,
     "metadata": {},
     "output_type": "execute_result"
    }
   ],
   "source": [
    "\"\"\"\n",
    "Dosya okumak için kullanılan metotları anlatırken, dosya bir kez okunduktan sonra imlecin\n",
    "otomatik olarak dosyanın basına dönmedigini görmüstük. Yani mesela read() metoduyla\n",
    "dosyayı bir kez okuduktan sonra, dosyayı tekrar okumak istersek elde edecegimiz sey bos bir\n",
    "karakter dizisi olacaktır. Çünkü dosya okunduktan sonra okunacak baska bir satır kalmamıs,\n",
    "imleç dosya sonuna ulasmıs ve otomatik olarak da basa dönmemistir.\n",
    "\"\"\""
   ]
  },
  {
   "cell_type": "code",
   "execution_count": 48,
   "metadata": {},
   "outputs": [
    {
     "data": {
      "text/plain": [
       "'\\nPeki dosyayı tamamen okuduktan sonra tekrar basa dönmek istersek ne yapacagız? Bir dosya\\ntamamen okunduktan sonra tekrar basa dönmek için dosyaların seek() adlı bir metodundan\\nyararlanacagız.'"
      ]
     },
     "execution_count": 48,
     "metadata": {},
     "output_type": "execute_result"
    }
   ],
   "source": [
    "\"\"\"\n",
    "Peki dosyayı tamamen okuduktan sonra tekrar basa dönmek istersek ne yapacagız? Bir dosya\n",
    "tamamen okunduktan sonra tekrar basa dönmek için dosyaların seek() adlı bir metodundan\n",
    "yararlanacagız.\"\"\""
   ]
  },
  {
   "cell_type": "code",
   "execution_count": 50,
   "metadata": {},
   "outputs": [
    {
     "name": "stdout",
     "output_type": "stream",
     "text": [
      "Mert : 300\n",
      "Ali  : 500\n",
      "AyÅŸe : 600\n",
      "Zeynep : 700\n"
     ]
    }
   ],
   "source": [
    "maaslar = open(\"C:\\\\Users\\\\T55294\\\\Desktop\\\\PythonDosyalar\\\\maaslar.txt\",\"r\")\n",
    "print(maaslar.read())"
   ]
  },
  {
   "cell_type": "code",
   "execution_count": 51,
   "metadata": {},
   "outputs": [
    {
     "name": "stdout",
     "output_type": "stream",
     "text": [
      "\n"
     ]
    }
   ],
   "source": [
    "print(maaslar.read())"
   ]
  },
  {
   "cell_type": "code",
   "execution_count": 52,
   "metadata": {},
   "outputs": [],
   "source": [
    "maaslar.close()"
   ]
  },
  {
   "cell_type": "code",
   "execution_count": 53,
   "metadata": {},
   "outputs": [
    {
     "name": "stdout",
     "output_type": "stream",
     "text": [
      "Mert : 300\n",
      "Ali  : 500\n",
      "AyÅŸe : 600\n",
      "Zeynep : 700\n"
     ]
    }
   ],
   "source": [
    "maaslar = open(\"C:\\\\Users\\\\T55294\\\\Desktop\\\\PythonDosyalar\\\\maaslar.txt\",\"r\")\n",
    "print(maaslar.read())"
   ]
  },
  {
   "cell_type": "code",
   "execution_count": 54,
   "metadata": {},
   "outputs": [
    {
     "data": {
      "text/plain": [
       "0"
      ]
     },
     "execution_count": 54,
     "metadata": {},
     "output_type": "execute_result"
    }
   ],
   "source": [
    "maaslar.seek(0)"
   ]
  },
  {
   "cell_type": "code",
   "execution_count": 55,
   "metadata": {},
   "outputs": [
    {
     "name": "stdout",
     "output_type": "stream",
     "text": [
      "Mert : 300\n",
      "Ali  : 500\n",
      "AyÅŸe : 600\n",
      "Zeynep : 700\n"
     ]
    }
   ],
   "source": [
    "print(maaslar.read())"
   ]
  },
  {
   "cell_type": "code",
   "execution_count": 56,
   "metadata": {},
   "outputs": [
    {
     "data": {
      "text/plain": [
       "'\\nGördügünüz gibi seek() metodunu bir parametre ile birlikte kullandık. Bu metoda verdigimiz\\nparametre, dosya içinde kaçıncı bayt konumuna gidecegimizi gösteriyor. Biz burada 0\\nsayısını kullanarak dosyanın ilk baytına, yani en basına dönmüs olduk'"
      ]
     },
     "execution_count": 56,
     "metadata": {},
     "output_type": "execute_result"
    }
   ],
   "source": [
    "\"\"\"\n",
    "Gördügünüz gibi seek() metodunu bir parametre ile birlikte kullandık. Bu metoda verdigimiz\n",
    "parametre, dosya içinde kaçıncı bayt konumuna gidecegimizi gösteriyor. Biz burada 0\n",
    "sayısını kullanarak dosyanın ilk baytına, yani en basına dönmüs olduk\"\"\""
   ]
  },
  {
   "cell_type": "code",
   "execution_count": 57,
   "metadata": {},
   "outputs": [],
   "source": [
    "maaslar.close()"
   ]
  },
  {
   "cell_type": "code",
   "execution_count": 58,
   "metadata": {},
   "outputs": [
    {
     "name": "stdout",
     "output_type": "stream",
     "text": [
      "Mert : 300\n",
      "Ali  : 500\n",
      "AyÅŸe : 600\n",
      "Zeynep : 700\n"
     ]
    }
   ],
   "source": [
    "maaslar = open(\"C:\\\\Users\\\\T55294\\\\Desktop\\\\PythonDosyalar\\\\maaslar.txt\",\"r\")\n",
    "print(maaslar.read())"
   ]
  },
  {
   "cell_type": "code",
   "execution_count": 59,
   "metadata": {},
   "outputs": [
    {
     "data": {
      "text/plain": [
       "10"
      ]
     },
     "execution_count": 59,
     "metadata": {},
     "output_type": "execute_result"
    }
   ],
   "source": [
    "maaslar.seek(10) # 1.bayta döndü"
   ]
  },
  {
   "cell_type": "code",
   "execution_count": 60,
   "metadata": {},
   "outputs": [
    {
     "name": "stdout",
     "output_type": "stream",
     "text": [
      "\n",
      "Ali  : 500\n",
      "AyÅŸe : 600\n",
      "Zeynep : 700\n"
     ]
    }
   ],
   "source": [
    "print(maaslar.read()) #10.bayttan itibaren okuduk"
   ]
  },
  {
   "cell_type": "code",
   "execution_count": 61,
   "metadata": {},
   "outputs": [],
   "source": [
    "maaslar.close()"
   ]
  },
  {
   "cell_type": "markdown",
   "metadata": {},
   "source": [
    "## Dosyalarda Degisiklik Yapmak"
   ]
  },
  {
   "cell_type": "markdown",
   "metadata": {},
   "source": [
    "## Dosyaların Sonunda Degisiklik Yapmak"
   ]
  },
  {
   "cell_type": "code",
   "execution_count": 62,
   "metadata": {},
   "outputs": [
    {
     "data": {
      "text/plain": [
       "'\\nEger bir dosyayı tamamen silmeden, o dosyaya ekleme yapmak veya o dosyada herhangi\\nbir degisiklik yapmak istiyorsak, dosyamızı buraya kadar ögrendigimiz iki kipten daha farklı\\nbir kiple açmamız gerekiyor. Simdi ögrenecegimiz bu yeni kipin adı “a”. Yani Python’da içi bos\\nolmayan bir dosyada degisiklik yapabilmek için “a” adlı bir kipten yararlanacagız:\\n'"
      ]
     },
     "execution_count": 62,
     "metadata": {},
     "output_type": "execute_result"
    }
   ],
   "source": [
    "\"\"\"\n",
    "Eger bir dosyayı tamamen silmeden, o dosyaya ekleme yapmak veya o dosyada herhangi\n",
    "bir degisiklik yapmak istiyorsak, dosyamızı buraya kadar ögrendigimiz iki kipten daha farklı\n",
    "bir kiple açmamız gerekiyor. Simdi ögrenecegimiz bu yeni kipin adı “a”. Yani Python’da içi bos\n",
    "olmayan bir dosyada degisiklik yapabilmek için “a” adlı bir kipten yararlanacagız:\n",
    "\"\"\""
   ]
  },
  {
   "cell_type": "code",
   "execution_count": 63,
   "metadata": {},
   "outputs": [],
   "source": [
    "# f = open(dosya_adı, \"a\")"
   ]
  },
  {
   "cell_type": "code",
   "execution_count": 64,
   "metadata": {},
   "outputs": [],
   "source": [
    "with open(\"C:\\\\Users\\\\T55294\\\\Desktop\\\\PythonDosyalar\\\\maaslar.txt\",\"a\") as maaslar:\n",
    "    maaslar.write(\"Selin Özden\\t: 640\")"
   ]
  },
  {
   "cell_type": "code",
   "execution_count": 66,
   "metadata": {},
   "outputs": [
    {
     "name": "stdout",
     "output_type": "stream",
     "text": [
      "Mert : 300\n",
      "Ali  : 500\n",
      "AyÅŸe : 600\n",
      "Zeynep : 700Selin Özden\t: 640\n"
     ]
    }
   ],
   "source": [
    "with open(\"C:\\\\Users\\\\T55294\\\\Desktop\\\\PythonDosyalar\\\\maaslar.txt\",\"r\") as maaslar:\n",
    "    print(maaslar.read())"
   ]
  },
  {
   "cell_type": "code",
   "execution_count": 67,
   "metadata": {},
   "outputs": [],
   "source": [
    "with open(\"C:\\\\Users\\\\T55294\\\\Desktop\\\\PythonDosyalar\\\\maaslar.txt\",\"a\") as maaslar:\n",
    "    maaslar.write(\"\\nBurak Tamer\\t: 640\")"
   ]
  },
  {
   "cell_type": "code",
   "execution_count": 68,
   "metadata": {},
   "outputs": [
    {
     "name": "stdout",
     "output_type": "stream",
     "text": [
      "Mert : 300\n",
      "Ali  : 500\n",
      "AyÅŸe : 600\n",
      "Zeynep : 700Selin Özden\t: 640\n",
      "Burak Tamer\t: 640\n"
     ]
    }
   ],
   "source": [
    "with open(\"C:\\\\Users\\\\T55294\\\\Desktop\\\\PythonDosyalar\\\\maaslar.txt\",\"r\") as maaslar:\n",
    "    print(maaslar.read())"
   ]
  },
  {
   "cell_type": "code",
   "execution_count": 69,
   "metadata": {},
   "outputs": [
    {
     "data": {
      "text/plain": [
       "'yrıca eger bu satırdan sonra bir baska satır daha ekleyecekseniz,\\nilgili satırın sonuna da bir satır bası karakteri koymanız gerekebilir'"
      ]
     },
     "execution_count": 69,
     "metadata": {},
     "output_type": "execute_result"
    }
   ],
   "source": [
    "\"\"\"yrıca eger bu satırdan sonra bir baska satır daha ekleyecekseniz,\n",
    "ilgili satırın sonuna da bir satır bası karakteri koymanız gerekebilir\"\"\""
   ]
  },
  {
   "cell_type": "markdown",
   "metadata": {},
   "source": [
    "## Dosyaların Basında Degisiklik Yapmak"
   ]
  },
  {
   "cell_type": "code",
   "execution_count": 70,
   "metadata": {},
   "outputs": [
    {
     "ename": "UnsupportedOperation",
     "evalue": "not writable",
     "output_type": "error",
     "traceback": [
      "\u001b[1;31m---------------------------------------------------------------------------\u001b[0m",
      "\u001b[1;31mUnsupportedOperation\u001b[0m                      Traceback (most recent call last)",
      "\u001b[1;32m<ipython-input-70-40468074d530>\u001b[0m in \u001b[0;36m<module>\u001b[1;34m\u001b[0m\n\u001b[0;32m      2\u001b[0m     \u001b[0mveri\u001b[0m \u001b[1;33m=\u001b[0m \u001b[0mf\u001b[0m\u001b[1;33m.\u001b[0m\u001b[0mread\u001b[0m\u001b[1;33m(\u001b[0m\u001b[1;33m)\u001b[0m\u001b[1;33m\u001b[0m\u001b[1;33m\u001b[0m\u001b[0m\n\u001b[0;32m      3\u001b[0m     \u001b[0mf\u001b[0m\u001b[1;33m.\u001b[0m\u001b[0mseek\u001b[0m\u001b[1;33m(\u001b[0m\u001b[1;36m0\u001b[0m\u001b[1;33m)\u001b[0m \u001b[1;31m#Dosyayı başa sarıyoruz\u001b[0m\u001b[1;33m\u001b[0m\u001b[1;33m\u001b[0m\u001b[0m\n\u001b[1;32m----> 4\u001b[1;33m     \u001b[0mf\u001b[0m\u001b[1;33m.\u001b[0m\u001b[0mwrite\u001b[0m\u001b[1;33m(\u001b[0m\u001b[1;34m\"Sedat Köz\\t: 440\\n\"\u001b[0m\u001b[1;33m+\u001b[0m\u001b[0mveri\u001b[0m\u001b[1;33m)\u001b[0m\u001b[1;33m\u001b[0m\u001b[1;33m\u001b[0m\u001b[0m\n\u001b[0m",
      "\u001b[1;31mUnsupportedOperation\u001b[0m: not writable"
     ]
    }
   ],
   "source": [
    "with open(\"C:\\\\Users\\\\T55294\\\\Desktop\\\\PythonDosyalar\\\\maaslar.txt\",\"r\") as f:\n",
    "    veri = f.read()\n",
    "    f.seek(0) #Dosyayı başa sarıyoruz\n",
    "    f.write(\"Sedat Köz\\t: 440\\n\"+veri)"
   ]
  },
  {
   "cell_type": "code",
   "execution_count": 71,
   "metadata": {},
   "outputs": [
    {
     "data": {
      "text/plain": [
       "'Bu hatayı almamızın sebebi dosyayı ‘okuma’ kipinde açmıs olmamız. Çünkü bir dosyayı\\nokuma kipinde açtıgımızda o dosya üzerinde yalnızca okuma islemleri yapabiliriz. Dosyaya\\nyeni veri ekleme kısmına gelindiginde, dosya yalnızca okuma yetkisine sahip oldugu için,\\nPython bize yukarıdaki hata mesajını verecek, dosyanın ‘yazılamaz’ oldugundan sikayet\\nedecektir.'"
      ]
     },
     "execution_count": 71,
     "metadata": {},
     "output_type": "execute_result"
    }
   ],
   "source": [
    "\"\"\"Bu hatayı almamızın sebebi dosyayı ‘okuma’ kipinde açmıs olmamız. Çünkü bir dosyayı\n",
    "okuma kipinde açtıgımızda o dosya üzerinde yalnızca okuma islemleri yapabiliriz. Dosyaya\n",
    "yeni veri ekleme kısmına gelindiginde, dosya yalnızca okuma yetkisine sahip oldugu için,\n",
    "Python bize yukarıdaki hata mesajını verecek, dosyanın ‘yazılamaz’ oldugundan sikayet\n",
    "edecektir.\"\"\""
   ]
  },
  {
   "cell_type": "code",
   "execution_count": 72,
   "metadata": {},
   "outputs": [
    {
     "ename": "UnsupportedOperation",
     "evalue": "not readable",
     "output_type": "error",
     "traceback": [
      "\u001b[1;31m---------------------------------------------------------------------------\u001b[0m",
      "\u001b[1;31mUnsupportedOperation\u001b[0m                      Traceback (most recent call last)",
      "\u001b[1;32m<ipython-input-72-e42b034439cc>\u001b[0m in \u001b[0;36m<module>\u001b[1;34m\u001b[0m\n\u001b[0;32m      1\u001b[0m \u001b[1;32mwith\u001b[0m \u001b[0mopen\u001b[0m\u001b[1;33m(\u001b[0m\u001b[1;34m\"C:\\\\Users\\\\T55294\\\\Desktop\\\\PythonDosyalar\\\\maaslar.txt\"\u001b[0m\u001b[1;33m,\u001b[0m\u001b[1;34m\"w\"\u001b[0m\u001b[1;33m)\u001b[0m \u001b[1;32mas\u001b[0m \u001b[0mf\u001b[0m\u001b[1;33m:\u001b[0m\u001b[1;33m\u001b[0m\u001b[1;33m\u001b[0m\u001b[0m\n\u001b[1;32m----> 2\u001b[1;33m     \u001b[0mveri\u001b[0m \u001b[1;33m=\u001b[0m \u001b[0mf\u001b[0m\u001b[1;33m.\u001b[0m\u001b[0mread\u001b[0m\u001b[1;33m(\u001b[0m\u001b[1;33m)\u001b[0m\u001b[1;33m\u001b[0m\u001b[1;33m\u001b[0m\u001b[0m\n\u001b[0m\u001b[0;32m      3\u001b[0m     \u001b[0mf\u001b[0m\u001b[1;33m.\u001b[0m\u001b[0mseek\u001b[0m\u001b[1;33m(\u001b[0m\u001b[1;36m0\u001b[0m\u001b[1;33m)\u001b[0m \u001b[1;31m#Dosyayı başa sarıyoruz\u001b[0m\u001b[1;33m\u001b[0m\u001b[1;33m\u001b[0m\u001b[0m\n\u001b[0;32m      4\u001b[0m     \u001b[0mf\u001b[0m\u001b[1;33m.\u001b[0m\u001b[0mwrite\u001b[0m\u001b[1;33m(\u001b[0m\u001b[1;34m\"Sedat Köz\\t: 440\\n\"\u001b[0m\u001b[1;33m+\u001b[0m\u001b[0mveri\u001b[0m\u001b[1;33m)\u001b[0m\u001b[1;33m\u001b[0m\u001b[1;33m\u001b[0m\u001b[0m\n",
      "\u001b[1;31mUnsupportedOperation\u001b[0m: not readable"
     ]
    }
   ],
   "source": [
    "with open(\"C:\\\\Users\\\\T55294\\\\Desktop\\\\PythonDosyalar\\\\maaslar.txt\",\"w\") as f:\n",
    "    veri = f.read()\n",
    "    f.seek(0) #Dosyayı başa sarıyoruz\n",
    "    f.write(\"Sedat Köz\\t: 440\\n\"+veri)"
   ]
  },
  {
   "cell_type": "code",
   "execution_count": 73,
   "metadata": {},
   "outputs": [
    {
     "data": {
      "text/plain": [
       "'bu kez de dosyanın okunamadıgına iliskin bir hata alıyoruz. Çünkü biz bu\\nkez de dosyayı ‘yazma’ kipinde açtık. Ancak burada söyle bir durum var. Bildiginiz gibi, bir\\ndosyayı “w” kipi ile açtıgımızda, Python bize hiçbir sey sormadan varolan içerigi silecektir.\\nBurada da yukarıda yazdıgımız kodlar yüzünden dosya içerigini kaybettik. Unutmayın, dosya\\nokuma-yazma islemleri belli bir takım riskleri içinde barındırır. O yüzden bu tür islemleri\\nyaparken fazladan dikkat göstermeliyiz'"
      ]
     },
     "execution_count": 73,
     "metadata": {},
     "output_type": "execute_result"
    }
   ],
   "source": [
    "\"\"\"bu kez de dosyanın okunamadıgına iliskin bir hata alıyoruz. Çünkü biz bu\n",
    "kez de dosyayı ‘yazma’ kipinde açtık. Ancak burada söyle bir durum var. Bildiginiz gibi, bir\n",
    "dosyayı “w” kipi ile açtıgımızda, Python bize hiçbir sey sormadan varolan içerigi silecektir.\n",
    "Burada da yukarıda yazdıgımız kodlar yüzünden dosya içerigini kaybettik. Unutmayın, dosya\n",
    "okuma-yazma islemleri belli bir takım riskleri içinde barındırır. O yüzden bu tür islemleri\n",
    "yaparken fazladan dikkat göstermeliyiz\"\"\""
   ]
  },
  {
   "cell_type": "code",
   "execution_count": 75,
   "metadata": {},
   "outputs": [
    {
     "name": "stdout",
     "output_type": "stream",
     "text": [
      "\n"
     ]
    }
   ],
   "source": [
    "with open(\"C:\\\\Users\\\\T55294\\\\Desktop\\\\PythonDosyalar\\\\maaslar.txt\",\"r\") as f:\n",
    "    print(f.read())"
   ]
  },
  {
   "cell_type": "code",
   "execution_count": 76,
   "metadata": {},
   "outputs": [],
   "source": [
    "# Dosyanın boş olduğunu görebiliriz."
   ]
  },
  {
   "cell_type": "code",
   "execution_count": 77,
   "metadata": {},
   "outputs": [],
   "source": [
    "with open(\"C:\\\\Users\\\\T55294\\\\Desktop\\\\PythonDosyalar\\\\maaslar.txt\",\"r+\") as f:\n",
    "    veri = f.read()\n",
    "    f.seek(0) #Dosyayı başa sarıyoruz\n",
    "    f.write(\"Sedat Köz\\t: 440\\n\"+veri)"
   ]
  },
  {
   "cell_type": "code",
   "execution_count": 78,
   "metadata": {},
   "outputs": [
    {
     "data": {
      "text/plain": [
       "'veri = f.read() ile dosyanın bütün içerigini veri adlı bir degiskene atamıs olduk.ki bu islemi\\nyapmazsak ne olur? '"
      ]
     },
     "execution_count": 78,
     "metadata": {},
     "output_type": "execute_result"
    }
   ],
   "source": [
    "\"\"\"veri = f.read() ile dosyanın bütün içerigini veri adlı bir degiskene atamıs olduk.ki bu islemi\n",
    "yapmazsak ne olur? \"\"\""
   ]
  },
  {
   "cell_type": "code",
   "execution_count": 79,
   "metadata": {},
   "outputs": [],
   "source": [
    "with open(\"C:\\\\Users\\\\T55294\\\\Desktop\\\\PythonDosyalar\\\\maaslar.txt\",\"r+\") as f:\n",
    "    f.seek(0) #Dosyayı başa sarıyoruz\n",
    "    f.write(\"Yılmaz Bayram\\t: 440\\n\")"
   ]
  },
  {
   "cell_type": "code",
   "execution_count": 80,
   "metadata": {},
   "outputs": [
    {
     "data": {
      "text/plain": [
       "'dosyadaki ilk satırı silip onun yerine\\ngeçecektir. Çünkü f.seek(0) ile dosyanın basına dönüp o noktaya, yani dosyanın ilk satırına\\nbir veri ekledikten sonra Python öbür satırları otomatik olarak bir alt satıra kaydırmaz. Bunun\\nyerine ilk satırdaki verileri silip onun yerine, yeni eklenen satırı getirir'"
      ]
     },
     "execution_count": 80,
     "metadata": {},
     "output_type": "execute_result"
    }
   ],
   "source": [
    "\"\"\"dosyadaki ilk satırı silip onun yerine\n",
    "geçecektir. Çünkü f.seek(0) ile dosyanın basına dönüp o noktaya, yani dosyanın ilk satırına\n",
    "bir veri ekledikten sonra Python öbür satırları otomatik olarak bir alt satıra kaydırmaz. Bunun\n",
    "yerine ilk satırdaki verileri silip onun yerine, yeni eklenen satırı getirir\"\"\""
   ]
  },
  {
   "cell_type": "markdown",
   "metadata": {},
   "source": [
    "## Dosyaların Ortasında Degisiklik Yapmak"
   ]
  },
  {
   "cell_type": "code",
   "execution_count": 81,
   "metadata": {},
   "outputs": [],
   "source": [
    "# Yaslar adlı txt oluştur."
   ]
  },
  {
   "cell_type": "code",
   "execution_count": 82,
   "metadata": {},
   "outputs": [],
   "source": [
    "with open(\"C:\\\\Users\\\\T55294\\\\Desktop\\\\PythonDosyalar\\\\yaslar.txt\", \"r+\") as f:\n",
    "    veri = f.readlines()\n",
    "    veri.insert(2, \"Murat Nazım: 30\\n\")\n",
    "    f.seek(0)\n",
    "    f.writelines(veri)"
   ]
  },
  {
   "cell_type": "code",
   "execution_count": 83,
   "metadata": {},
   "outputs": [
    {
     "data": {
      "text/plain": [
       "'Yukarıdaki kodlarda dikkatimizi çeken pek çok özellik var. Ilk olarak gözümüze çarpan\\nsey, dosyayı “r+” kipinde açmıs olmamız. Bu sekilde dosyayı hem okuma hem de yazma\\nkipinde açmıs oluyoruz. Çünkü dosyada aynı anda hem okuma hem de yazma islemleri\\ngerçeklestirecegiz.'"
      ]
     },
     "execution_count": 83,
     "metadata": {},
     "output_type": "execute_result"
    }
   ],
   "source": [
    "\"\"\"Yukarıdaki kodlarda dikkatimizi çeken pek çok özellik var. Ilk olarak gözümüze çarpan\n",
    "sey, dosyayı “r+” kipinde açmıs olmamız. Bu sekilde dosyayı hem okuma hem de yazma\n",
    "kipinde açmıs oluyoruz. Çünkü dosyada aynı anda hem okuma hem de yazma islemleri\n",
    "gerçeklestirecegiz.\"\"\""
   ]
  },
  {
   "cell_type": "code",
   "execution_count": 85,
   "metadata": {},
   "outputs": [
    {
     "data": {
      "text/plain": [
       "'veri = f.readlines() sayede dosyadaki bütün verileri bir liste olarak almıs olduk. Liste adlı veri tipi ile ne\\nyapabiliyorsak, bu sekilde aldıgımız dosya içerigi üzerinde de aynı seyleri yapabiliriz. Bizim\\namacımız bu listenin 2. sırasına yeni bir satır eklemek. Bu islemi listelerin insert() adlı\\nmetodu yardımıyla rahatlıkla yapabiliriz\\nveri.insert(2, \"Murat Nazım: 30\\n\")\\n'"
      ]
     },
     "execution_count": 85,
     "metadata": {},
     "output_type": "execute_result"
    }
   ],
   "source": [
    "\"\"\"veri = f.readlines() sayede dosyadaki bütün verileri bir liste olarak almıs olduk. Liste adlı veri tipi ile ne\n",
    "yapabiliyorsak, bu sekilde aldıgımız dosya içerigi üzerinde de aynı seyleri yapabiliriz. Bizim\n",
    "amacımız bu listenin 2. sırasına yeni bir satır eklemek. Bu islemi listelerin insert() adlı\n",
    "metodu yardımıyla rahatlıkla yapabiliriz\n",
    "veri.insert(2, \"Murat Nazım: 30\\n\")\n",
    "\"\"\""
   ]
  },
  {
   "cell_type": "code",
   "execution_count": 86,
   "metadata": {},
   "outputs": [
    {
     "data": {
      "text/plain": [
       "'\\n Bu sekilde liste üzerinde istedigimiz degisiklikleri yaptıktan sonra tekrar dosyanın basına\\ndönmemiz lazım. Çünkü readlines() metoduyla dosyayı bir kez tam olarak okuduktan sonra\\nimleç o anda dosyanın en sonunda bulunuyor. Eger dosyanın en basına dönmeden herhangi\\nbir yazma islemi gerçeklestirirsek, yazılan veriler dosyanın sonuna eklenecektir. Bizim\\nyapmamız gereken sey dosyanın en basına sarıp, degistirilmis verilerin dosyaya yazılmasını\\nsaglamak olmalı. Bunu da su satır yardımıyla yapıyoruz:\\nf.seek(0)\\n'"
      ]
     },
     "execution_count": 86,
     "metadata": {},
     "output_type": "execute_result"
    }
   ],
   "source": [
    "\"\"\"\n",
    " Bu sekilde liste üzerinde istedigimiz degisiklikleri yaptıktan sonra tekrar dosyanın basına\n",
    "dönmemiz lazım. Çünkü readlines() metoduyla dosyayı bir kez tam olarak okuduktan sonra\n",
    "imleç o anda dosyanın en sonunda bulunuyor. Eger dosyanın en basına dönmeden herhangi\n",
    "bir yazma islemi gerçeklestirirsek, yazılan veriler dosyanın sonuna eklenecektir. Bizim\n",
    "yapmamız gereken sey dosyanın en basına sarıp, degistirilmis verilerin dosyaya yazılmasını\n",
    "saglamak olmalı. Bunu da su satır yardımıyla yapıyoruz:\n",
    "f.seek(0)\n",
    "\"\"\""
   ]
  },
  {
   "cell_type": "code",
   "execution_count": 87,
   "metadata": {},
   "outputs": [
    {
     "data": {
      "text/plain": [
       "'\\nSon olarak da bütün veirleri dosyaya yazıyoruz:\\nf.writelines(veri)\\n'"
      ]
     },
     "execution_count": 87,
     "metadata": {},
     "output_type": "execute_result"
    }
   ],
   "source": [
    "\"\"\"\n",
    "Son olarak da bütün veirleri dosyaya yazıyoruz:\n",
    "f.writelines(veri)\n",
    "\"\"\""
   ]
  },
  {
   "cell_type": "code",
   "execution_count": 88,
   "metadata": {},
   "outputs": [
    {
     "data": {
      "text/plain": [
       "'Simdiye kadar dosyaya yazma islemleri için write() adlı bir metottan yararlanmıstık. Burada\\nise writelines() adlı baska bir metot görüyoruz. Peki bu iki metot arasındaki fark nedir?'"
      ]
     },
     "execution_count": 88,
     "metadata": {},
     "output_type": "execute_result"
    }
   ],
   "source": [
    "\"\"\"Simdiye kadar dosyaya yazma islemleri için write() adlı bir metottan yararlanmıstık. Burada\n",
    "ise writelines() adlı baska bir metot görüyoruz. Peki bu iki metot arasındaki fark nedir?\"\"\""
   ]
  },
  {
   "cell_type": "code",
   "execution_count": 89,
   "metadata": {},
   "outputs": [
    {
     "data": {
      "text/plain": [
       "'\\nwrite() metodu bir dosyaya yalnızca karakter dizilerini yazabilir. Bu metot yardımıyla\\ndosyaya liste tipinde herhangi bir veri yazamazsınız\\n\\nwritelines() adlı metot ise bize dosyaya liste tipinde verileri yazma imkanı verir. Dolayısıyla\\nherhangi bir döngü kurmak zorunda kalmadan listeleri dosyalarımıza yazabiliriz'"
      ]
     },
     "execution_count": 89,
     "metadata": {},
     "output_type": "execute_result"
    }
   ],
   "source": [
    "\"\"\"\n",
    "write() metodu bir dosyaya yalnızca karakter dizilerini yazabilir. Bu metot yardımıyla\n",
    "dosyaya liste tipinde herhangi bir veri yazamazsınız\n",
    "\n",
    "writelines() adlı metot ise bize dosyaya liste tipinde verileri yazma imkanı verir. Dolayısıyla\n",
    "herhangi bir döngü kurmak zorunda kalmadan listeleri dosyalarımıza yazabiliriz\"\"\""
   ]
  },
  {
   "cell_type": "code",
   "execution_count": null,
   "metadata": {},
   "outputs": [],
   "source": []
  }
 ],
 "metadata": {
  "kernelspec": {
   "display_name": "Python 3",
   "language": "python",
   "name": "python3"
  },
  "language_info": {
   "codemirror_mode": {
    "name": "ipython",
    "version": 3
   },
   "file_extension": ".py",
   "mimetype": "text/x-python",
   "name": "python",
   "nbconvert_exporter": "python",
   "pygments_lexer": "ipython3",
   "version": "3.8.5"
  }
 },
 "nbformat": 4,
 "nbformat_minor": 4
}
