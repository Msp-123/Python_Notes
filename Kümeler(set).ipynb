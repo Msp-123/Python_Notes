{
 "cells": [
  {
   "cell_type": "markdown",
   "metadata": {},
   "source": [
    "## Küme Olusturmak"
   ]
  },
  {
   "cell_type": "code",
   "execution_count": 2,
   "metadata": {},
   "outputs": [],
   "source": [
    "bos_küme = set()"
   ]
  },
  {
   "cell_type": "code",
   "execution_count": 3,
   "metadata": {},
   "outputs": [
    {
     "data": {
      "text/plain": [
       "set"
      ]
     },
     "execution_count": 3,
     "metadata": {},
     "output_type": "execute_result"
    }
   ],
   "source": [
    "type(bos_küme)"
   ]
  },
  {
   "cell_type": "code",
   "execution_count": 4,
   "metadata": {},
   "outputs": [
    {
     "data": {
      "text/plain": [
       "'Listeler, demetler ve sözlüklerin aksine kümelerin ayırt edici bir isareti yoktur. Küme\\nolusturmak için set() adlı özel bir fonksiyondan yararlanıyoruz'"
      ]
     },
     "execution_count": 4,
     "metadata": {},
     "output_type": "execute_result"
    }
   ],
   "source": [
    "\"\"\"Listeler, demetler ve sözlüklerin aksine kümelerin ayırt edici bir isareti yoktur. Küme\n",
    "olusturmak için set() adlı özel bir fonksiyondan yararlanıyoruz\"\"\""
   ]
  },
  {
   "cell_type": "code",
   "execution_count": 5,
   "metadata": {},
   "outputs": [],
   "source": [
    "kume = set([\"elma\", \"armut\", \"kebap\"])"
   ]
  },
  {
   "cell_type": "code",
   "execution_count": 6,
   "metadata": {},
   "outputs": [
    {
     "data": {
      "text/plain": [
       "{'armut', 'elma', 'kebap'}"
      ]
     },
     "execution_count": 6,
     "metadata": {},
     "output_type": "execute_result"
    }
   ],
   "source": [
    "kume"
   ]
  },
  {
   "cell_type": "code",
   "execution_count": 7,
   "metadata": {},
   "outputs": [],
   "source": [
    "#küme olustururken listelerden faydalandık. Gördügünüz gibi set() fonksiyonu içindeki ögeler bir\n",
    "#liste içinde yer alıyor. Dolayısıyla yukarıdaki tanımlamayı söyle de yapabiliriz"
   ]
  },
  {
   "cell_type": "code",
   "execution_count": 9,
   "metadata": {},
   "outputs": [],
   "source": [
    "liste = [\"elma\", \"armut\", \"kebap\"]\n",
    "kume = set(liste)"
   ]
  },
  {
   "cell_type": "code",
   "execution_count": 10,
   "metadata": {},
   "outputs": [
    {
     "data": {
      "text/plain": [
       "{'armut', 'elma', 'kebap'}"
      ]
     },
     "execution_count": 10,
     "metadata": {},
     "output_type": "execute_result"
    }
   ],
   "source": [
    "kume"
   ]
  },
  {
   "cell_type": "code",
   "execution_count": 11,
   "metadata": {},
   "outputs": [
    {
     "data": {
      "text/plain": [
       "'\\nBu daha temiz bir görüntü oldu. Elbette küme tanımlamak için mutlaka liste kullanmak\\nzorunda degiliz. Istersek demetleri de küme haline getirebiliriz\\nHatta ve hatta karakter dizilerinden dahi küme yapabiliriz\\n'"
      ]
     },
     "execution_count": 11,
     "metadata": {},
     "output_type": "execute_result"
    }
   ],
   "source": [
    "\"\"\"\n",
    "Bu daha temiz bir görüntü oldu. Elbette küme tanımlamak için mutlaka liste kullanmak\n",
    "zorunda degiliz. Istersek demetleri de küme haline getirebiliriz\n",
    "Hatta ve hatta karakter dizilerinden dahi küme yapabiliriz\n",
    "\"\"\""
   ]
  },
  {
   "cell_type": "code",
   "execution_count": 13,
   "metadata": {},
   "outputs": [],
   "source": [
    "demet = (\"elma\", \"armut\", \"kebap\")\n",
    "kume = set(demet)"
   ]
  },
  {
   "cell_type": "code",
   "execution_count": 14,
   "metadata": {},
   "outputs": [
    {
     "data": {
      "text/plain": [
       "{'armut', 'elma', 'kebap'}"
      ]
     },
     "execution_count": 14,
     "metadata": {},
     "output_type": "execute_result"
    }
   ],
   "source": [
    "kume"
   ]
  },
  {
   "cell_type": "code",
   "execution_count": 20,
   "metadata": {},
   "outputs": [],
   "source": [
    "karakter_dizisi = \"Python Programlama Dili için Türkçe Kaynak\"\n",
    "kume = set(karakter_dizisi)"
   ]
  },
  {
   "cell_type": "code",
   "execution_count": 21,
   "metadata": {},
   "outputs": [
    {
     "data": {
      "text/plain": [
       "{' ',\n",
       " 'D',\n",
       " 'K',\n",
       " 'P',\n",
       " 'T',\n",
       " 'a',\n",
       " 'e',\n",
       " 'g',\n",
       " 'h',\n",
       " 'i',\n",
       " 'k',\n",
       " 'l',\n",
       " 'm',\n",
       " 'n',\n",
       " 'o',\n",
       " 'r',\n",
       " 't',\n",
       " 'y',\n",
       " 'ç',\n",
       " 'ü'}"
      ]
     },
     "execution_count": 21,
     "metadata": {},
     "output_type": "execute_result"
    }
   ],
   "source": [
    "kume"
   ]
  },
  {
   "cell_type": "code",
   "execution_count": 22,
   "metadata": {},
   "outputs": [],
   "source": [
    "#Kullandıgımız karakter dizisinin böyle uzun olmasına da gerek yok. Tek karakterlik dizilerden\n",
    "#bile küme olusturabiliriz:"
   ]
  },
  {
   "cell_type": "code",
   "execution_count": 23,
   "metadata": {},
   "outputs": [],
   "source": [
    "harf = 'a'\n",
    "kume = set(harf)"
   ]
  },
  {
   "cell_type": "code",
   "execution_count": 24,
   "metadata": {},
   "outputs": [
    {
     "data": {
      "text/plain": [
       "{'a'}"
      ]
     },
     "execution_count": 24,
     "metadata": {},
     "output_type": "execute_result"
    }
   ],
   "source": [
    "kume"
   ]
  },
  {
   "cell_type": "code",
   "execution_count": 25,
   "metadata": {},
   "outputs": [],
   "source": [
    "# Ama sayılardan küme olusturamayız"
   ]
  },
  {
   "cell_type": "code",
   "execution_count": 26,
   "metadata": {},
   "outputs": [
    {
     "ename": "TypeError",
     "evalue": "'int' object is not iterable",
     "output_type": "error",
     "traceback": [
      "\u001b[1;31m---------------------------------------------------------------------------\u001b[0m",
      "\u001b[1;31mTypeError\u001b[0m                                 Traceback (most recent call last)",
      "\u001b[1;32m<ipython-input-26-24721355b0d9>\u001b[0m in \u001b[0;36m<module>\u001b[1;34m\u001b[0m\n\u001b[0;32m      1\u001b[0m \u001b[0mn\u001b[0m \u001b[1;33m=\u001b[0m \u001b[1;36m10\u001b[0m\u001b[1;33m\u001b[0m\u001b[1;33m\u001b[0m\u001b[0m\n\u001b[1;32m----> 2\u001b[1;33m \u001b[0mkume\u001b[0m \u001b[1;33m=\u001b[0m \u001b[0mset\u001b[0m\u001b[1;33m(\u001b[0m\u001b[0mn\u001b[0m\u001b[1;33m)\u001b[0m\u001b[1;33m\u001b[0m\u001b[1;33m\u001b[0m\u001b[0m\n\u001b[0m",
      "\u001b[1;31mTypeError\u001b[0m: 'int' object is not iterable"
     ]
    }
   ],
   "source": [
    "n = 10\n",
    "kume = set(n)"
   ]
  },
  {
   "cell_type": "code",
   "execution_count": 27,
   "metadata": {},
   "outputs": [],
   "source": [
    "sozluk = {\"masa\" :100,\n",
    "         \"kitap\" : 20,\n",
    "         \"kalem\" : 10}"
   ]
  },
  {
   "cell_type": "code",
   "execution_count": 53,
   "metadata": {},
   "outputs": [],
   "source": [
    "kume = set(sozluk)"
   ]
  },
  {
   "cell_type": "code",
   "execution_count": 54,
   "metadata": {},
   "outputs": [
    {
     "data": {
      "text/plain": [
       "{'kalem', 'kitap', 'masa'}"
      ]
     },
     "execution_count": 54,
     "metadata": {},
     "output_type": "execute_result"
    }
   ],
   "source": [
    "kume"
   ]
  },
  {
   "cell_type": "code",
   "execution_count": 55,
   "metadata": {},
   "outputs": [
    {
     "data": {
      "text/plain": [
       "'\\nKüme olusturmanın son bir yönteminden daha söz edelim. En basta söyledigimiz gibi, listeler,\\ndemetler, sözlükler ve karakter dizilerinin aksine kümelerin [ ], ( ), { }, ‘ ‘ gibi ayırt edici bir\\nisareti yoktur. Ama eger istersek sözlükleri olusturmak için kullandıgımız özel isaretleri küme\\nolusturmak için de kullanabiliriz. Dikkatlice bakın:\\n'"
      ]
     },
     "execution_count": 55,
     "metadata": {},
     "output_type": "execute_result"
    }
   ],
   "source": [
    "\"\"\"\n",
    "Küme olusturmanın son bir yönteminden daha söz edelim. En basta söyledigimiz gibi, listeler,\n",
    "demetler, sözlükler ve karakter dizilerinin aksine kümelerin [ ], ( ), { }, ‘ ‘ gibi ayırt edici bir\n",
    "isareti yoktur. Ama eger istersek sözlükleri olusturmak için kullandıgımız özel isaretleri küme\n",
    "olusturmak için de kullanabiliriz. Dikkatlice bakın:\n",
    "\"\"\""
   ]
  },
  {
   "cell_type": "code",
   "execution_count": 56,
   "metadata": {},
   "outputs": [],
   "source": [
    "kume = {'Python', 'C++', 'Ruby', 'PHP'}"
   ]
  },
  {
   "cell_type": "code",
   "execution_count": 57,
   "metadata": {},
   "outputs": [
    {
     "data": {
      "text/plain": [
       "{'C++', 'PHP', 'Python', 'Ruby'}"
      ]
     },
     "execution_count": 57,
     "metadata": {},
     "output_type": "execute_result"
    }
   ],
   "source": [
    "kume"
   ]
  },
  {
   "cell_type": "code",
   "execution_count": 58,
   "metadata": {},
   "outputs": [
    {
     "data": {
      "text/plain": [
       "set"
      ]
     },
     "execution_count": 58,
     "metadata": {},
     "output_type": "execute_result"
    }
   ],
   "source": [
    "type(kume)"
   ]
  },
  {
   "cell_type": "code",
   "execution_count": 59,
   "metadata": {},
   "outputs": [],
   "source": [
    "# Ancak bu yapıyı kullanarak bos bir küme olusturamazsınız\n",
    "# Bos bir küme olusturmak için set() fonksiyonunu kullanmanız gerekir"
   ]
  },
  {
   "cell_type": "code",
   "execution_count": 60,
   "metadata": {},
   "outputs": [],
   "source": [
    "kume = {}"
   ]
  },
  {
   "cell_type": "code",
   "execution_count": 61,
   "metadata": {},
   "outputs": [
    {
     "data": {
      "text/plain": [
       "{}"
      ]
     },
     "execution_count": 61,
     "metadata": {},
     "output_type": "execute_result"
    }
   ],
   "source": [
    "kume"
   ]
  },
  {
   "cell_type": "code",
   "execution_count": 62,
   "metadata": {},
   "outputs": [
    {
     "data": {
      "text/plain": [
       "dict"
      ]
     },
     "execution_count": 62,
     "metadata": {},
     "output_type": "execute_result"
    }
   ],
   "source": [
    "type(kume)"
   ]
  },
  {
   "cell_type": "code",
   "execution_count": 63,
   "metadata": {},
   "outputs": [],
   "source": [
    "#bir sözlügü kümeye çevirdiginizde, elbette sözlügün yalnızca anahtarları kümeye\n",
    "#eklenecektir. Sözlügün degerleri ise böyle bir islemin sonucunda ortadan kaybolur"
   ]
  },
  {
   "cell_type": "code",
   "execution_count": 64,
   "metadata": {},
   "outputs": [],
   "source": [
    "#Eger bir sözlügü kümeye çevirirken hem anahtarları hem de degerleri korumak gibi bir\n",
    "#niyetiniz varsa söyle bir sey yazabilirsiniz:"
   ]
  },
  {
   "cell_type": "code",
   "execution_count": 65,
   "metadata": {},
   "outputs": [],
   "source": [
    "sozluk = {\"masa\" :100,\n",
    "         \"kitap\" : 20,\n",
    "         \"kalem\" : 10}"
   ]
  },
  {
   "cell_type": "code",
   "execution_count": 66,
   "metadata": {},
   "outputs": [],
   "source": [
    "liste = [(anahtar, deger) for anahtar, deger in sozluk.items()]\n",
    "kume = set(liste)"
   ]
  },
  {
   "cell_type": "code",
   "execution_count": 67,
   "metadata": {},
   "outputs": [
    {
     "data": {
      "text/plain": [
       "{('kalem', 10), ('kitap', 20), ('masa', 100)}"
      ]
     },
     "execution_count": 67,
     "metadata": {},
     "output_type": "execute_result"
    }
   ],
   "source": [
    "kume"
   ]
  },
  {
   "cell_type": "code",
   "execution_count": 68,
   "metadata": {},
   "outputs": [
    {
     "data": {
      "text/plain": [
       "dict_items([('masa', 100), ('kitap', 20), ('kalem', 10)])"
      ]
     },
     "execution_count": 68,
     "metadata": {},
     "output_type": "execute_result"
    }
   ],
   "source": [
    "sozluk.items()"
   ]
  },
  {
   "cell_type": "markdown",
   "metadata": {},
   "source": [
    "## Kümelerin Yapısı"
   ]
  },
  {
   "cell_type": "code",
   "execution_count": 72,
   "metadata": {},
   "outputs": [
    {
     "name": "stdout",
     "output_type": "stream",
     "text": [
      "{' ', 'o', 'i', 'n', 't', 'a', 'D', 'y', 'h', 'g', 'm', 'l', 'P', 'r'}\n"
     ]
    }
   ],
   "source": [
    "cumle = \"Python Programlama Dili\"\n",
    "kume = set(cumle)\n",
    "print(kume)"
   ]
  },
  {
   "cell_type": "code",
   "execution_count": 73,
   "metadata": {},
   "outputs": [
    {
     "data": {
      "text/plain": [
       "'\\nBir ögeyi küme olarak tanımlayıp ekrana\\nyazdırdıgımızda elde ettigimiz çıktı, o öge içindeki her bir alt ögeyi tek bir kez içeriyor. Yani\\nmesela “Python Programlama Dili” içinde iki adet “P” karakteri var, ama çıktıda bu iki “P”\\nkarakterinin yalnızca biri görünüyor. Buradan anlıyoruz ki, kümeler aynı ögeyi birden fazla\\ntekrar etmez. Bu çok önemli bir özelliktir ve pek çok yerde isimize yarar. Aynı durum karakter\\ndizisi dısında kalan öteki veri tipleri için de geçerlidir. Yani mesela eger bir listeyi küme haline\\ngetiriyorsak, o listedeki ögeler küme içinde yalnızca bir kez geçecektir. Listede aynı ögeden\\niki-üç tane bulunsa bile, kümemiz bu ögeleri teke indirecektir.\\n'"
      ]
     },
     "execution_count": 73,
     "metadata": {},
     "output_type": "execute_result"
    }
   ],
   "source": [
    "\"\"\"\n",
    "Bir ögeyi küme olarak tanımlayıp ekrana\n",
    "yazdırdıgımızda elde ettigimiz çıktı, o öge içindeki her bir alt ögeyi tek bir kez içeriyor. Yani\n",
    "mesela “Python Programlama Dili” içinde iki adet “P” karakteri var, ama çıktıda bu iki “P”\n",
    "karakterinin yalnızca biri görünüyor. Buradan anlıyoruz ki, kümeler aynı ögeyi birden fazla\n",
    "tekrar etmez. Bu çok önemli bir özelliktir ve pek çok yerde isimize yarar. Aynı durum karakter\n",
    "dizisi dısında kalan öteki veri tipleri için de geçerlidir. Yani mesela eger bir listeyi küme haline\n",
    "getiriyorsak, o listedeki ögeler küme içinde yalnızca bir kez geçecektir. Listede aynı ögeden\n",
    "iki-üç tane bulunsa bile, kümemiz bu ögeleri teke indirecektir.\n",
    "\"\"\""
   ]
  },
  {
   "cell_type": "code",
   "execution_count": 75,
   "metadata": {},
   "outputs": [],
   "source": [
    "liste = [\"elma\", \"armut\", \"elma\",\"şeker\", \"şeker\", \"armut\"]"
   ]
  },
  {
   "cell_type": "code",
   "execution_count": 76,
   "metadata": {},
   "outputs": [
    {
     "name": "stdout",
     "output_type": "stream",
     "text": [
      "elma\n",
      "armut\n",
      "şeker\n"
     ]
    }
   ],
   "source": [
    "for i in set(liste):\n",
    "    print(i)"
   ]
  },
  {
   "cell_type": "code",
   "execution_count": 77,
   "metadata": {},
   "outputs": [
    {
     "name": "stdout",
     "output_type": "stream",
     "text": [
      "elma listede 2 kez geçiyor!\n",
      "armut listede 2 kez geçiyor!\n",
      "şeker listede 2 kez geçiyor!\n"
     ]
    }
   ],
   "source": [
    "liste = [\"elma\", \"armut\", \"elma\",\"şeker\", \"şeker\", \"armut\"]\n",
    "\n",
    "for i in set(liste):\n",
    "    print(\"{} listede {} kez geçiyor!\".format(i,liste.count(i)))"
   ]
  },
  {
   "cell_type": "code",
   "execution_count": 78,
   "metadata": {},
   "outputs": [
    {
     "data": {
      "text/plain": [
       "'\\nBurada set(liste) ifadesini kullanarak, liste ögelerini essiz ve benzersiz bir hale getirdik.\\n\\nKümelerin önemli bir özelligi de, tıpkı sözlükler gibi, herhangi bir sekilde ‘öge sırası’ kavramına\\nsahip olmamasıdır.\\n'"
      ]
     },
     "execution_count": 78,
     "metadata": {},
     "output_type": "execute_result"
    }
   ],
   "source": [
    "\"\"\"\n",
    "Burada set(liste) ifadesini kullanarak, liste ögelerini essiz ve benzersiz bir hale getirdik.\n",
    "\n",
    "Kümelerin önemli bir özelligi de, tıpkı sözlükler gibi, herhangi bir sekilde ‘öge sırası’ kavramına\n",
    "sahip olmamasıdır.\n",
    "\"\"\""
   ]
  },
  {
   "cell_type": "markdown",
   "metadata": {},
   "source": [
    "## Küme Üreteçleri (Set Comprehensions)"
   ]
  },
  {
   "cell_type": "code",
   "execution_count": 79,
   "metadata": {},
   "outputs": [],
   "source": [
    "import random\n",
    "# ndom‘un da tıpkı sys ve os gibi bir modül oldugunu ve rastgele sayılar üretmemizi saglar"
   ]
  },
  {
   "cell_type": "code",
   "execution_count": 86,
   "metadata": {},
   "outputs": [],
   "source": [
    "liste = [random.randint(0,10000) for i in range(20)] \n",
    "# 0 ile 10000 arasında 20 tane rastgele sayı yazdı."
   ]
  },
  {
   "cell_type": "code",
   "execution_count": 87,
   "metadata": {},
   "outputs": [
    {
     "data": {
      "text/plain": [
       "[3030,\n",
       " 4201,\n",
       " 2235,\n",
       " 3994,\n",
       " 1054,\n",
       " 3936,\n",
       " 6209,\n",
       " 538,\n",
       " 1153,\n",
       " 2965,\n",
       " 5594,\n",
       " 2022,\n",
       " 9284,\n",
       " 6018,\n",
       " 3668,\n",
       " 2886,\n",
       " 237,\n",
       " 7086,\n",
       " 7566,\n",
       " 1588]"
      ]
     },
     "execution_count": 87,
     "metadata": {},
     "output_type": "execute_result"
    }
   ],
   "source": [
    "liste"
   ]
  },
  {
   "cell_type": "code",
   "execution_count": 92,
   "metadata": {},
   "outputs": [],
   "source": [
    "liste2 = [random.randint(0,10000) for i in range(20) ]\n",
    "kume = {i for i in liste2 if i > 5000}"
   ]
  },
  {
   "cell_type": "code",
   "execution_count": 93,
   "metadata": {},
   "outputs": [
    {
     "data": {
      "text/plain": [
       "{5611, 6136, 6516, 6522, 7571, 7655, 7749}"
      ]
     },
     "execution_count": 93,
     "metadata": {},
     "output_type": "execute_result"
    }
   ],
   "source": [
    "kume"
   ]
  },
  {
   "cell_type": "markdown",
   "metadata": {},
   "source": [
    "## Kümelerin Metotları"
   ]
  },
  {
   "cell_type": "markdown",
   "metadata": {},
   "source": [
    " ## clear()"
   ]
  },
  {
   "cell_type": "code",
   "execution_count": 94,
   "metadata": {},
   "outputs": [],
   "source": [
    "kume = set(\"Bursa\")"
   ]
  },
  {
   "cell_type": "code",
   "execution_count": 95,
   "metadata": {},
   "outputs": [
    {
     "data": {
      "text/plain": [
       "{'B', 'a', 'r', 's', 'u'}"
      ]
     },
     "execution_count": 95,
     "metadata": {},
     "output_type": "execute_result"
    }
   ],
   "source": [
    "kume"
   ]
  },
  {
   "cell_type": "code",
   "execution_count": 96,
   "metadata": {},
   "outputs": [],
   "source": [
    "kume.clear()"
   ]
  },
  {
   "cell_type": "code",
   "execution_count": 97,
   "metadata": {},
   "outputs": [
    {
     "data": {
      "text/plain": [
       "set()"
      ]
     },
     "execution_count": 97,
     "metadata": {},
     "output_type": "execute_result"
    }
   ],
   "source": [
    "kume"
   ]
  },
  {
   "cell_type": "markdown",
   "metadata": {},
   "source": [
    "## copy()"
   ]
  },
  {
   "cell_type": "code",
   "execution_count": 98,
   "metadata": {},
   "outputs": [],
   "source": [
    "kume = set(\"Bursa\")\n",
    "yedek = kume.copy()"
   ]
  },
  {
   "cell_type": "code",
   "execution_count": 99,
   "metadata": {},
   "outputs": [
    {
     "data": {
      "text/plain": [
       "{'B', 'a', 'r', 's', 'u'}"
      ]
     },
     "execution_count": 99,
     "metadata": {},
     "output_type": "execute_result"
    }
   ],
   "source": [
    "kume"
   ]
  },
  {
   "cell_type": "code",
   "execution_count": 100,
   "metadata": {},
   "outputs": [
    {
     "data": {
      "text/plain": [
       "{'B', 'a', 'r', 's', 'u'}"
      ]
     },
     "execution_count": 100,
     "metadata": {},
     "output_type": "execute_result"
    }
   ],
   "source": [
    "yedek"
   ]
  },
  {
   "cell_type": "markdown",
   "metadata": {},
   "source": [
    "## add()"
   ]
  },
  {
   "cell_type": "code",
   "execution_count": 101,
   "metadata": {},
   "outputs": [],
   "source": [
    "kume = set([\"elma\", \"armut\", \"çilek\"])\n",
    "kume.add(\"portakal\")"
   ]
  },
  {
   "cell_type": "code",
   "execution_count": 102,
   "metadata": {},
   "outputs": [
    {
     "data": {
      "text/plain": [
       "{'armut', 'elma', 'portakal', 'çilek'}"
      ]
     },
     "execution_count": 102,
     "metadata": {},
     "output_type": "execute_result"
    }
   ],
   "source": [
    "kume"
   ]
  },
  {
   "cell_type": "code",
   "execution_count": 103,
   "metadata": {},
   "outputs": [
    {
     "data": {
      "text/plain": [
       "'\\nBir kümeye\\nherhangi bir öge ekleyebilmemiz için, o ögenin degistirilemeyen (immutable) bir veri tipi\\nolması gerekiyor. Bildiginiz gibi Python’daki su veri tipleri degistirilemeyen veri tipleridir:\\n1. Demetler\\n2. Sayılar\\n3. Karakter Dizileri\\nSu veri tipleri ise degistirilebilen veri tipleridir:\\n1. Listeler\\n2. Sözlükler\\n3. Kümeler\\n'"
      ]
     },
     "execution_count": 103,
     "metadata": {},
     "output_type": "execute_result"
    }
   ],
   "source": [
    "\"\"\"\n",
    "Bir kümeye\n",
    "herhangi bir öge ekleyebilmemiz için, o ögenin degistirilemeyen (immutable) bir veri tipi\n",
    "olması gerekiyor. Bildiginiz gibi Python’daki su veri tipleri degistirilemeyen veri tipleridir:\n",
    "1. Demetler\n",
    "2. Sayılar\n",
    "3. Karakter Dizileri\n",
    "Su veri tipleri ise degistirilebilen veri tipleridir:\n",
    "1. Listeler\n",
    "2. Sözlükler\n",
    "3. Kümeler\n",
    "\"\"\""
   ]
  },
  {
   "cell_type": "code",
   "execution_count": 105,
   "metadata": {},
   "outputs": [],
   "source": [
    "kume = set([1,2,3])"
   ]
  },
  {
   "cell_type": "code",
   "execution_count": 106,
   "metadata": {},
   "outputs": [],
   "source": [
    "sayi = 45\n",
    "kume.add(sayi)"
   ]
  },
  {
   "cell_type": "code",
   "execution_count": 107,
   "metadata": {},
   "outputs": [
    {
     "data": {
      "text/plain": [
       "{1, 2, 3, 45}"
      ]
     },
     "execution_count": 107,
     "metadata": {},
     "output_type": "execute_result"
    }
   ],
   "source": [
    "kume"
   ]
  },
  {
   "cell_type": "code",
   "execution_count": 108,
   "metadata": {},
   "outputs": [],
   "source": [
    "l = \"Bursa\"\n",
    "kume.add(l)"
   ]
  },
  {
   "cell_type": "code",
   "execution_count": 109,
   "metadata": {},
   "outputs": [
    {
     "data": {
      "text/plain": [
       "{1, 2, 3, 45, 'Bursa'}"
      ]
     },
     "execution_count": 109,
     "metadata": {},
     "output_type": "execute_result"
    }
   ],
   "source": [
    "kume"
   ]
  },
  {
   "cell_type": "code",
   "execution_count": 110,
   "metadata": {},
   "outputs": [],
   "source": [
    "liste = [6,7,8]"
   ]
  },
  {
   "cell_type": "code",
   "execution_count": 111,
   "metadata": {},
   "outputs": [
    {
     "ename": "TypeError",
     "evalue": "unhashable type: 'list'",
     "output_type": "error",
     "traceback": [
      "\u001b[1;31m---------------------------------------------------------------------------\u001b[0m",
      "\u001b[1;31mTypeError\u001b[0m                                 Traceback (most recent call last)",
      "\u001b[1;32m<ipython-input-111-0713ea8a54b1>\u001b[0m in \u001b[0;36m<module>\u001b[1;34m\u001b[0m\n\u001b[1;32m----> 1\u001b[1;33m \u001b[0mkume\u001b[0m\u001b[1;33m.\u001b[0m\u001b[0madd\u001b[0m\u001b[1;33m(\u001b[0m\u001b[0mliste\u001b[0m\u001b[1;33m)\u001b[0m\u001b[1;33m\u001b[0m\u001b[1;33m\u001b[0m\u001b[0m\n\u001b[0m",
      "\u001b[1;31mTypeError\u001b[0m: unhashable type: 'list'"
     ]
    }
   ],
   "source": [
    "kume.add(liste)"
   ]
  },
  {
   "cell_type": "markdown",
   "metadata": {},
   "source": [
    "## difference()"
   ]
  },
  {
   "cell_type": "code",
   "execution_count": 112,
   "metadata": {},
   "outputs": [],
   "source": [
    "# Bu metot iki kümenin farkını almamızı saglar"
   ]
  },
  {
   "cell_type": "code",
   "execution_count": 113,
   "metadata": {},
   "outputs": [],
   "source": [
    "k1 = set([1, 2, 3, 5])\n",
    "k2 = set([3, 4, 2, 10])"
   ]
  },
  {
   "cell_type": "code",
   "execution_count": 114,
   "metadata": {},
   "outputs": [
    {
     "data": {
      "text/plain": [
       "{1, 5}"
      ]
     },
     "execution_count": 114,
     "metadata": {},
     "output_type": "execute_result"
    }
   ],
   "source": [
    "k1.difference(k2)"
   ]
  },
  {
   "cell_type": "code",
   "execution_count": 115,
   "metadata": {},
   "outputs": [
    {
     "data": {
      "text/plain": [
       "{4, 10}"
      ]
     },
     "execution_count": 115,
     "metadata": {},
     "output_type": "execute_result"
    }
   ],
   "source": [
    "k2.difference(k1)"
   ]
  },
  {
   "cell_type": "code",
   "execution_count": 116,
   "metadata": {},
   "outputs": [
    {
     "data": {
      "text/plain": [
       "'Isterseniz uzun uzun difference() metodunu kullanmak yerine sadece eksi (-) isaretini\\nkullanarak da aynı sonucu elde edebilirsiniz'"
      ]
     },
     "execution_count": 116,
     "metadata": {},
     "output_type": "execute_result"
    }
   ],
   "source": [
    "\"\"\"Isterseniz uzun uzun difference() metodunu kullanmak yerine sadece eksi (-) isaretini\n",
    "kullanarak da aynı sonucu elde edebilirsiniz\"\"\""
   ]
  },
  {
   "cell_type": "code",
   "execution_count": 117,
   "metadata": {},
   "outputs": [
    {
     "data": {
      "text/plain": [
       "{1, 5}"
      ]
     },
     "execution_count": 117,
     "metadata": {},
     "output_type": "execute_result"
    }
   ],
   "source": [
    "k1 - k2"
   ]
  },
  {
   "cell_type": "code",
   "execution_count": 118,
   "metadata": {},
   "outputs": [
    {
     "data": {
      "text/plain": [
       "{4, 10}"
      ]
     },
     "execution_count": 118,
     "metadata": {},
     "output_type": "execute_result"
    }
   ],
   "source": [
    "k2 -k1"
   ]
  },
  {
   "cell_type": "markdown",
   "metadata": {},
   "source": [
    "## difference_update()"
   ]
  },
  {
   "cell_type": "code",
   "execution_count": 119,
   "metadata": {},
   "outputs": [
    {
     "data": {
      "text/plain": [
       "'Bu metot, difference() metodundan elde edilen sonuca göre bir kümenin güncellenmesini\\nsaglar.'"
      ]
     },
     "execution_count": 119,
     "metadata": {},
     "output_type": "execute_result"
    }
   ],
   "source": [
    "\"\"\"Bu metot, difference() metodundan elde edilen sonuca göre bir kümenin güncellenmesini\n",
    "saglar.\"\"\""
   ]
  },
  {
   "cell_type": "code",
   "execution_count": 120,
   "metadata": {},
   "outputs": [],
   "source": [
    "k1 = set([1, 2, 3, 5])\n",
    "k2 = set([3, 4, 2, 10])"
   ]
  },
  {
   "cell_type": "code",
   "execution_count": 121,
   "metadata": {},
   "outputs": [],
   "source": [
    "k1.difference_update(k2)"
   ]
  },
  {
   "cell_type": "code",
   "execution_count": 124,
   "metadata": {},
   "outputs": [
    {
     "data": {
      "text/plain": [
       "{1, 5}"
      ]
     },
     "execution_count": 124,
     "metadata": {},
     "output_type": "execute_result"
    }
   ],
   "source": [
    "k1\n",
    "#k1’in k2’den farkını aldı ve bu farkı kullanarak k1’i yeniden olusturdu."
   ]
  },
  {
   "cell_type": "code",
   "execution_count": 125,
   "metadata": {},
   "outputs": [
    {
     "data": {
      "text/plain": [
       "{2, 3, 4, 10}"
      ]
     },
     "execution_count": 125,
     "metadata": {},
     "output_type": "execute_result"
    }
   ],
   "source": [
    "k2"
   ]
  },
  {
   "cell_type": "markdown",
   "metadata": {},
   "source": [
    "## discard() kümeden öge silmeye yarar"
   ]
  },
  {
   "cell_type": "code",
   "execution_count": 126,
   "metadata": {},
   "outputs": [],
   "source": [
    "hayvanlar = set([\"kedi\", \"köpek\", \"at\", \"kuş\", \"inek\", \"deve\"])"
   ]
  },
  {
   "cell_type": "code",
   "execution_count": 127,
   "metadata": {},
   "outputs": [],
   "source": [
    "hayvanlar.discard(\"kedi\")"
   ]
  },
  {
   "cell_type": "code",
   "execution_count": 128,
   "metadata": {},
   "outputs": [
    {
     "data": {
      "text/plain": [
       "{'at', 'deve', 'inek', 'kuş', 'köpek'}"
      ]
     },
     "execution_count": 128,
     "metadata": {},
     "output_type": "execute_result"
    }
   ],
   "source": [
    "hayvanlar"
   ]
  },
  {
   "cell_type": "code",
   "execution_count": 131,
   "metadata": {},
   "outputs": [
    {
     "data": {
      "text/plain": [
       "'\\nBurada etkilesimli kabuk sessizce bir alt satıra geçecektir. Bu metodun en önemli özelligi\\nbudur. Yani olmayan bir ögeyi silmeye çalıstıgımızda hata vermemesi.'"
      ]
     },
     "execution_count": 131,
     "metadata": {},
     "output_type": "execute_result"
    }
   ],
   "source": [
    "hayvanlar.discard(\"yılan\")\n",
    "\"\"\"\n",
    "Burada etkilesimli kabuk sessizce bir alt satıra geçecektir. Bu metodun en önemli özelligi\n",
    "budur. Yani olmayan bir ögeyi silmeye çalıstıgımızda hata vermemesi.\"\"\""
   ]
  },
  {
   "cell_type": "markdown",
   "metadata": {},
   "source": [
    "## remove()"
   ]
  },
  {
   "cell_type": "code",
   "execution_count": 132,
   "metadata": {},
   "outputs": [
    {
     "data": {
      "text/plain": [
       "{'at', 'deve', 'inek', 'kuş', 'köpek'}"
      ]
     },
     "execution_count": 132,
     "metadata": {},
     "output_type": "execute_result"
    }
   ],
   "source": [
    "hayvanlar"
   ]
  },
  {
   "cell_type": "code",
   "execution_count": 133,
   "metadata": {},
   "outputs": [],
   "source": [
    "hayvanlar.remove(\"inek\")"
   ]
  },
  {
   "cell_type": "code",
   "execution_count": 134,
   "metadata": {},
   "outputs": [
    {
     "data": {
      "text/plain": [
       "{'at', 'deve', 'kuş', 'köpek'}"
      ]
     },
     "execution_count": 134,
     "metadata": {},
     "output_type": "execute_result"
    }
   ],
   "source": [
    "hayvanlar"
   ]
  },
  {
   "cell_type": "code",
   "execution_count": 135,
   "metadata": {},
   "outputs": [
    {
     "ename": "KeyError",
     "evalue": "'yılan'",
     "output_type": "error",
     "traceback": [
      "\u001b[1;31m---------------------------------------------------------------------------\u001b[0m",
      "\u001b[1;31mKeyError\u001b[0m                                  Traceback (most recent call last)",
      "\u001b[1;32m<ipython-input-135-82b6398e7b39>\u001b[0m in \u001b[0;36m<module>\u001b[1;34m\u001b[0m\n\u001b[1;32m----> 1\u001b[1;33m \u001b[0mhayvanlar\u001b[0m\u001b[1;33m.\u001b[0m\u001b[0mremove\u001b[0m\u001b[1;33m(\u001b[0m\u001b[1;34m\"yılan\"\u001b[0m\u001b[1;33m)\u001b[0m\u001b[1;33m\u001b[0m\u001b[1;33m\u001b[0m\u001b[0m\n\u001b[0m",
      "\u001b[1;31mKeyError\u001b[0m: 'yılan'"
     ]
    }
   ],
   "source": [
    "hayvanlar.remove(\"yılan\")"
   ]
  },
  {
   "cell_type": "code",
   "execution_count": 136,
   "metadata": {},
   "outputs": [
    {
     "data": {
      "text/plain": [
       "'Bu iki metot aynı islevi yerine getirse de aralarında önemli bir fark vardır. Hatırlarsanız\\ndiscard() metoduyla, kümede olmayan bir ögeyi silmeye çalısırsak herhangi bir hata mesajı\\nalmayacagımızı söylemistik. Eger remove() metodunu kullanarak, kümede olmayan bir ögeyi\\nsilmeye çalısırsak, discard() metodunun aksine, hata mesajı alırız'"
      ]
     },
     "execution_count": 136,
     "metadata": {},
     "output_type": "execute_result"
    }
   ],
   "source": [
    "\"\"\"Bu iki metot aynı islevi yerine getirse de aralarında önemli bir fark vardır. Hatırlarsanız\n",
    "discard() metoduyla, kümede olmayan bir ögeyi silmeye çalısırsak herhangi bir hata mesajı\n",
    "almayacagımızı söylemistik. Eger remove() metodunu kullanarak, kümede olmayan bir ögeyi\n",
    "silmeye çalısırsak, discard() metodunun aksine, hata mesajı alırız\"\"\""
   ]
  },
  {
   "cell_type": "markdown",
   "metadata": {},
   "source": [
    "## intersection()"
   ]
  },
  {
   "cell_type": "code",
   "execution_count": 137,
   "metadata": {},
   "outputs": [],
   "source": [
    "# intersection() metodu bize iki kümenin kesisim kümesini verecektir"
   ]
  },
  {
   "cell_type": "code",
   "execution_count": 138,
   "metadata": {},
   "outputs": [],
   "source": [
    "k1 = set([1, 2, 3, 5])\n",
    "k2 = set([3, 4, 2, 10])"
   ]
  },
  {
   "cell_type": "code",
   "execution_count": 139,
   "metadata": {},
   "outputs": [
    {
     "data": {
      "text/plain": [
       "{2, 3}"
      ]
     },
     "execution_count": 139,
     "metadata": {},
     "output_type": "execute_result"
    }
   ],
   "source": [
    "k1.intersection(k2)"
   ]
  },
  {
   "cell_type": "code",
   "execution_count": 142,
   "metadata": {},
   "outputs": [],
   "source": [
    "# Iki kümenin kesisimini bulmak için “&” isaretinden yararlanabiliriz  & -> ampersand -> ve anlamına gelir."
   ]
  },
  {
   "cell_type": "code",
   "execution_count": 143,
   "metadata": {},
   "outputs": [
    {
     "data": {
      "text/plain": [
       "{2, 3}"
      ]
     },
     "execution_count": 143,
     "metadata": {},
     "output_type": "execute_result"
    }
   ],
   "source": [
    "k1 & k2"
   ]
  },
  {
   "cell_type": "markdown",
   "metadata": {},
   "source": [
    "## Dondurulmus Kümeler (Frozenset)"
   ]
  },
  {
   "cell_type": "code",
   "execution_count": 144,
   "metadata": {},
   "outputs": [
    {
     "data": {
      "text/plain": [
       "'kümeler üzerinde degisiklik yapabiliyoruz. Zaten kümelerin\\nadd() ve remove() gibi metotlarının olması bu durumu teyit ediyor. Ancak kimi durumlarda,\\nögeleri üzerinde degisiklik yapılamayan kümelere de ihtiyaç duyabilirsiniz. Hatırlarsanız\\nlisteler ve demetler arasında da buna benzer bir iliski var. Demetler çogu zaman, üzerinde\\ndegisiklik yapılamayan bir liste gibi davranır. Iste Python aynı imkanı bize kümelerde de\\nsaglar. Eger ögeleri üzerinde degisiklik yapılamayan bir küme olusturmak isterseniz set()\\nyerine frozenset() fonksiyonunu kullanabilirsiniz'"
      ]
     },
     "execution_count": 144,
     "metadata": {},
     "output_type": "execute_result"
    }
   ],
   "source": [
    "\"\"\"kümeler üzerinde degisiklik yapabiliyoruz. Zaten kümelerin\n",
    "add() ve remove() gibi metotlarının olması bu durumu teyit ediyor. Ancak kimi durumlarda,\n",
    "ögeleri üzerinde degisiklik yapılamayan kümelere de ihtiyaç duyabilirsiniz. Hatırlarsanız\n",
    "listeler ve demetler arasında da buna benzer bir iliski var. Demetler çogu zaman, üzerinde\n",
    "degisiklik yapılamayan bir liste gibi davranır. Iste Python aynı imkanı bize kümelerde de\n",
    "saglar. Eger ögeleri üzerinde degisiklik yapılamayan bir küme olusturmak isterseniz set()\n",
    "yerine frozenset() fonksiyonunu kullanabilirsiniz\"\"\""
   ]
  },
  {
   "cell_type": "code",
   "execution_count": 145,
   "metadata": {},
   "outputs": [],
   "source": [
    "dondurulmus_kume = frozenset([\"elma\",\"armut\",\"ayva\"])"
   ]
  },
  {
   "cell_type": "code",
   "execution_count": 146,
   "metadata": {},
   "outputs": [
    {
     "data": {
      "text/plain": [
       "frozenset({'armut', 'ayva', 'elma'})"
      ]
     },
     "execution_count": 146,
     "metadata": {},
     "output_type": "execute_result"
    }
   ],
   "source": [
    "dondurulmus_kume"
   ]
  },
  {
   "cell_type": "code",
   "execution_count": 147,
   "metadata": {},
   "outputs": [
    {
     "ename": "AttributeError",
     "evalue": "'frozenset' object has no attribute 'add'",
     "output_type": "error",
     "traceback": [
      "\u001b[1;31m---------------------------------------------------------------------------\u001b[0m",
      "\u001b[1;31mAttributeError\u001b[0m                            Traceback (most recent call last)",
      "\u001b[1;32m<ipython-input-147-ec0aec636027>\u001b[0m in \u001b[0;36m<module>\u001b[1;34m\u001b[0m\n\u001b[1;32m----> 1\u001b[1;33m \u001b[0mdondurulmus_kume\u001b[0m\u001b[1;33m.\u001b[0m\u001b[0madd\u001b[0m\u001b[1;33m(\u001b[0m\u001b[1;34m\"çilek\"\u001b[0m\u001b[1;33m)\u001b[0m\u001b[1;33m\u001b[0m\u001b[1;33m\u001b[0m\u001b[0m\n\u001b[0m",
      "\u001b[1;31mAttributeError\u001b[0m: 'frozenset' object has no attribute 'add'"
     ]
    }
   ],
   "source": [
    "dondurulmus_kume.add(\"çilek\")"
   ]
  },
  {
   "cell_type": "code",
   "execution_count": 148,
   "metadata": {},
   "outputs": [
    {
     "ename": "AttributeError",
     "evalue": "'frozenset' object has no attribute 'add'",
     "output_type": "error",
     "traceback": [
      "\u001b[1;31m---------------------------------------------------------------------------\u001b[0m",
      "\u001b[1;31mAttributeError\u001b[0m                            Traceback (most recent call last)",
      "\u001b[1;32m<ipython-input-148-2c5ba523dac6>\u001b[0m in \u001b[0;36m<module>\u001b[1;34m\u001b[0m\n\u001b[1;32m----> 1\u001b[1;33m \u001b[0mdondurulmus_kume\u001b[0m\u001b[1;33m.\u001b[0m\u001b[0madd\u001b[0m\u001b[1;33m(\u001b[0m\u001b[1;34m\"elma\"\u001b[0m\u001b[1;33m)\u001b[0m\u001b[1;33m\u001b[0m\u001b[1;33m\u001b[0m\u001b[0m\n\u001b[0m",
      "\u001b[1;31mAttributeError\u001b[0m: 'frozenset' object has no attribute 'add'"
     ]
    }
   ],
   "source": [
    "dondurulmus_kume.add(\"elma\")"
   ]
  },
  {
   "cell_type": "code",
   "execution_count": null,
   "metadata": {},
   "outputs": [],
   "source": []
  }
 ],
 "metadata": {
  "kernelspec": {
   "display_name": "Python 3",
   "language": "python",
   "name": "python3"
  },
  "language_info": {
   "codemirror_mode": {
    "name": "ipython",
    "version": 3
   },
   "file_extension": ".py",
   "mimetype": "text/x-python",
   "name": "python",
   "nbconvert_exporter": "python",
   "pygments_lexer": "ipython3",
   "version": "3.8.5"
  }
 },
 "nbformat": 4,
 "nbformat_minor": 4
}
