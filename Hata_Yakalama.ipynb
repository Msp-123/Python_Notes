{
 "cells": [
  {
   "cell_type": "code",
   "execution_count": 1,
   "metadata": {},
   "outputs": [],
   "source": [
    "# Kullanıcı bizim istediğimiz veri tipinde bir değer girmediğinde yada başka bir şekilde ortaya çıkacak\n",
    "# hataları yakalamak "
   ]
  },
  {
   "cell_type": "code",
   "execution_count": 4,
   "metadata": {},
   "outputs": [
    {
     "name": "stdout",
     "output_type": "stream",
     "text": [
      "Sayı: 46\n",
      "6.782329983125268\n"
     ]
    }
   ],
   "source": [
    "sayi = int(input(\"Sayı: \"))\n",
    "print(sayi ** 0.5)"
   ]
  },
  {
   "cell_type": "code",
   "execution_count": 5,
   "metadata": {},
   "outputs": [
    {
     "name": "stdout",
     "output_type": "stream",
     "text": [
      "Sayı: mert\n"
     ]
    },
    {
     "ename": "ValueError",
     "evalue": "invalid literal for int() with base 10: 'mert'",
     "output_type": "error",
     "traceback": [
      "\u001b[1;31m---------------------------------------------------------------------------\u001b[0m",
      "\u001b[1;31mValueError\u001b[0m                                Traceback (most recent call last)",
      "\u001b[1;32m<ipython-input-5-1872a32029a0>\u001b[0m in \u001b[0;36m<module>\u001b[1;34m\u001b[0m\n\u001b[1;32m----> 1\u001b[1;33m \u001b[0msayi\u001b[0m \u001b[1;33m=\u001b[0m \u001b[0mint\u001b[0m\u001b[1;33m(\u001b[0m\u001b[0minput\u001b[0m\u001b[1;33m(\u001b[0m\u001b[1;34m\"Sayı: \"\u001b[0m\u001b[1;33m)\u001b[0m\u001b[1;33m)\u001b[0m\u001b[1;33m\u001b[0m\u001b[1;33m\u001b[0m\u001b[0m\n\u001b[0m\u001b[0;32m      2\u001b[0m \u001b[0mprint\u001b[0m\u001b[1;33m(\u001b[0m\u001b[0msayi\u001b[0m \u001b[1;33m**\u001b[0m \u001b[1;36m0.5\u001b[0m\u001b[1;33m)\u001b[0m\u001b[1;33m\u001b[0m\u001b[1;33m\u001b[0m\u001b[0m\n",
      "\u001b[1;31mValueError\u001b[0m: invalid literal for int() with base 10: 'mert'"
     ]
    }
   ],
   "source": [
    "sayi = int(input(\"Sayı: \"))\n",
    "print(sayi ** 0.5)"
   ]
  },
  {
   "cell_type": "code",
   "execution_count": 6,
   "metadata": {},
   "outputs": [
    {
     "data": {
      "text/plain": [
       "'düsündügümüzde, kullanıcının yukarıdaki gibi bir hata mesajı görmesi yerine, hatanın neden\\nkaynaklandıgını ya da neyi yanlıs yaptıgını daha açık bir sekilde ifade eden bir mesaj alması\\nçok daha mantıklı olacaktır.\\n'"
      ]
     },
     "execution_count": 6,
     "metadata": {},
     "output_type": "execute_result"
    }
   ],
   "source": [
    "\"\"\"düsündügümüzde, kullanıcının yukarıdaki gibi bir hata mesajı görmesi yerine, hatanın neden\n",
    "kaynaklandıgını ya da neyi yanlıs yaptıgını daha açık bir sekilde ifade eden bir mesaj alması\n",
    "çok daha mantıklı olacaktır.\n",
    "\"\"\""
   ]
  },
  {
   "cell_type": "markdown",
   "metadata": {},
   "source": [
    "## Hata Türleri"
   ]
  },
  {
   "cell_type": "code",
   "execution_count": 7,
   "metadata": {},
   "outputs": [
    {
     "data": {
      "text/plain": [
       "'1. Programcı Hataları (Error )\\n2. Program Kusurları (Bug)\\n3. Istisnalar (Exception)\\n'"
      ]
     },
     "execution_count": 7,
     "metadata": {},
     "output_type": "execute_result"
    }
   ],
   "source": [
    "\"\"\"1. Programcı Hataları (Error )\n",
    "2. Program Kusurları (Bug)\n",
    "3. Istisnalar (Exception)\n",
    "\"\"\""
   ]
  },
  {
   "cell_type": "code",
   "execution_count": 8,
   "metadata": {},
   "outputs": [
    {
     "ename": "SyntaxError",
     "evalue": "Missing parentheses in call to 'print'. Did you mean print(\"merhaba dünya\")? (<ipython-input-8-040c550ef30e>, line 2)",
     "output_type": "error",
     "traceback": [
      "\u001b[1;36m  File \u001b[1;32m\"<ipython-input-8-040c550ef30e>\"\u001b[1;36m, line \u001b[1;32m2\u001b[0m\n\u001b[1;33m    print \"merhaba dünya\"\u001b[0m\n\u001b[1;37m          ^\u001b[0m\n\u001b[1;31mSyntaxError\u001b[0m\u001b[1;31m:\u001b[0m Missing parentheses in call to 'print'. Did you mean print(\"merhaba dünya\")?\n"
     ]
    }
   ],
   "source": [
    "# Programcı Hataları\n",
    "print \"merhaba dünya\""
   ]
  },
  {
   "cell_type": "code",
   "execution_count": 14,
   "metadata": {},
   "outputs": [
    {
     "name": "stdout",
     "output_type": "stream",
     "text": [
      "Sayı1:12\n",
      "Sayı2:55\n",
      "12 + 55 = 1255\n"
     ]
    }
   ],
   "source": [
    "# Program Kusurları (Bug)\n",
    "sayi1 = input(\"Sayı1:\")\n",
    "sayi2 = input(\"Sayı2:\")\n",
    "\n",
    "print(sayi1, \"+\", sayi2, \"=\", sayi1+sayi2)"
   ]
  },
  {
   "cell_type": "code",
   "execution_count": 13,
   "metadata": {},
   "outputs": [],
   "source": [
    "#Istisnalar (Exception)\n",
    "#Istisnalar, adından da az çok anlasılacagı gibi, bir programın çalısması sırasında ortaya çıkan,\n",
    "#normalden farklı, istisnai durumlardır"
   ]
  },
  {
   "cell_type": "code",
   "execution_count": 17,
   "metadata": {},
   "outputs": [
    {
     "name": "stdout",
     "output_type": "stream",
     "text": [
      "Sayı1:45\n",
      "Sayı2:0\n"
     ]
    },
    {
     "ename": "ZeroDivisionError",
     "evalue": "division by zero",
     "output_type": "error",
     "traceback": [
      "\u001b[1;31m---------------------------------------------------------------------------\u001b[0m",
      "\u001b[1;31mZeroDivisionError\u001b[0m                         Traceback (most recent call last)",
      "\u001b[1;32m<ipython-input-17-eedf9a99d23d>\u001b[0m in \u001b[0;36m<module>\u001b[1;34m\u001b[0m\n\u001b[0;32m      2\u001b[0m \u001b[0msayi2\u001b[0m \u001b[1;33m=\u001b[0m \u001b[0mint\u001b[0m\u001b[1;33m(\u001b[0m\u001b[0minput\u001b[0m\u001b[1;33m(\u001b[0m\u001b[1;34m\"Sayı2:\"\u001b[0m\u001b[1;33m)\u001b[0m\u001b[1;33m)\u001b[0m\u001b[1;33m\u001b[0m\u001b[1;33m\u001b[0m\u001b[0m\n\u001b[0;32m      3\u001b[0m \u001b[1;33m\u001b[0m\u001b[0m\n\u001b[1;32m----> 4\u001b[1;33m \u001b[0mprint\u001b[0m\u001b[1;33m(\u001b[0m\u001b[0msayi1\u001b[0m\u001b[1;33m,\u001b[0m \u001b[1;34m\"/\"\u001b[0m\u001b[1;33m,\u001b[0m \u001b[0msayi2\u001b[0m\u001b[1;33m,\u001b[0m \u001b[1;34m\"=\"\u001b[0m\u001b[1;33m,\u001b[0m \u001b[0msayi1\u001b[0m \u001b[1;33m/\u001b[0m \u001b[0msayi2\u001b[0m\u001b[1;33m)\u001b[0m\u001b[1;33m\u001b[0m\u001b[1;33m\u001b[0m\u001b[0m\n\u001b[0m",
      "\u001b[1;31mZeroDivisionError\u001b[0m: division by zero"
     ]
    }
   ],
   "source": [
    "sayi1 = int(input(\"Sayı1:\"))\n",
    "sayi2 = int(input(\"Sayı2:\"))\n",
    "\n",
    "print(sayi1, \"/\", sayi2, \"=\", sayi1 / sayi2)"
   ]
  },
  {
   "cell_type": "code",
   "execution_count": 18,
   "metadata": {},
   "outputs": [
    {
     "name": "stdout",
     "output_type": "stream",
     "text": [
      "Sayı1:45\n",
      "Sayı2:asdf\n"
     ]
    },
    {
     "ename": "ValueError",
     "evalue": "invalid literal for int() with base 10: 'asdf'",
     "output_type": "error",
     "traceback": [
      "\u001b[1;31m---------------------------------------------------------------------------\u001b[0m",
      "\u001b[1;31mValueError\u001b[0m                                Traceback (most recent call last)",
      "\u001b[1;32m<ipython-input-18-eedf9a99d23d>\u001b[0m in \u001b[0;36m<module>\u001b[1;34m\u001b[0m\n\u001b[0;32m      1\u001b[0m \u001b[0msayi1\u001b[0m \u001b[1;33m=\u001b[0m \u001b[0mint\u001b[0m\u001b[1;33m(\u001b[0m\u001b[0minput\u001b[0m\u001b[1;33m(\u001b[0m\u001b[1;34m\"Sayı1:\"\u001b[0m\u001b[1;33m)\u001b[0m\u001b[1;33m)\u001b[0m\u001b[1;33m\u001b[0m\u001b[1;33m\u001b[0m\u001b[0m\n\u001b[1;32m----> 2\u001b[1;33m \u001b[0msayi2\u001b[0m \u001b[1;33m=\u001b[0m \u001b[0mint\u001b[0m\u001b[1;33m(\u001b[0m\u001b[0minput\u001b[0m\u001b[1;33m(\u001b[0m\u001b[1;34m\"Sayı2:\"\u001b[0m\u001b[1;33m)\u001b[0m\u001b[1;33m)\u001b[0m\u001b[1;33m\u001b[0m\u001b[1;33m\u001b[0m\u001b[0m\n\u001b[0m\u001b[0;32m      3\u001b[0m \u001b[1;33m\u001b[0m\u001b[0m\n\u001b[0;32m      4\u001b[0m \u001b[0mprint\u001b[0m\u001b[1;33m(\u001b[0m\u001b[0msayi1\u001b[0m\u001b[1;33m,\u001b[0m \u001b[1;34m\"/\"\u001b[0m\u001b[1;33m,\u001b[0m \u001b[0msayi2\u001b[0m\u001b[1;33m,\u001b[0m \u001b[1;34m\"=\"\u001b[0m\u001b[1;33m,\u001b[0m \u001b[0msayi1\u001b[0m \u001b[1;33m/\u001b[0m \u001b[0msayi2\u001b[0m\u001b[1;33m)\u001b[0m\u001b[1;33m\u001b[0m\u001b[1;33m\u001b[0m\u001b[0m\n",
      "\u001b[1;31mValueError\u001b[0m: invalid literal for int() with base 10: 'asdf'"
     ]
    }
   ],
   "source": [
    "sayi1 = int(input(\"Sayı1:\"))\n",
    "sayi2 = int(input(\"Sayı2:\"))\n",
    "\n",
    "print(sayi1, \"/\", sayi2, \"=\", sayi1 / sayi2)"
   ]
  },
  {
   "cell_type": "markdown",
   "metadata": {},
   "source": [
    "## try... except..."
   ]
  },
  {
   "cell_type": "code",
   "execution_count": 22,
   "metadata": {},
   "outputs": [
    {
     "data": {
      "text/plain": [
       "'\\ntry:\\nhata verebileceğini bildiğimiz kodlar\\nexcept HataAdı:\\nhata durumunda yapılacak işlem\\n'"
      ]
     },
     "execution_count": 22,
     "metadata": {},
     "output_type": "execute_result"
    }
   ],
   "source": [
    "\"\"\"\n",
    "try:\n",
    "hata verebileceğini bildiğimiz kodlar\n",
    "except HataAdı:\n",
    "hata durumunda yapılacak işlem\n",
    "\"\"\""
   ]
  },
  {
   "cell_type": "code",
   "execution_count": 20,
   "metadata": {},
   "outputs": [
    {
     "name": "stdout",
     "output_type": "stream",
     "text": [
      "Sayı1:12\n",
      "Sayı2:dfg\n",
      "Lütfen sadece sayı giriniz\n"
     ]
    }
   ],
   "source": [
    "try:\n",
    "    sayi1 = int(input(\"Sayı1:\"))\n",
    "    sayi2 = int(input(\"Sayı2:\"))\n",
    "    print(sayi1, \"/\", sayi2, \"=\", sayi1 / sayi2)\n",
    "except ValueError:\n",
    "    print(\"Lütfen sadece sayı giriniz\")"
   ]
  },
  {
   "cell_type": "code",
   "execution_count": 21,
   "metadata": {},
   "outputs": [
    {
     "data": {
      "text/plain": [
       "'\\nEger try blogu içinde belirtilen islemler sırasında bir ValueError ile karsılasırsan\\nbunu görmezden gel ve normal sartlar altında kullanıcıya gösterecegin hata\\nmesajını gösterme.'"
      ]
     },
     "execution_count": 21,
     "metadata": {},
     "output_type": "execute_result"
    }
   ],
   "source": [
    "\"\"\"\n",
    "Eger try blogu içinde belirtilen islemler sırasında bir ValueError ile karsılasırsan\n",
    "bunu görmezden gel ve normal sartlar altında kullanıcıya gösterecegin hata\n",
    "mesajını gösterme.\"\"\""
   ]
  },
  {
   "cell_type": "code",
   "execution_count": 25,
   "metadata": {},
   "outputs": [
    {
     "name": "stdout",
     "output_type": "stream",
     "text": [
      "Sayı1:15\n",
      "Sayı2:0\n",
      "Bir sayıyı sıfıra bölemezsiniz\n"
     ]
    }
   ],
   "source": [
    "try:\n",
    "    sayi1 = int(input(\"Sayı1:\"))\n",
    "    sayi2 = int(input(\"Sayı2:\"))\n",
    "    print(sayi1, \"/\", sayi2, \"=\", sayi1 / sayi2)\n",
    "except ZeroDivisionError:\n",
    "    print(\"Bir sayıyı sıfıra bölemezsiniz\")"
   ]
  },
  {
   "cell_type": "code",
   "execution_count": 24,
   "metadata": {},
   "outputs": [],
   "source": [
    "# 2 farklı türde hata üretme potansiyeline kodlar için bir try bloğuna 2 except bloğu yazabiliriz."
   ]
  },
  {
   "cell_type": "code",
   "execution_count": 29,
   "metadata": {},
   "outputs": [
    {
     "name": "stdout",
     "output_type": "stream",
     "text": [
      "Sayı1:45\n",
      "Sayı2:0\n",
      "Bir sayıyı sıfıra bölemezsiniz\n"
     ]
    }
   ],
   "source": [
    "try:\n",
    "    sayi1 = int(input(\"Sayı1:\"))\n",
    "    sayi2 = int(input(\"Sayı2:\"))\n",
    "    print(sayi1, \"/\", sayi2, \"=\", sayi1 / sayi2)\n",
    "except ValueError:\n",
    "    print(\"Lütfen sadece sayı giriniz\")\n",
    "except ZeroDivisionError:\n",
    "    print(\"Lütfen sadece sayı giriniz\")"
   ]
  },
  {
   "cell_type": "code",
   "execution_count": 31,
   "metadata": {},
   "outputs": [
    {
     "name": "stdout",
     "output_type": "stream",
     "text": [
      "Sayı1:45\n",
      "Sayı2:0\n",
      "Bir hata oluştu!\n"
     ]
    }
   ],
   "source": [
    "try:\n",
    "    sayi1 = int(input(\"Sayı1:\"))\n",
    "    sayi2 = int(input(\"Sayı2:\"))\n",
    "    print(sayi1, \"/\", sayi2, \"=\", sayi1 / sayi2)\n",
    "except (ValueError,ZeroDivisionError):\n",
    "    print(\"Bir hata oluştu!\")"
   ]
  },
  {
   "cell_type": "code",
   "execution_count": 35,
   "metadata": {},
   "outputs": [
    {
     "name": "stdout",
     "output_type": "stream",
     "text": [
      "Sayı1:12\n",
      "Sayı2:5\n",
      "12 / 5 = 2.4\n",
      "Sayı1:45\n",
      "Sayı2:0\n",
      "Bir hata oluştu!\n"
     ]
    }
   ],
   "source": [
    "while True:\n",
    "    try:\n",
    "        sayi1 = int(input(\"Sayı1:\"))\n",
    "        sayi2 = int(input(\"Sayı2:\"))\n",
    "        print(sayi1, \"/\", sayi2, \"=\", sayi1 / sayi2)\n",
    "    except (ValueError,ZeroDivisionError):\n",
    "        print(\"Bir hata oluştu!\")\n",
    "        break"
   ]
  },
  {
   "cell_type": "markdown",
   "metadata": {},
   "source": [
    "## try... except... as..."
   ]
  },
  {
   "cell_type": "code",
   "execution_count": null,
   "metadata": {},
   "outputs": [],
   "source": [
    "\"\"\"\n",
    "Eger istersek, yazdıgımız programda bu hata açıklamasına erisebiliriz\n",
    "\"\"\""
   ]
  },
  {
   "cell_type": "code",
   "execution_count": 43,
   "metadata": {},
   "outputs": [
    {
     "name": "stdout",
     "output_type": "stream",
     "text": [
      "Sayı1:324\n",
      "Sayı2:asd\n",
      "Lütfen sadece sayı giriniz\n",
      "invalid literal for int() with base 10: 'asd'\n"
     ]
    }
   ],
   "source": [
    "try:\n",
    "    sayi1 = int(input(\"Sayı1:\"))\n",
    "    sayi2 = int(input(\"Sayı2:\"))\n",
    "    print(sayi1, \"/\", sayi2, \"=\", sayi1 / sayi2)\n",
    "except ValueError as hata:\n",
    "    print(\"Lütfen sadece sayı giriniz\")\n",
    "    print(hata)\n",
    "except ZeroDivisionError as hata:\n",
    "    print(\"Bir sayıyı sıfıra bölemezsiniz\")\n",
    "    print(hata)"
   ]
  },
  {
   "cell_type": "markdown",
   "metadata": {},
   "source": [
    "## try... except... else..."
   ]
  },
  {
   "cell_type": "code",
   "execution_count": 47,
   "metadata": {},
   "outputs": [
    {
     "name": "stdout",
     "output_type": "stream",
     "text": [
      "Sayı1:45\n",
      "Sayı2:0\n",
      "Bir sayıyı sıfıra bölemezsiniz\n"
     ]
    }
   ],
   "source": [
    "try:\n",
    "    sayi1 = int(input(\"Sayı1:\"))\n",
    "    sayi2 = int(input(\"Sayı2:\"))\n",
    "except ValueError as hata:\n",
    "    print(\"Lütfen sadece sayı giriniz\")\n",
    "    print(hata)\n",
    "else:\n",
    "    try:\n",
    "        print(sayi1, \"/\", sayi2, \"=\", sayi1 / sayi2)\n",
    "    except ZeroDivisionError:\n",
    "        print(\"Bir sayıyı sıfıra bölemezsiniz\")"
   ]
  },
  {
   "cell_type": "markdown",
   "metadata": {},
   "source": [
    "## try... except... finally"
   ]
  },
  {
   "cell_type": "code",
   "execution_count": 48,
   "metadata": {},
   "outputs": [],
   "source": [
    "# finally.. blogunun en önemli özelligi, programın çalısması sırasında herhangi bir hata\n",
    "# gerçeklesse de gerçeklesmese de isletilecek olmasıdır;"
   ]
  },
  {
   "cell_type": "code",
   "execution_count": 49,
   "metadata": {},
   "outputs": [
    {
     "data": {
      "text/plain": [
       "'\\ntry:\\n    dosya = open(\"dosyaadı.txt\",\"r\")\\n    ...dosya ile ilgili işlemler...\\nexcept: IOError:\\n        print(\"Bir hata oluştu..\")\\nfinally:\\n    dosya.close()\\n    '"
      ]
     },
     "execution_count": 49,
     "metadata": {},
     "output_type": "execute_result"
    }
   ],
   "source": [
    "\"\"\"\n",
    "try:\n",
    "    dosya = open(\"dosyaadı.txt\",\"r\")\n",
    "    ...dosya ile ilgili işlemler...\n",
    "except: IOError:\n",
    "        print(\"Bir hata oluştu..\")\n",
    "finally:\n",
    "    dosya.close()\n",
    "    \"\"\""
   ]
  },
  {
   "cell_type": "markdown",
   "metadata": {},
   "source": [
    "## Bütün Hataları Yakalamak"
   ]
  },
  {
   "cell_type": "code",
   "execution_count": 53,
   "metadata": {},
   "outputs": [
    {
     "name": "stdout",
     "output_type": "stream",
     "text": [
      "Sayı1:234\n",
      "Sayı2:0\n",
      "Program çalışmasında bir hata oluştu. Girdilerinizi kontrol ediniz.\n"
     ]
    }
   ],
   "source": [
    "try:\n",
    "    sayi1 = int(input(\"Sayı1:\"))\n",
    "    sayi2 = int(input(\"Sayı2:\"))\n",
    "    print(sayi1/sayi2)\n",
    "except :\n",
    "    print(\"Program çalışmasında bir hata oluştu. Girdilerinizi kontrol ediniz.\")"
   ]
  },
  {
   "cell_type": "code",
   "execution_count": null,
   "metadata": {},
   "outputs": [],
   "source": []
  }
 ],
 "metadata": {
  "kernelspec": {
   "display_name": "Python 3",
   "language": "python",
   "name": "python3"
  },
  "language_info": {
   "codemirror_mode": {
    "name": "ipython",
    "version": 3
   },
   "file_extension": ".py",
   "mimetype": "text/x-python",
   "name": "python",
   "nbconvert_exporter": "python",
   "pygments_lexer": "ipython3",
   "version": "3.8.5"
  }
 },
 "nbformat": 4,
 "nbformat_minor": 4
}
