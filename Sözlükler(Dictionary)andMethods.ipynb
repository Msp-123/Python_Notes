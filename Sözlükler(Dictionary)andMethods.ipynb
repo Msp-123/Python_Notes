{
 "cells": [
  {
   "cell_type": "markdown",
   "metadata": {},
   "source": [
    "## Sözlük Tanımlamak"
   ]
  },
  {
   "cell_type": "code",
   "execution_count": 1,
   "metadata": {},
   "outputs": [],
   "source": [
    "kelimeler = {\"kitap\" : \"book\"}\n",
    "# içerigi sözlük veri tipi olan kelimeler adlı bir degisken tanımladık"
   ]
  },
  {
   "cell_type": "code",
   "execution_count": 2,
   "metadata": {},
   "outputs": [
    {
     "data": {
      "text/plain": [
       "'sözlük veri tipi de içinde farklı veri tiplerini barındıran, ‘kapsayıcı’\\nbir veri tipidir. Burada sözlügümüz iki adet karakter dizisinden olusuyor'"
      ]
     },
     "execution_count": 2,
     "metadata": {},
     "output_type": "execute_result"
    }
   ],
   "source": [
    "\"\"\"sözlük veri tipi de içinde farklı veri tiplerini barındıran, ‘kapsayıcı’\n",
    "bir veri tipidir. Burada sözlügümüz iki adet karakter dizisinden olusuyor\"\"\""
   ]
  },
  {
   "cell_type": "code",
   "execution_count": 5,
   "metadata": {},
   "outputs": [],
   "source": [
    "sozluk = {} # boş sözlük örneği"
   ]
  },
  {
   "cell_type": "code",
   "execution_count": 6,
   "metadata": {},
   "outputs": [
    {
     "data": {
      "text/plain": [
       "dict"
      ]
     },
     "execution_count": 6,
     "metadata": {},
     "output_type": "execute_result"
    }
   ],
   "source": [
    "type(sozluk)"
   ]
  },
  {
   "cell_type": "code",
   "execution_count": 7,
   "metadata": {},
   "outputs": [
    {
     "data": {
      "text/plain": [
       "{'kitap': 'book'}"
      ]
     },
     "execution_count": 7,
     "metadata": {},
     "output_type": "execute_result"
    }
   ],
   "source": [
    "kelimeler"
   ]
  },
  {
   "cell_type": "code",
   "execution_count": 9,
   "metadata": {},
   "outputs": [
    {
     "data": {
      "text/plain": [
       "'Gördügünüz gibi, \"kitap\":\\n\"book\" ifadesi tek basına bir öge durumundadır. Yani burada “kitap” karakter dizisini ayrı,\\n“book” karakter dizisini ayrı bir öge olarak almıyoruz. Bu ikisi tek bir sözlük ögesi olusturuyor'"
      ]
     },
     "execution_count": 9,
     "metadata": {},
     "output_type": "execute_result"
    }
   ],
   "source": [
    "len(kelimeler)\n",
    "\"\"\"Gördügünüz gibi, \"kitap\":\n",
    "\"book\" ifadesi tek basına bir öge durumundadır. Yani burada “kitap” karakter dizisini ayrı,\n",
    "“book” karakter dizisini ayrı bir öge olarak almıyoruz. Bu ikisi tek bir sözlük ögesi olusturuyor\"\"\""
   ]
  },
  {
   "cell_type": "code",
   "execution_count": 10,
   "metadata": {},
   "outputs": [],
   "source": [
    "kelimeler = {\"kitap\" : \"book\", \"bilgisayar\" : \"computer\"}"
   ]
  },
  {
   "cell_type": "code",
   "execution_count": 11,
   "metadata": {},
   "outputs": [
    {
     "data": {
      "text/plain": [
       "{'kitap': 'book', 'bilgisayar': 'computer'}"
      ]
     },
     "execution_count": 11,
     "metadata": {},
     "output_type": "execute_result"
    }
   ],
   "source": [
    "kelimeler"
   ]
  },
  {
   "cell_type": "code",
   "execution_count": 12,
   "metadata": {},
   "outputs": [
    {
     "data": {
      "text/plain": [
       "2"
      ]
     },
     "execution_count": 12,
     "metadata": {},
     "output_type": "execute_result"
    }
   ],
   "source": [
    "len(kelimeler)"
   ]
  },
  {
   "cell_type": "code",
   "execution_count": 13,
   "metadata": {},
   "outputs": [
    {
     "data": {
      "text/plain": [
       "'Python programlama dilinde\\ndogru kod yazmak kadar okunaklı kod yazmak da çok önemlidir. Mesela bir sözlügü söyle\\ntanımladıgımızda kodlarımızın pek okunaklı olmayacagını söyleyebiliriz'"
      ]
     },
     "execution_count": 13,
     "metadata": {},
     "output_type": "execute_result"
    }
   ],
   "source": [
    "\"\"\"Python programlama dilinde\n",
    "dogru kod yazmak kadar okunaklı kod yazmak da çok önemlidir. Mesela bir sözlügü söyle\n",
    "tanımladıgımızda kodlarımızın pek okunaklı olmayacagını söyleyebiliriz\"\"\""
   ]
  },
  {
   "cell_type": "code",
   "execution_count": 15,
   "metadata": {},
   "outputs": [],
   "source": [
    "sozluk = {\"kitap\": \"book\", \"bilgisayar\": \"computer\", \"programlama\": \"programming\", \"dil\": \"language\", \"defter\": \"notebook\"}"
   ]
  },
  {
   "cell_type": "code",
   "execution_count": 16,
   "metadata": {},
   "outputs": [
    {
     "data": {
      "text/plain": [
       "{'kitap': 'book',\n",
       " 'bilgisayar': 'computer',\n",
       " 'programlama': 'programming',\n",
       " 'dil': 'language',\n",
       " 'defter': 'notebook'}"
      ]
     },
     "execution_count": 16,
     "metadata": {},
     "output_type": "execute_result"
    }
   ],
   "source": [
    "sozluk"
   ]
  },
  {
   "cell_type": "code",
   "execution_count": 17,
   "metadata": {},
   "outputs": [
    {
     "data": {
      "text/plain": [
       "'Teknik olarak baktıgımızda bu kodlarda hiçbir problem yok. Ancak sözlükleri böyle saga dogru\\nuzayacak sekilde tanımladıgımızda okunaklılıgı azaltmıs oluyoruz. Bu yüzden yukarıdaki\\nsözlügü söyle yazmayı tercih edebiliriz:'"
      ]
     },
     "execution_count": 17,
     "metadata": {},
     "output_type": "execute_result"
    }
   ],
   "source": [
    "\"\"\"Teknik olarak baktıgımızda bu kodlarda hiçbir problem yok. Ancak sözlükleri böyle saga dogru\n",
    "uzayacak sekilde tanımladıgımızda okunaklılıgı azaltmıs oluyoruz. Bu yüzden yukarıdaki\n",
    "sözlügü söyle yazmayı tercih edebiliriz:\"\"\""
   ]
  },
  {
   "cell_type": "code",
   "execution_count": 18,
   "metadata": {},
   "outputs": [],
   "source": [
    "sozluk = {\"kitap\" : \"book\",\n",
    "\"bilgisayar\" : \"computer\",\n",
    "\"programlama\": \"programming\",\n",
    "\"dil\" : \"language\",\n",
    "\"defter\" : \"notebook\"}"
   ]
  },
  {
   "cell_type": "markdown",
   "metadata": {},
   "source": [
    "## Sözlük Ögelerine Erismek"
   ]
  },
  {
   "cell_type": "code",
   "execution_count": 19,
   "metadata": {},
   "outputs": [],
   "source": [
    "sozluk = {\"kitap\" : \"book\",\n",
    "\"bilgisayar\" : \"computer\",\n",
    "\"programlama\": \"programming\",\n",
    "\"dil\" : \"language\",\n",
    "\"defter\" : \"notebook\"}"
   ]
  },
  {
   "cell_type": "code",
   "execution_count": 22,
   "metadata": {},
   "outputs": [
    {
     "name": "stdout",
     "output_type": "stream",
     "text": [
      "book\n"
     ]
    }
   ],
   "source": [
    "# sözlük[sözlük_öğesinin_adı]\n",
    "print(sozluk[\"kitap\"])"
   ]
  },
  {
   "cell_type": "code",
   "execution_count": 23,
   "metadata": {},
   "outputs": [
    {
     "name": "stdout",
     "output_type": "stream",
     "text": [
      "programming\n"
     ]
    }
   ],
   "source": [
    "print(sozluk['programlama'])"
   ]
  },
  {
   "cell_type": "code",
   "execution_count": 24,
   "metadata": {},
   "outputs": [
    {
     "name": "stdout",
     "output_type": "stream",
     "text": [
      "kitap\n",
      "bilgisayar\n",
      "programlama\n",
      "dil\n",
      "defter\n"
     ]
    }
   ],
   "source": [
    "for i in sozluk:\n",
    "    print(i)"
   ]
  },
  {
   "cell_type": "code",
   "execution_count": 25,
   "metadata": {},
   "outputs": [
    {
     "name": "stdout",
     "output_type": "stream",
     "text": [
      "book\n",
      "computer\n",
      "programming\n",
      "language\n",
      "notebook\n"
     ]
    }
   ],
   "source": [
    "for i in sozluk:\n",
    "    print(sozluk[i])"
   ]
  },
  {
   "cell_type": "code",
   "execution_count": 27,
   "metadata": {},
   "outputs": [],
   "source": [
    "# Eger bir sözlük içinde bulunmayan bir ögeye erismeye çalısırsak Python bize KeyError tipinde bir hata mesajı verecektir"
   ]
  },
  {
   "cell_type": "code",
   "execution_count": 28,
   "metadata": {},
   "outputs": [
    {
     "ename": "KeyError",
     "evalue": "'kalem'",
     "output_type": "error",
     "traceback": [
      "\u001b[1;31m---------------------------------------------------------------------------\u001b[0m",
      "\u001b[1;31mKeyError\u001b[0m                                  Traceback (most recent call last)",
      "\u001b[1;32m<ipython-input-28-c1ce4b02fe54>\u001b[0m in \u001b[0;36m<module>\u001b[1;34m\u001b[0m\n\u001b[1;32m----> 1\u001b[1;33m \u001b[0mprint\u001b[0m\u001b[1;33m(\u001b[0m\u001b[0msozluk\u001b[0m\u001b[1;33m[\u001b[0m\u001b[1;34m\"kalem\"\u001b[0m\u001b[1;33m]\u001b[0m\u001b[1;33m)\u001b[0m\u001b[1;33m\u001b[0m\u001b[1;33m\u001b[0m\u001b[0m\n\u001b[0m",
      "\u001b[1;31mKeyError\u001b[0m: 'kalem'"
     ]
    }
   ],
   "source": [
    "print(sozluk[\"kalem\"])"
   ]
  },
  {
   "cell_type": "code",
   "execution_count": 31,
   "metadata": {},
   "outputs": [
    {
     "name": "stdout",
     "output_type": "stream",
     "text": [
      "Telefon numarasını öğrenmek istediğiniz kişinin adını yazın: Mert Sukru Pehlivan\n",
      "Mert Sukru Pehlivan adlı kişini telefon numarası : 0533 222 11 44\n"
     ]
    }
   ],
   "source": [
    "telefon_defteri = {\n",
    "    \"Mert Sukru Pehlivan\" : \"0533 222 11 44\",\n",
    "    \"Ali Yılmaz\" : \"0522 33 55 66\",\n",
    "    \"Ayşe Bahar\" : \"0544 555 66 77\",\n",
    "    \"Seda Su\" : \"0566 666 55 44\"\n",
    "}\n",
    "kisi = input(\"Telefon numarasını öğrenmek istediğiniz kişinin adını yazın: \")\n",
    "\n",
    "cevap = \"{} adlı kişini telefon numarası : {}\"\n",
    "\n",
    "print(cevap.format(kisi,telefon_defteri[kisi]))"
   ]
  },
  {
   "cell_type": "code",
   "execution_count": 32,
   "metadata": {},
   "outputs": [
    {
     "data": {
      "text/plain": [
       "'Eger aranan isim telefon defterinde varsa, bir önceki adımda tanımladıgımız cevap sablonuna\\ngöre kullanıcıyı bilgilendiriyoruz. Ama eger eger isim defterde yoksa, programımız hata\\nveriyor. Bunu önlemek için söyle bir kod yazabilirsiniz'"
      ]
     },
     "execution_count": 32,
     "metadata": {},
     "output_type": "execute_result"
    }
   ],
   "source": [
    "\"\"\"Eger aranan isim telefon defterinde varsa, bir önceki adımda tanımladıgımız cevap sablonuna\n",
    "göre kullanıcıyı bilgilendiriyoruz. Ama eger eger isim defterde yoksa, programımız hata\n",
    "veriyor. Bunu önlemek için söyle bir kod yazabilirsiniz\"\"\""
   ]
  },
  {
   "cell_type": "code",
   "execution_count": 33,
   "metadata": {},
   "outputs": [
    {
     "name": "stdout",
     "output_type": "stream",
     "text": [
      "Telefon numarasını öğrenmek istediğiniz kişinin adını yazın: Ahmet Mehmet\n",
      "Aradığınız kişinin telefon numarasına erişilemedi.\n"
     ]
    }
   ],
   "source": [
    "telefon_defteri = {\n",
    "    \"Mert Sukru Pehlivan\" : \"0533 222 11 44\",\n",
    "    \"Ali Yılmaz\" : \"0522 33 55 66\",\n",
    "    \"Ayşe Bahar\" : \"0544 555 66 77\",\n",
    "    \"Seda Su\" : \"0566 666 55 44\"\n",
    "}\n",
    "kisi = input(\"Telefon numarasını öğrenmek istediğiniz kişinin adını yazın: \")\n",
    "\n",
    "if kisi in telefon_defteri:\n",
    "    cevap = \"{} adlı kişini telefon numarası : {}\"\n",
    "    print(cevap.format(kisi,telefon_defteri[kisi]))\n",
    "else:\n",
    "    print(\"Aradığınız kişinin telefon numarasına erişilemedi.\")"
   ]
  },
  {
   "cell_type": "markdown",
   "metadata": {},
   "source": [
    "## Sözlüklerin Yapısı"
   ]
  },
  {
   "cell_type": "code",
   "execution_count": 34,
   "metadata": {},
   "outputs": [],
   "source": [
    "# Teknik olarak, iki nokta üst üste isaretinin solundaki karakter dizisine \n",
    "# ‘anahtar’ (key), sagındaki karakter dizisine ise ‘deger’ (value) adı verilir"
   ]
  },
  {
   "cell_type": "code",
   "execution_count": 35,
   "metadata": {},
   "outputs": [
    {
     "data": {
      "text/plain": [
       "'\\nSözlükler; anahtar ve deger çiftlerinin birbirleriyle eslestirildigi bir veri tipidir.\\nDolayısıyla sözlükler bu anahtar ve deger çiftleri arasında birebir iliski kurar\\n'"
      ]
     },
     "execution_count": 35,
     "metadata": {},
     "output_type": "execute_result"
    }
   ],
   "source": [
    "\"\"\"\n",
    "Sözlükler; anahtar ve deger çiftlerinin birbirleriyle eslestirildigi bir veri tipidir.\n",
    "Dolayısıyla sözlükler bu anahtar ve deger çiftleri arasında birebir iliski kurar\n",
    "\"\"\""
   ]
  },
  {
   "cell_type": "code",
   "execution_count": 36,
   "metadata": {},
   "outputs": [],
   "source": [
    "sozluk = {\n",
    "    \"bir\": 1,\n",
    "    \"iki\": 2,\n",
    "    \"üç\" : 3\n",
    "}"
   ]
  },
  {
   "cell_type": "code",
   "execution_count": 38,
   "metadata": {},
   "outputs": [
    {
     "data": {
      "text/plain": [
       "{'bir': 1, 'iki': 2, 'üç': 3}"
      ]
     },
     "execution_count": 38,
     "metadata": {},
     "output_type": "execute_result"
    }
   ],
   "source": [
    "sozluk"
   ]
  },
  {
   "cell_type": "code",
   "execution_count": 39,
   "metadata": {},
   "outputs": [],
   "source": [
    "# sözlük içinde listelere de yer verebiliriz"
   ]
  },
  {
   "cell_type": "code",
   "execution_count": 41,
   "metadata": {},
   "outputs": [],
   "source": [
    "sozluk = {\n",
    "    \"Mert Sukru Pehlivan\" : [\"Bursa\",\"Tofas\",24],\n",
    "    \"Ayşe Bahar\"          : [\"İstanbul\",\"Mercedes\",27]\n",
    "}"
   ]
  },
  {
   "cell_type": "code",
   "execution_count": 42,
   "metadata": {},
   "outputs": [
    {
     "data": {
      "text/plain": [
       "{'Mert Sukru Pehlivan': ['Bursa', 'Tofas', 24],\n",
       " 'Ayşe Bahar': ['İstanbul', 'Mercedes', 27]}"
      ]
     },
     "execution_count": 42,
     "metadata": {},
     "output_type": "execute_result"
    }
   ],
   "source": [
    "sozluk"
   ]
  },
  {
   "cell_type": "code",
   "execution_count": 43,
   "metadata": {},
   "outputs": [
    {
     "name": "stdout",
     "output_type": "stream",
     "text": [
      "['İstanbul', 'Mercedes', 27]\n"
     ]
    }
   ],
   "source": [
    "print(sozluk[\"Ayşe Bahar\"])"
   ]
  },
  {
   "cell_type": "code",
   "execution_count": 47,
   "metadata": {},
   "outputs": [
    {
     "name": "stdout",
     "output_type": "stream",
     "text": [
      "Mercedes\n"
     ]
    }
   ],
   "source": [
    "print(sozluk[\"Ayşe Bahar\"][1])"
   ]
  },
  {
   "cell_type": "code",
   "execution_count": 52,
   "metadata": {},
   "outputs": [],
   "source": [
    "kisiler = {\"Ahmet Yılmaz\": {\"Memleket\": \"İstanbul\",\n",
    "                            \"Meslek\" : \"Öğretmen\",\n",
    "                            \"Yaş\" : 34},\n",
    "\"Mehmet Yağız\" : {\"Memleket\": \"Adana\",\n",
    "                            \"Meslek\" : \"Mühendis\",\n",
    "                            \"Yaş\" : 40},\n",
    "\"Seda Bayrak\" : {\"Memleket\": \"İskenderun\",\n",
    "                            \"Meslek\" : \"Doktor\",\n",
    "                            \"Yaş\" : 30}}"
   ]
  },
  {
   "cell_type": "code",
   "execution_count": 53,
   "metadata": {},
   "outputs": [
    {
     "data": {
      "text/plain": [
       "{'Ahmet Yılmaz': {'Memleket': 'İstanbul', 'Meslek': 'Öğretmen', 'Yaş': 34},\n",
       " 'Mehmet Yağız': {'Memleket': 'Adana', 'Meslek': 'Mühendis', 'Yaş': 40},\n",
       " 'Seda Bayrak': {'Memleket': 'İskenderun', 'Meslek': 'Doktor', 'Yaş': 30}}"
      ]
     },
     "execution_count": 53,
     "metadata": {},
     "output_type": "execute_result"
    }
   ],
   "source": [
    "kisiler"
   ]
  },
  {
   "cell_type": "code",
   "execution_count": 54,
   "metadata": {},
   "outputs": [
    {
     "name": "stdout",
     "output_type": "stream",
     "text": [
      "İstanbul\n"
     ]
    }
   ],
   "source": [
    "print(kisiler[\"Ahmet Yılmaz\"][\"Memleket\"])"
   ]
  },
  {
   "cell_type": "code",
   "execution_count": 55,
   "metadata": {},
   "outputs": [
    {
     "name": "stdout",
     "output_type": "stream",
     "text": [
      "Doktor\n"
     ]
    }
   ],
   "source": [
    "print(kisiler[\"Seda Bayrak\"][\"Meslek\"])"
   ]
  },
  {
   "cell_type": "code",
   "execution_count": 62,
   "metadata": {},
   "outputs": [
    {
     "name": "stdout",
     "output_type": "stream",
     "text": [
      "40\n"
     ]
    }
   ],
   "source": [
    "print(kisiler[\"Mehmet Yağız\"][\"Yaş\"])"
   ]
  },
  {
   "cell_type": "code",
   "execution_count": 69,
   "metadata": {},
   "outputs": [
    {
     "name": "stdout",
     "output_type": "stream",
     "text": [
      "Hakkında ayrıntılı bilgi edinmek istediğiniz kişinin adını girin: Seda Bayrak\n",
      "Memleket/Meslek/Yaş ? Meslek\n",
      "Doktor\n"
     ]
    }
   ],
   "source": [
    "kisiler = {\"Ahmet Yılmaz\": {\"Memleket\": \"İstanbul\",\n",
    "                            \"Meslek\" : \"Öğretmen\",\n",
    "                            \"Yaş\" : 34},\n",
    "\"Mehmet Yağız\" : {\"Memleket\": \"Adana\",\n",
    "                            \"Meslek\" : \"Mühendis\",\n",
    "                            \"Yaş\" : 40},\n",
    "\"Seda Bayrak\" : {\"Memleket\": \"İskenderun\",\n",
    "                            \"Meslek\" : \"Doktor\",\n",
    "                            \"Yaş\" : 30}}\n",
    "isim = \"Hakkında ayrıntılı bilgi edinmek \\\n",
    "istediğiniz kişinin adını girin: \"\n",
    "\n",
    "arama = input(isim)\n",
    "\n",
    "ayrıntı = input(\"Memleket/Meslek/Yaş ? \")\n",
    "\n",
    "print(kisiler[arama][ayrıntı])"
   ]
  },
  {
   "cell_type": "code",
   "execution_count": 70,
   "metadata": {},
   "outputs": [],
   "source": [
    "sozluk = {\"bir\":1, \"iki\" : 2, \"üç\" : 3}"
   ]
  },
  {
   "cell_type": "code",
   "execution_count": 72,
   "metadata": {},
   "outputs": [
    {
     "data": {
      "text/plain": [
       "{'bir': 1, 'iki': 2, 'üç': 3}"
      ]
     },
     "execution_count": 72,
     "metadata": {},
     "output_type": "execute_result"
    }
   ],
   "source": [
    "sozluk"
   ]
  },
  {
   "cell_type": "code",
   "execution_count": 73,
   "metadata": {},
   "outputs": [
    {
     "ename": "KeyError",
     "evalue": "0",
     "output_type": "error",
     "traceback": [
      "\u001b[1;31m---------------------------------------------------------------------------\u001b[0m",
      "\u001b[1;31mKeyError\u001b[0m                                  Traceback (most recent call last)",
      "\u001b[1;32m<ipython-input-73-f8943a5a283d>\u001b[0m in \u001b[0;36m<module>\u001b[1;34m\u001b[0m\n\u001b[1;32m----> 1\u001b[1;33m \u001b[0msozluk\u001b[0m\u001b[1;33m[\u001b[0m\u001b[1;36m0\u001b[0m\u001b[1;33m]\u001b[0m\u001b[1;33m\u001b[0m\u001b[1;33m\u001b[0m\u001b[0m\n\u001b[0m",
      "\u001b[1;31mKeyError\u001b[0m: 0"
     ]
    }
   ],
   "source": [
    "sozluk[0] \n",
    "#Sözlüklerin öteki veri tiplerinden önemli bir farkı, sözlük içinde yer alan ögelerin herhangi bir\n",
    "#sıralama mantıgına sahip olmamasıdır"
   ]
  },
  {
   "cell_type": "markdown",
   "metadata": {},
   "source": [
    "## Sözlüklere Öge Eklemek"
   ]
  },
  {
   "cell_type": "code",
   "execution_count": 76,
   "metadata": {},
   "outputs": [
    {
     "data": {
      "text/plain": [
       "'\\nTıpkı listeler gibi, sözlükler de büyüyüp küçülebilen bir veri tipidir. Yani bir sözlügü ilk kez\\ntanımladıktan sonra istedigimiz zaman bu sözlüge yeni ögeler ekleyebilir veya varolan ögeleri\\nçıkarabiliriz.\\n'"
      ]
     },
     "execution_count": 76,
     "metadata": {},
     "output_type": "execute_result"
    }
   ],
   "source": [
    "\"\"\"\n",
    "Tıpkı listeler gibi, sözlükler de büyüyüp küçülebilen bir veri tipidir. Yani bir sözlügü ilk kez\n",
    "tanımladıktan sonra istedigimiz zaman bu sözlüge yeni ögeler ekleyebilir veya varolan ögeleri\n",
    "çıkarabiliriz.\n",
    "\"\"\""
   ]
  },
  {
   "cell_type": "code",
   "execution_count": 79,
   "metadata": {},
   "outputs": [],
   "source": [
    "sozluk = {}"
   ]
  },
  {
   "cell_type": "code",
   "execution_count": 81,
   "metadata": {},
   "outputs": [],
   "source": [
    "# Bu listeye öge eklemek için söyle bir formül kullanacagız:\n",
    "# sozluk[anahtar] = değer"
   ]
  },
  {
   "cell_type": "code",
   "execution_count": 82,
   "metadata": {},
   "outputs": [],
   "source": [
    "sozluk[\"Mert\"] = \"İstanbul\""
   ]
  },
  {
   "cell_type": "code",
   "execution_count": 83,
   "metadata": {},
   "outputs": [
    {
     "data": {
      "text/plain": [
       "{'Mert': 'İstanbul'}"
      ]
     },
     "execution_count": 83,
     "metadata": {},
     "output_type": "execute_result"
    }
   ],
   "source": [
    "sozluk"
   ]
  },
  {
   "cell_type": "code",
   "execution_count": 84,
   "metadata": {},
   "outputs": [],
   "source": [
    "sozluk[\"Ahmet\"] = \"Bursa\""
   ]
  },
  {
   "cell_type": "code",
   "execution_count": 85,
   "metadata": {},
   "outputs": [],
   "source": [
    "sozluk[\"Seda\"] = \"İzmir\""
   ]
  },
  {
   "cell_type": "code",
   "execution_count": 86,
   "metadata": {},
   "outputs": [
    {
     "data": {
      "text/plain": [
       "{'Mert': 'İstanbul', 'Ahmet': 'Bursa', 'Seda': 'İzmir'}"
      ]
     },
     "execution_count": 86,
     "metadata": {},
     "output_type": "execute_result"
    }
   ],
   "source": [
    "sozluk"
   ]
  },
  {
   "cell_type": "markdown",
   "metadata": {},
   "source": [
    "## Sözlüklerde Key ve Value için Veri Tipleri"
   ]
  },
  {
   "cell_type": "code",
   "execution_count": 1,
   "metadata": {},
   "outputs": [
    {
     "data": {
      "text/plain": [
       "'\\nsözlükler deger olarak her türlü veri tipini kabul ediyor. Ama durum sözlük\\nanahtarları açısından böyle degildir. Yani sözlüklere anahtar olarak her veri tipini atayamayız\\nBir degerin ‘anahtar’ olabilmesi için, o ögenin degistirilemeyen (immutable) bir veri tipi\\nolması gerekir.\\n'"
      ]
     },
     "execution_count": 1,
     "metadata": {},
     "output_type": "execute_result"
    }
   ],
   "source": [
    "\"\"\"\n",
    "sözlükler deger olarak her türlü veri tipini kabul ediyor. Ama durum sözlük\n",
    "anahtarları açısından böyle degildir. Yani sözlüklere anahtar olarak her veri tipini atayamayız\n",
    "Bir degerin ‘anahtar’ olabilmesi için, o ögenin degistirilemeyen (immutable) bir veri tipi\n",
    "olması gerekir.\n",
    "\"\"\""
   ]
  },
  {
   "cell_type": "code",
   "execution_count": 3,
   "metadata": {},
   "outputs": [
    {
     "data": {
      "text/plain": [
       "\"\\nPython'da değiştirilemeyen veri tipleri:\\n1.) Demetler\\n2.) Sayılar\\n3.) Karakter Dizileri\\n\""
      ]
     },
     "execution_count": 3,
     "metadata": {},
     "output_type": "execute_result"
    }
   ],
   "source": [
    "\"\"\"\n",
    "Python'da değiştirilemeyen veri tipleri:\n",
    "1.) Demetler\n",
    "2.) Sayılar\n",
    "3.) Karakter Dizileri\n",
    "\"\"\""
   ]
  },
  {
   "cell_type": "code",
   "execution_count": 4,
   "metadata": {},
   "outputs": [
    {
     "data": {
      "text/plain": [
       "\"\\nPython'da değiştirilebilen veri tipleri:\\n1.) Listeler\\n2.) Sözlükler\\n\""
      ]
     },
     "execution_count": 4,
     "metadata": {},
     "output_type": "execute_result"
    }
   ],
   "source": [
    "\"\"\"\n",
    "Python'da değiştirilebilen veri tipleri:\n",
    "1.) Listeler\n",
    "2.) Sözlükler\n",
    "\"\"\""
   ]
  },
  {
   "cell_type": "code",
   "execution_count": 2,
   "metadata": {},
   "outputs": [
    {
     "data": {
      "text/plain": [
       "'\\nDolayısıyla bir Sözlükte key(anahtar) veri tipleri ancak:\\nDemetler\\nSayılar ve\\nKarakter Dizileri olabilir.\\n'"
      ]
     },
     "execution_count": 2,
     "metadata": {},
     "output_type": "execute_result"
    }
   ],
   "source": [
    "\"\"\"\n",
    "Dolayısıyla bir Sözlükte key(anahtar) veri tipleri ancak:\n",
    "Demetler\n",
    "Sayılar ve\n",
    "Karakter Dizileri olabilir.\n",
    "\"\"\""
   ]
  },
  {
   "cell_type": "code",
   "execution_count": 3,
   "metadata": {},
   "outputs": [],
   "source": [
    "sozluk = {}"
   ]
  },
  {
   "cell_type": "code",
   "execution_count": 4,
   "metadata": {},
   "outputs": [],
   "source": [
    "a = (1,2,3)\n",
    "sozluk[a] = \"ifade\""
   ]
  },
  {
   "cell_type": "code",
   "execution_count": 5,
   "metadata": {},
   "outputs": [
    {
     "data": {
      "text/plain": [
       "{(1, 2, 3): 'ifade'}"
      ]
     },
     "execution_count": 5,
     "metadata": {},
     "output_type": "execute_result"
    }
   ],
   "source": [
    "sozluk"
   ]
  },
  {
   "cell_type": "code",
   "execution_count": 6,
   "metadata": {},
   "outputs": [],
   "source": [
    "a = 45\n",
    "sozluk[a] = \"ifade2\""
   ]
  },
  {
   "cell_type": "code",
   "execution_count": 7,
   "metadata": {},
   "outputs": [
    {
     "data": {
      "text/plain": [
       "{(1, 2, 3): 'ifade', 45: 'ifade2'}"
      ]
     },
     "execution_count": 7,
     "metadata": {},
     "output_type": "execute_result"
    }
   ],
   "source": [
    "sozluk"
   ]
  },
  {
   "cell_type": "code",
   "execution_count": 8,
   "metadata": {},
   "outputs": [],
   "source": [
    "a = \"isim\"\n",
    "sozluk[a] = \"ifade3\""
   ]
  },
  {
   "cell_type": "code",
   "execution_count": 9,
   "metadata": {},
   "outputs": [
    {
     "data": {
      "text/plain": [
       "{(1, 2, 3): 'ifade', 45: 'ifade2', 'isim': 'ifade3'}"
      ]
     },
     "execution_count": 9,
     "metadata": {},
     "output_type": "execute_result"
    }
   ],
   "source": [
    "sozluk"
   ]
  },
  {
   "cell_type": "code",
   "execution_count": 10,
   "metadata": {},
   "outputs": [
    {
     "ename": "TypeError",
     "evalue": "unhashable type: 'list'",
     "output_type": "error",
     "traceback": [
      "\u001b[1;31m---------------------------------------------------------------------------\u001b[0m",
      "\u001b[1;31mTypeError\u001b[0m                                 Traceback (most recent call last)",
      "\u001b[1;32m<ipython-input-10-131c7276ef17>\u001b[0m in \u001b[0;36m<module>\u001b[1;34m\u001b[0m\n\u001b[0;32m      1\u001b[0m \u001b[0ma\u001b[0m \u001b[1;33m=\u001b[0m \u001b[1;33m[\u001b[0m\u001b[1;36m1\u001b[0m\u001b[1;33m,\u001b[0m\u001b[1;36m2\u001b[0m\u001b[1;33m,\u001b[0m\u001b[1;36m3\u001b[0m\u001b[1;33m]\u001b[0m\u001b[1;33m\u001b[0m\u001b[1;33m\u001b[0m\u001b[0m\n\u001b[1;32m----> 2\u001b[1;33m \u001b[0msozluk\u001b[0m\u001b[1;33m[\u001b[0m\u001b[0ma\u001b[0m\u001b[1;33m]\u001b[0m \u001b[1;33m=\u001b[0m \u001b[1;34m\"ifade4\"\u001b[0m\u001b[1;33m\u001b[0m\u001b[1;33m\u001b[0m\u001b[0m\n\u001b[0m",
      "\u001b[1;31mTypeError\u001b[0m: unhashable type: 'list'"
     ]
    }
   ],
   "source": [
    "a = [1,2,3]\n",
    "sozluk[a] = \"ifade4\""
   ]
  },
  {
   "cell_type": "code",
   "execution_count": 11,
   "metadata": {},
   "outputs": [
    {
     "data": {
      "text/plain": [
       "{(1, 2, 3): 'ifade', 45: 'ifade2', 'isim': 'ifade3'}"
      ]
     },
     "execution_count": 11,
     "metadata": {},
     "output_type": "execute_result"
    }
   ],
   "source": [
    "sozluk"
   ]
  },
  {
   "cell_type": "markdown",
   "metadata": {},
   "source": [
    "## Sözlük Ögeleri Üzerinde Degisiklik Yapmak"
   ]
  },
  {
   "cell_type": "code",
   "execution_count": 41,
   "metadata": {},
   "outputs": [],
   "source": [
    "# Sözlükler üzerinde degisiklik yapma islemi, biraz önce ögrendigimiz, sözlüklere yeni öge ekleme islemiyle aynıdır."
   ]
  },
  {
   "cell_type": "code",
   "execution_count": 42,
   "metadata": {},
   "outputs": [],
   "source": [
    "notlar = {\n",
    "    \"Seda\": 98,\n",
    "    \"Mustafa\" : 95,\n",
    "    \"Ege\"  : 77,\n",
    "    \"Zeynep\" : 100,\n",
    "    \"Ahmet\" : 45\n",
    "}"
   ]
  },
  {
   "cell_type": "code",
   "execution_count": 43,
   "metadata": {},
   "outputs": [
    {
     "data": {
      "text/plain": [
       "{'Seda': 98, 'Mustafa': 95, 'Ege': 77, 'Zeynep': 100, 'Ahmet': 45}"
      ]
     },
     "execution_count": 43,
     "metadata": {},
     "output_type": "execute_result"
    }
   ],
   "source": [
    "notlar"
   ]
  },
  {
   "cell_type": "code",
   "execution_count": 45,
   "metadata": {},
   "outputs": [],
   "source": [
    "# Ahmet'in notunu 45 yerine 65 olarak değiştirelim:\n",
    "notlar[\"Ahmet\"] = 65"
   ]
  },
  {
   "cell_type": "code",
   "execution_count": 46,
   "metadata": {},
   "outputs": [
    {
     "data": {
      "text/plain": [
       "{'Seda': 98, 'Mustafa': 95, 'Ege': 77, 'Zeynep': 100, 'Ahmet': 65}"
      ]
     },
     "execution_count": 46,
     "metadata": {},
     "output_type": "execute_result"
    }
   ],
   "source": [
    "notlar"
   ]
  },
  {
   "cell_type": "markdown",
   "metadata": {},
   "source": [
    "## Sözlük Üreteçleri (Dictionary Comprehensions)"
   ]
  },
  {
   "cell_type": "code",
   "execution_count": 47,
   "metadata": {},
   "outputs": [],
   "source": [
    "# Tıpkı liste üreteçlerinde oldugu gibi, sözlük üreteçleri sayesinde tek satırda ve hızlı bir sekilde sözlükler üretebiliriz"
   ]
  },
  {
   "cell_type": "code",
   "execution_count": 49,
   "metadata": {},
   "outputs": [],
   "source": [
    "harfler = \"abcdefghi\"\n",
    "#Amacımız bu har2erin her birine bir numara vermek"
   ]
  },
  {
   "cell_type": "code",
   "execution_count": 50,
   "metadata": {},
   "outputs": [],
   "source": [
    "sozluk = {}\n",
    "for i in harfler:\n",
    "    sozluk[i] = harfler.index(i)"
   ]
  },
  {
   "cell_type": "code",
   "execution_count": 51,
   "metadata": {},
   "outputs": [
    {
     "data": {
      "text/plain": [
       "{'a': 0, 'b': 1, 'c': 2, 'd': 3, 'e': 4, 'f': 5, 'g': 6, 'h': 7, 'i': 8}"
      ]
     },
     "execution_count": 51,
     "metadata": {},
     "output_type": "execute_result"
    }
   ],
   "source": [
    "sozluk"
   ]
  },
  {
   "cell_type": "code",
   "execution_count": 52,
   "metadata": {},
   "outputs": [],
   "source": [
    "sozluk = {}\n",
    "for i in harfler:\n",
    "    sozluk[i] = int(harfler.index(i)) + 1"
   ]
  },
  {
   "cell_type": "code",
   "execution_count": 53,
   "metadata": {},
   "outputs": [
    {
     "data": {
      "text/plain": [
       "{'a': 1, 'b': 2, 'c': 3, 'd': 4, 'e': 5, 'f': 6, 'g': 7, 'h': 8, 'i': 9}"
      ]
     },
     "execution_count": 53,
     "metadata": {},
     "output_type": "execute_result"
    }
   ],
   "source": [
    "sozluk"
   ]
  },
  {
   "cell_type": "code",
   "execution_count": 58,
   "metadata": {},
   "outputs": [],
   "source": [
    "# 2.yol olarak:\n",
    "sozluk2 = {}\n",
    "for i in range(len(harfler)):\n",
    "    sozluk2[harfler[i]] = i + 1"
   ]
  },
  {
   "cell_type": "code",
   "execution_count": 59,
   "metadata": {},
   "outputs": [
    {
     "data": {
      "text/plain": [
       "{'a': 1, 'b': 2, 'c': 3, 'd': 4, 'e': 5, 'f': 6, 'g': 7, 'h': 8, 'i': 9}"
      ]
     },
     "execution_count": 59,
     "metadata": {},
     "output_type": "execute_result"
    }
   ],
   "source": [
    "sozluk2"
   ]
  },
  {
   "cell_type": "code",
   "execution_count": 60,
   "metadata": {},
   "outputs": [],
   "source": [
    "# bu islemleri sözlük üreteçlerini kullanarak çok daha hızlı ve pratik bir sekilde halledebiliriz"
   ]
  },
  {
   "cell_type": "code",
   "execution_count": 65,
   "metadata": {},
   "outputs": [],
   "source": [
    "sozluk3 = {i: harfler.index(i) for i in harfler}"
   ]
  },
  {
   "cell_type": "code",
   "execution_count": 66,
   "metadata": {},
   "outputs": [
    {
     "data": {
      "text/plain": [
       "{'a': 0, 'b': 1, 'c': 2, 'd': 3, 'e': 4, 'f': 5, 'g': 6, 'h': 7, 'i': 8}"
      ]
     },
     "execution_count": 66,
     "metadata": {},
     "output_type": "execute_result"
    }
   ],
   "source": [
    "sozluk3"
   ]
  },
  {
   "cell_type": "code",
   "execution_count": 67,
   "metadata": {},
   "outputs": [],
   "source": [
    "sozluk4 = {i: (harfler.index(i))+1 for i in harfler}"
   ]
  },
  {
   "cell_type": "code",
   "execution_count": 68,
   "metadata": {},
   "outputs": [
    {
     "data": {
      "text/plain": [
       "{'a': 1, 'b': 2, 'c': 3, 'd': 4, 'e': 5, 'f': 6, 'g': 7, 'h': 8, 'i': 9}"
      ]
     },
     "execution_count": 68,
     "metadata": {},
     "output_type": "execute_result"
    }
   ],
   "source": [
    "sozluk4"
   ]
  },
  {
   "cell_type": "code",
   "execution_count": 69,
   "metadata": {},
   "outputs": [],
   "source": [
    "isimler = [\"ahmet\",\"mehmet\",\"fırat\",\"zeynep\",\"selma\",\"abdullah\",\"cem\"]"
   ]
  },
  {
   "cell_type": "code",
   "execution_count": 70,
   "metadata": {},
   "outputs": [],
   "source": [
    "# Amacımız herbir ismin kaç harften oluştuğunu bulmak"
   ]
  },
  {
   "cell_type": "code",
   "execution_count": 71,
   "metadata": {},
   "outputs": [],
   "source": [
    "sozluk = {i: len(i) for i in isimler}"
   ]
  },
  {
   "cell_type": "code",
   "execution_count": 72,
   "metadata": {},
   "outputs": [
    {
     "data": {
      "text/plain": [
       "{'ahmet': 5,\n",
       " 'mehmet': 6,\n",
       " 'fırat': 5,\n",
       " 'zeynep': 6,\n",
       " 'selma': 5,\n",
       " 'abdullah': 8,\n",
       " 'cem': 3}"
      ]
     },
     "execution_count": 72,
     "metadata": {},
     "output_type": "execute_result"
    }
   ],
   "source": [
    "sozluk"
   ]
  },
  {
   "cell_type": "markdown",
   "metadata": {},
   "source": [
    "## Sözlük Metotları"
   ]
  },
  {
   "cell_type": "markdown",
   "metadata": {},
   "source": [
    "## keys()"
   ]
  },
  {
   "cell_type": "code",
   "execution_count": 73,
   "metadata": {},
   "outputs": [],
   "source": [
    "# Sözlüğün anahtarlarını almak isterseniz:\n",
    "sozluk = {\n",
    "    \"a\": 1,\n",
    "    \"b\" : 2,\n",
    "    \"c\" : 3,\n",
    "    \"d\" : 4\n",
    "}"
   ]
  },
  {
   "cell_type": "code",
   "execution_count": 79,
   "metadata": {},
   "outputs": [],
   "source": [
    "anahtarlar = sozluk.keys()"
   ]
  },
  {
   "cell_type": "code",
   "execution_count": 80,
   "metadata": {},
   "outputs": [
    {
     "data": {
      "text/plain": [
       "dict_keys(['a', 'b', 'c', 'd'])"
      ]
     },
     "execution_count": 80,
     "metadata": {},
     "output_type": "execute_result"
    }
   ],
   "source": [
    "anahtarlar"
   ]
  },
  {
   "cell_type": "code",
   "execution_count": 81,
   "metadata": {},
   "outputs": [
    {
     "data": {
      "text/plain": [
       "['a', 'b', 'c', 'd']"
      ]
     },
     "execution_count": 81,
     "metadata": {},
     "output_type": "execute_result"
    }
   ],
   "source": [
    "list(anahtarlar)"
   ]
  },
  {
   "cell_type": "code",
   "execution_count": 82,
   "metadata": {},
   "outputs": [
    {
     "data": {
      "text/plain": [
       "('a', 'b', 'c', 'd')"
      ]
     },
     "execution_count": 82,
     "metadata": {},
     "output_type": "execute_result"
    }
   ],
   "source": [
    "tuple(anahtarlar)"
   ]
  },
  {
   "cell_type": "code",
   "execution_count": 83,
   "metadata": {},
   "outputs": [
    {
     "data": {
      "text/plain": [
       "'abcd'"
      ]
     },
     "execution_count": 83,
     "metadata": {},
     "output_type": "execute_result"
    }
   ],
   "source": [
    "# karakter dizisi:\n",
    "\"\".join(anahtarlar)"
   ]
  },
  {
   "cell_type": "code",
   "execution_count": 84,
   "metadata": {},
   "outputs": [
    {
     "data": {
      "text/plain": [
       "'\\nSon örnekte sözlük anahtarlarını karakter dizisine dönüstürmek için str() fonksiyonunu\\ndegil, karakter dizilerinin join() adlı metodunu kullandıgımıza dikkat edin. Çünkü tuple()\\nve list() fonksiyonlarının aksine str() fonksiyonu, sözlükteki anahtarların nasıl bir ölçüte\\ngöre karakter dizisine çevrilecegine dair bir kural içermez. Zira siz bu sözlük anahtarlarını\\npek çok farklı sekilde karakter dizisine çevirebilirsiniz. Örnegin ögeleri karakter dizisi içine\\nyerlestirirken ögelerin arasına virgül koymak isteyebilirsiniz\\n'"
      ]
     },
     "execution_count": 84,
     "metadata": {},
     "output_type": "execute_result"
    }
   ],
   "source": [
    "\"\"\"\n",
    "Son örnekte sözlük anahtarlarını karakter dizisine dönüstürmek için str() fonksiyonunu\n",
    "degil, karakter dizilerinin join() adlı metodunu kullandıgımıza dikkat edin. Çünkü tuple()\n",
    "ve list() fonksiyonlarının aksine str() fonksiyonu, sözlükteki anahtarların nasıl bir ölçüte\n",
    "göre karakter dizisine çevrilecegine dair bir kural içermez. Zira siz bu sözlük anahtarlarını\n",
    "pek çok farklı sekilde karakter dizisine çevirebilirsiniz. Örnegin ögeleri karakter dizisi içine\n",
    "yerlestirirken ögelerin arasına virgül koymak isteyebilirsiniz\n",
    "\"\"\""
   ]
  },
  {
   "cell_type": "code",
   "execution_count": 85,
   "metadata": {},
   "outputs": [
    {
     "data": {
      "text/plain": [
       "'a,b,c,d'"
      ]
     },
     "execution_count": 85,
     "metadata": {},
     "output_type": "execute_result"
    }
   ],
   "source": [
    "\",\".join(anahtarlar)"
   ]
  },
  {
   "cell_type": "markdown",
   "metadata": {},
   "source": [
    "## values()"
   ]
  },
  {
   "cell_type": "code",
   "execution_count": 86,
   "metadata": {},
   "outputs": [
    {
     "data": {
      "text/plain": [
       "{'a': 1, 'b': 2, 'c': 3, 'd': 4}"
      ]
     },
     "execution_count": 86,
     "metadata": {},
     "output_type": "execute_result"
    }
   ],
   "source": [
    "sozluk"
   ]
  },
  {
   "cell_type": "code",
   "execution_count": 88,
   "metadata": {},
   "outputs": [],
   "source": [
    "degerler = sozluk.values()"
   ]
  },
  {
   "cell_type": "code",
   "execution_count": 89,
   "metadata": {},
   "outputs": [
    {
     "data": {
      "text/plain": [
       "dict_values([1, 2, 3, 4])"
      ]
     },
     "execution_count": 89,
     "metadata": {},
     "output_type": "execute_result"
    }
   ],
   "source": [
    "degerler"
   ]
  },
  {
   "cell_type": "code",
   "execution_count": 90,
   "metadata": {},
   "outputs": [
    {
     "data": {
      "text/plain": [
       "[1, 2, 3, 4]"
      ]
     },
     "execution_count": 90,
     "metadata": {},
     "output_type": "execute_result"
    }
   ],
   "source": [
    "list(degerler)"
   ]
  },
  {
   "cell_type": "code",
   "execution_count": 91,
   "metadata": {},
   "outputs": [
    {
     "data": {
      "text/plain": [
       "(1, 2, 3, 4)"
      ]
     },
     "execution_count": 91,
     "metadata": {},
     "output_type": "execute_result"
    }
   ],
   "source": [
    "tuple(degerler)"
   ]
  },
  {
   "cell_type": "code",
   "execution_count": 94,
   "metadata": {},
   "outputs": [
    {
     "ename": "TypeError",
     "evalue": "sequence item 0: expected str instance, int found",
     "output_type": "error",
     "traceback": [
      "\u001b[1;31m---------------------------------------------------------------------------\u001b[0m",
      "\u001b[1;31mTypeError\u001b[0m                                 Traceback (most recent call last)",
      "\u001b[1;32m<ipython-input-94-1bdcc1eff0ec>\u001b[0m in \u001b[0;36m<module>\u001b[1;34m\u001b[0m\n\u001b[1;32m----> 1\u001b[1;33m \u001b[1;34m\"\"\u001b[0m\u001b[1;33m.\u001b[0m\u001b[0mjoin\u001b[0m\u001b[1;33m(\u001b[0m\u001b[0mdegerler\u001b[0m\u001b[1;33m)\u001b[0m\u001b[1;33m\u001b[0m\u001b[1;33m\u001b[0m\u001b[0m\n\u001b[0m\u001b[0;32m      2\u001b[0m \u001b[1;31m# degerler int olduğu için hata verecektir.\u001b[0m\u001b[1;33m\u001b[0m\u001b[1;33m\u001b[0m\u001b[1;33m\u001b[0m\u001b[0m\n",
      "\u001b[1;31mTypeError\u001b[0m: sequence item 0: expected str instance, int found"
     ]
    }
   ],
   "source": [
    "\"\".join(degerler)\n",
    "# degerler int olduğu için hata verecektir."
   ]
  },
  {
   "cell_type": "code",
   "execution_count": 95,
   "metadata": {},
   "outputs": [
    {
     "data": {
      "text/plain": [
       "'1234'"
      ]
     },
     "execution_count": 95,
     "metadata": {},
     "output_type": "execute_result"
    }
   ],
   "source": [
    "\"\".join([str(i) for i in degerler])"
   ]
  },
  {
   "cell_type": "code",
   "execution_count": 96,
   "metadata": {},
   "outputs": [
    {
     "data": {
      "text/plain": [
       "'1,2,3,4'"
      ]
     },
     "execution_count": 96,
     "metadata": {},
     "output_type": "execute_result"
    }
   ],
   "source": [
    "\",\".join([str(i) for i in degerler])"
   ]
  },
  {
   "cell_type": "markdown",
   "metadata": {},
   "source": [
    "## items()"
   ]
  },
  {
   "cell_type": "code",
   "execution_count": 97,
   "metadata": {},
   "outputs": [],
   "source": [
    "# bir sözlügün hem anahtarlarını hem de degerlerini aynı anda almamızı saglar"
   ]
  },
  {
   "cell_type": "code",
   "execution_count": 98,
   "metadata": {},
   "outputs": [
    {
     "data": {
      "text/plain": [
       "{'a': 1, 'b': 2, 'c': 3, 'd': 4}"
      ]
     },
     "execution_count": 98,
     "metadata": {},
     "output_type": "execute_result"
    }
   ],
   "source": [
    "sozluk"
   ]
  },
  {
   "cell_type": "code",
   "execution_count": 99,
   "metadata": {},
   "outputs": [
    {
     "data": {
      "text/plain": [
       "dict_items([('a', 1), ('b', 2), ('c', 3), ('d', 4)])"
      ]
     },
     "execution_count": 99,
     "metadata": {},
     "output_type": "execute_result"
    }
   ],
   "source": [
    "sozluk.items()"
   ]
  },
  {
   "cell_type": "code",
   "execution_count": 102,
   "metadata": {},
   "outputs": [
    {
     "name": "stdout",
     "output_type": "stream",
     "text": [
      "a = 1\n",
      "b = 2\n",
      "c = 3\n",
      "d = 4\n"
     ]
    }
   ],
   "source": [
    "for anahtar,deger in sozluk.items():\n",
    "    print(\"{} = {}\".format(anahtar,deger))\n",
    "# metot sıklıkla for döngüleri ile birlikte kullanılarak bir sözlügün anahtar ve degerlerinin manipüle edilebilmesini saglar"
   ]
  },
  {
   "cell_type": "markdown",
   "metadata": {},
   "source": [
    "## get()"
   ]
  },
  {
   "cell_type": "code",
   "execution_count": 106,
   "metadata": {},
   "outputs": [
    {
     "name": "stdout",
     "output_type": "stream",
     "text": [
      "Öğrenmek istediğiniz kelimeyi yazınız: dil\n",
      "language\n"
     ]
    }
   ],
   "source": [
    "ing_sozluk = {\"dil\": \"language\", \"bilgisayar\": \"computer\", \"masa\": \"table\"}\n",
    "\n",
    "sorgu = input(\"Öğrenmek istediğiniz kelimeyi yazınız: \")\n",
    "\n",
    "print(ing_sozluk[sorgu])"
   ]
  },
  {
   "cell_type": "code",
   "execution_count": 108,
   "metadata": {},
   "outputs": [
    {
     "name": "stdout",
     "output_type": "stream",
     "text": [
      "Öğrenmek istediğiniz kelimeyi yazınız: sandalye\n",
      "Bu kelime veritabanında yok!\n"
     ]
    }
   ],
   "source": [
    "ing_sozluk = {\"dil\": \"language\", \"bilgisayar\": \"computer\", \"masa\": \"table\"}\n",
    "\n",
    "sorgu = input(\"Öğrenmek istediğiniz kelimeyi yazınız: \")\n",
    "\n",
    "if sorgu in ing_sozluk:\n",
    "    print(ing_sozluk[sorgu])\n",
    "else:\n",
    "    print(\"Bu kelime veritabanında yok!\")"
   ]
  },
  {
   "cell_type": "code",
   "execution_count": 109,
   "metadata": {},
   "outputs": [],
   "source": [
    "# yukarıdaki metot yerine get() kullanılabilir."
   ]
  },
  {
   "cell_type": "code",
   "execution_count": 111,
   "metadata": {},
   "outputs": [
    {
     "name": "stdout",
     "output_type": "stream",
     "text": [
      "Öğrenmek istediğiniz kelimeyi yazınız: sandalye\n",
      "Bu kelime veritabanında yok!\n"
     ]
    }
   ],
   "source": [
    "ing_sozluk = {\"dil\": \"language\", \"bilgisayar\": \"computer\", \"masa\": \"table\"}\n",
    "\n",
    "sorgu = input(\"Öğrenmek istediğiniz kelimeyi yazınız: \")\n",
    "\n",
    "print(ing_sozluk.get(sorgu,\"Bu kelime veritabanında yok!\"))"
   ]
  },
  {
   "cell_type": "code",
   "execution_count": 112,
   "metadata": {},
   "outputs": [
    {
     "data": {
      "text/plain": [
       "'\\nözlüklerin get() adlı metodu, parantez içinde iki adet argüman alır. Birinci argüman\\nsorgulamak istedigimiz sözlük ögesidir. Ikinci argüman ise bu ögenin sözlükte bulunmadıgı\\ndurumda kullanıcıya hangi mesajın gösterilecegini belirtir. Buna göre, yukarıda yaptıgımız\\nsey, önce “sorgu” degiskenini sözlükte aramak, eger bu öge sözlükte bulunamıyorsa da\\nkullanıcıya, “Bu kelime veritabanımızda yoktur!” cümlesini göstermekten ibarettir\\n'"
      ]
     },
     "execution_count": 112,
     "metadata": {},
     "output_type": "execute_result"
    }
   ],
   "source": [
    "\"\"\"\n",
    "özlüklerin get() adlı metodu, parantez içinde iki adet argüman alır. Birinci argüman\n",
    "sorgulamak istedigimiz sözlük ögesidir. Ikinci argüman ise bu ögenin sözlükte bulunmadıgı\n",
    "durumda kullanıcıya hangi mesajın gösterilecegini belirtir. Buna göre, yukarıda yaptıgımız\n",
    "sey, önce “sorgu” degiskenini sözlükte aramak, eger bu öge sözlükte bulunamıyorsa da\n",
    "kullanıcıya, “Bu kelime veritabanımızda yoktur!” cümlesini göstermekten ibarettir\n",
    "\"\"\""
   ]
  },
  {
   "cell_type": "markdown",
   "metadata": {},
   "source": [
    "## clear()"
   ]
  },
  {
   "cell_type": "code",
   "execution_count": 113,
   "metadata": {},
   "outputs": [],
   "source": [
    "# sözlüğü temizlemek için kullanılır."
   ]
  },
  {
   "cell_type": "code",
   "execution_count": 114,
   "metadata": {},
   "outputs": [
    {
     "data": {
      "text/plain": [
       "{'a': 1, 'b': 2, 'c': 3, 'd': 4}"
      ]
     },
     "execution_count": 114,
     "metadata": {},
     "output_type": "execute_result"
    }
   ],
   "source": [
    "sozluk"
   ]
  },
  {
   "cell_type": "code",
   "execution_count": 115,
   "metadata": {},
   "outputs": [],
   "source": [
    "sozluk.clear()"
   ]
  },
  {
   "cell_type": "code",
   "execution_count": 116,
   "metadata": {},
   "outputs": [
    {
     "data": {
      "text/plain": [
       "{}"
      ]
     },
     "execution_count": 116,
     "metadata": {},
     "output_type": "execute_result"
    }
   ],
   "source": [
    "sozluk"
   ]
  },
  {
   "cell_type": "markdown",
   "metadata": {},
   "source": [
    "## copy()"
   ]
  },
  {
   "cell_type": "code",
   "execution_count": 117,
   "metadata": {},
   "outputs": [],
   "source": [
    "sozluk = {'a': 1, 'b': 2, 'c': 3, 'd': 4}"
   ]
  },
  {
   "cell_type": "code",
   "execution_count": 118,
   "metadata": {},
   "outputs": [
    {
     "data": {
      "text/plain": [
       "{'a': 1, 'b': 2, 'c': 3, 'd': 4}"
      ]
     },
     "execution_count": 118,
     "metadata": {},
     "output_type": "execute_result"
    }
   ],
   "source": [
    "sozluk"
   ]
  },
  {
   "cell_type": "code",
   "execution_count": 119,
   "metadata": {},
   "outputs": [],
   "source": [
    "sozluk2 = sozluk.copy()"
   ]
  },
  {
   "cell_type": "code",
   "execution_count": 120,
   "metadata": {},
   "outputs": [
    {
     "data": {
      "text/plain": [
       "{'a': 1, 'b': 2, 'c': 3, 'd': 4}"
      ]
     },
     "execution_count": 120,
     "metadata": {},
     "output_type": "execute_result"
    }
   ],
   "source": [
    "sozluk2"
   ]
  },
  {
   "cell_type": "code",
   "execution_count": 121,
   "metadata": {},
   "outputs": [
    {
     "data": {
      "text/plain": [
       "3163629480832"
      ]
     },
     "execution_count": 121,
     "metadata": {},
     "output_type": "execute_result"
    }
   ],
   "source": [
    "id(sozluk)"
   ]
  },
  {
   "cell_type": "code",
   "execution_count": 122,
   "metadata": {},
   "outputs": [
    {
     "data": {
      "text/plain": [
       "3163664977216"
      ]
     },
     "execution_count": 122,
     "metadata": {},
     "output_type": "execute_result"
    }
   ],
   "source": [
    "id(sozluk2)"
   ]
  },
  {
   "cell_type": "markdown",
   "metadata": {},
   "source": [
    "## fromkeys()"
   ]
  },
  {
   "cell_type": "code",
   "execution_count": 123,
   "metadata": {},
   "outputs": [
    {
     "data": {
      "text/plain": [
       "'\\nfromkeys() metodu öteki metotlardan biraz farklıdır. Bu metot mevcut sözlük üzerinde\\nislem yapmaz. fromkeys()‘in görevi yeni bir sözlük olusturmaktır'"
      ]
     },
     "execution_count": 123,
     "metadata": {},
     "output_type": "execute_result"
    }
   ],
   "source": [
    "\"\"\"\n",
    "fromkeys() metodu öteki metotlardan biraz farklıdır. Bu metot mevcut sözlük üzerinde\n",
    "islem yapmaz. fromkeys()‘in görevi yeni bir sözlük olusturmaktır\"\"\""
   ]
  },
  {
   "cell_type": "code",
   "execution_count": 131,
   "metadata": {},
   "outputs": [],
   "source": [
    "isimler = \"Mert\", \"Ali\", \"Zeynep\"\n",
    "adresler = dict.fromkeys(isimler,\"Kadıköy\")"
   ]
  },
  {
   "cell_type": "code",
   "execution_count": 132,
   "metadata": {},
   "outputs": [
    {
     "data": {
      "text/plain": [
       "{'Mert': 'Kadıköy', 'Ali': 'Kadıköy', 'Zeynep': 'Kadıköy'}"
      ]
     },
     "execution_count": 132,
     "metadata": {},
     "output_type": "execute_result"
    }
   ],
   "source": [
    "adresler"
   ]
  },
  {
   "cell_type": "code",
   "execution_count": 133,
   "metadata": {},
   "outputs": [],
   "source": [
    "isimler = \"Mert\", \"Ali\", \"Zeynep\"\n",
    "adresler = dict.fromkeys(isimler,[\"Kadıköy\",\"İstanbul\"])"
   ]
  },
  {
   "cell_type": "code",
   "execution_count": 134,
   "metadata": {
    "scrolled": true
   },
   "outputs": [
    {
     "data": {
      "text/plain": [
       "{'Mert': ['Kadıköy', 'İstanbul'],\n",
       " 'Ali': ['Kadıköy', 'İstanbul'],\n",
       " 'Zeynep': ['Kadıköy', 'İstanbul']}"
      ]
     },
     "execution_count": 134,
     "metadata": {},
     "output_type": "execute_result"
    }
   ],
   "source": [
    "adresler"
   ]
  },
  {
   "cell_type": "markdown",
   "metadata": {},
   "source": [
    "## pop()"
   ]
  },
  {
   "cell_type": "code",
   "execution_count": 135,
   "metadata": {},
   "outputs": [
    {
     "data": {
      "text/plain": [
       "'\\nlistede o sıra numarasına karsılık gelen öge siliniyor ve silinen bu öge ekrana\\nbasılıyordu. Bu metodun sözlüklerdeki kullanımı da az çok buna benzer. Ama burada farkı\\nolarak, pop metodunu argümansız bir sekilde kullanamıyoruz. Yani pop metodunun parantezi\\niçinde mutlaka bir sözlük ögesi belirtmeliyiz\\n'"
      ]
     },
     "execution_count": 135,
     "metadata": {},
     "output_type": "execute_result"
    }
   ],
   "source": [
    "\"\"\"\n",
    "listede o sıra numarasına karsılık gelen öge siliniyor ve silinen bu öge ekrana\n",
    "basılıyordu. Bu metodun sözlüklerdeki kullanımı da az çok buna benzer. Ama burada farkı\n",
    "olarak, pop metodunu argümansız bir sekilde kullanamıyoruz. Yani pop metodunun parantezi\n",
    "içinde mutlaka bir sözlük ögesi belirtmeliyiz\n",
    "\"\"\""
   ]
  },
  {
   "cell_type": "code",
   "execution_count": 136,
   "metadata": {},
   "outputs": [
    {
     "data": {
      "text/plain": [
       "{'a': 1, 'b': 2, 'c': 3, 'd': 4}"
      ]
     },
     "execution_count": 136,
     "metadata": {},
     "output_type": "execute_result"
    }
   ],
   "source": [
    "sozluk"
   ]
  },
  {
   "cell_type": "code",
   "execution_count": 137,
   "metadata": {},
   "outputs": [
    {
     "data": {
      "text/plain": [
       "1"
      ]
     },
     "execution_count": 137,
     "metadata": {},
     "output_type": "execute_result"
    }
   ],
   "source": [
    "sozluk.pop(\"a\")"
   ]
  },
  {
   "cell_type": "code",
   "execution_count": 138,
   "metadata": {},
   "outputs": [
    {
     "data": {
      "text/plain": [
       "{'b': 2, 'c': 3, 'd': 4}"
      ]
     },
     "execution_count": 138,
     "metadata": {},
     "output_type": "execute_result"
    }
   ],
   "source": [
    "sozluk"
   ]
  },
  {
   "cell_type": "code",
   "execution_count": null,
   "metadata": {},
   "outputs": [],
   "source": []
  }
 ],
 "metadata": {
  "kernelspec": {
   "display_name": "Python 3",
   "language": "python",
   "name": "python3"
  },
  "language_info": {
   "codemirror_mode": {
    "name": "ipython",
    "version": 3
   },
   "file_extension": ".py",
   "mimetype": "text/x-python",
   "name": "python",
   "nbconvert_exporter": "python",
   "pygments_lexer": "ipython3",
   "version": "3.8.5"
  }
 },
 "nbformat": 4,
 "nbformat_minor": 4
}
