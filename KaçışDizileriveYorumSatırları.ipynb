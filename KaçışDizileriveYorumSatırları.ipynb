{
 "cells": [
  {
   "cell_type": "code",
   "execution_count": 5,
   "metadata": {},
   "outputs": [
    {
     "data": {
      "text/plain": [
       "'tırnak isaretleri Python açısından özel anlam tasıyan isaretlerdir.\\nNormalde Python bu isaretleri karakter dizilerini tanımlamak için kullanır. Ama eger siz\\nmesela bir metin içinde bu tırnak isaretlerini farklı bir amaçla kullanacaksanız Python’ı bu\\ndurumdan haberdar etmeniz gerekiyor. Iste kaçıs dizileri, Python’ı böyle bir durumdan\\nhaberdar etmemize yarayan araçlardır.'"
      ]
     },
     "execution_count": 5,
     "metadata": {},
     "output_type": "execute_result"
    }
   ],
   "source": [
    "\"\"\"tırnak isaretleri Python açısından özel anlam tasıyan isaretlerdir.\n",
    "Normalde Python bu isaretleri karakter dizilerini tanımlamak için kullanır. Ama eger siz\n",
    "mesela bir metin içinde bu tırnak isaretlerini farklı bir amaçla kullanacaksanız Python’ı bu\n",
    "durumdan haberdar etmeniz gerekiyor. Iste kaçıs dizileri, Python’ı böyle bir durumdan\n",
    "haberdar etmemize yarayan araçlardır.\"\"\""
   ]
  },
  {
   "cell_type": "markdown",
   "metadata": {},
   "source": [
    "## Ters Taksim ( \\ )"
   ]
  },
  {
   "cell_type": "code",
   "execution_count": 6,
   "metadata": {},
   "outputs": [
    {
     "name": "stdout",
     "output_type": "stream",
     "text": [
      "Bursa'nın en güzel yerleri\n"
     ]
    }
   ],
   "source": [
    "print(\"Bursa'nın en güzel yerleri\")"
   ]
  },
  {
   "cell_type": "code",
   "execution_count": 8,
   "metadata": {},
   "outputs": [
    {
     "ename": "SyntaxError",
     "evalue": "invalid syntax (<ipython-input-8-efc726e0dacf>, line 1)",
     "output_type": "error",
     "traceback": [
      "\u001b[1;36m  File \u001b[1;32m\"<ipython-input-8-efc726e0dacf>\"\u001b[1;36m, line \u001b[1;32m1\u001b[0m\n\u001b[1;33m    print('Bursa'nın güzellikleri')\u001b[0m\n\u001b[1;37m                 ^\u001b[0m\n\u001b[1;31mSyntaxError\u001b[0m\u001b[1;31m:\u001b[0m invalid syntax\n"
     ]
    }
   ],
   "source": [
    "print('Bursa'nın güzellikleri')"
   ]
  },
  {
   "cell_type": "code",
   "execution_count": 9,
   "metadata": {},
   "outputs": [
    {
     "name": "stdout",
     "output_type": "stream",
     "text": [
      "Bursa'nın güzellikleri\n"
     ]
    }
   ],
   "source": [
    "print('Bursa\\'nın güzellikleri')"
   ]
  },
  {
   "cell_type": "code",
   "execution_count": 12,
   "metadata": {},
   "outputs": [
    {
     "name": "stdout",
     "output_type": "stream",
     "text": [
      "Python \"C\" dili kullanılarak yazılmıştır.\n"
     ]
    }
   ],
   "source": [
    "print(\"Python \\\"C\\\" dili kullanılarak yazılmıştır.\")"
   ]
  },
  {
   "cell_type": "code",
   "execution_count": 13,
   "metadata": {},
   "outputs": [
    {
     "data": {
      "text/plain": [
       "'örneklerde \\\\ isaretini kullandıgımızı görüyorsunuz. Iste bu tür isaretlere Python’da\\nkaçıs dizisi (escape sequence) adı verilir. Bu isaretler karakter dizilerini tanımlarken\\nolusabilecek hatalardan kaçmamızı saglar.'"
      ]
     },
     "execution_count": 13,
     "metadata": {},
     "output_type": "execute_result"
    }
   ],
   "source": [
    "\"\"\"örneklerde \\ isaretini kullandıgımızı görüyorsunuz. Iste bu tür isaretlere Python’da\n",
    "kaçıs dizisi (escape sequence) adı verilir. Bu isaretler karakter dizilerini tanımlarken\n",
    "olusabilecek hatalardan kaçmamızı saglar.\"\"\""
   ]
  },
  {
   "cell_type": "markdown",
   "metadata": {},
   "source": [
    "## Satır Bası ( \\n )"
   ]
  },
  {
   "cell_type": "code",
   "execution_count": 14,
   "metadata": {},
   "outputs": [],
   "source": [
    "# Alt satıra geçilmesini sağlıyor."
   ]
  },
  {
   "cell_type": "code",
   "execution_count": 18,
   "metadata": {},
   "outputs": [
    {
     "name": "stdout",
     "output_type": "stream",
     "text": [
      "Python ile Programlama Eğitimi\n",
      "------------------------------\n"
     ]
    }
   ],
   "source": [
    "baslik = \"Python ile Programlama Eğitimi\"\n",
    "print(baslik, \"\\n\", \"-\"*len(baslik),sep=\"\")\n",
    "# sep eklemezsen alt satıra indikten sonra bir boşluk bırakır."
   ]
  },
  {
   "cell_type": "markdown",
   "metadata": {},
   "source": [
    "## Sekme ( \\t )"
   ]
  },
  {
   "cell_type": "code",
   "execution_count": 19,
   "metadata": {},
   "outputs": [],
   "source": [
    "# Bir Tab(sekme) kadar boşluk bırakılmasını sağlar."
   ]
  },
  {
   "cell_type": "code",
   "execution_count": 21,
   "metadata": {},
   "outputs": [
    {
     "name": "stdout",
     "output_type": "stream",
     "text": [
      "1\t2\t3\n"
     ]
    }
   ],
   "source": [
    "print(\"1\",\"2\",\"3\",sep=\"\\t\")"
   ]
  },
  {
   "cell_type": "markdown",
   "metadata": {},
   "source": [
    "## Dosya işlemlerinde dikkat edilmesi gerekmektedir."
   ]
  },
  {
   "cell_type": "code",
   "execution_count": 32,
   "metadata": {},
   "outputs": [
    {
     "ename": "OSError",
     "evalue": "[Errno 22] Invalid argument: 'C:\\nisanAyi\\x08ilgiler.txt'",
     "output_type": "error",
     "traceback": [
      "\u001b[1;31m---------------------------------------------------------------------------\u001b[0m",
      "\u001b[1;31mOSError\u001b[0m                                   Traceback (most recent call last)",
      "\u001b[1;32m<ipython-input-32-db66dff2f273>\u001b[0m in \u001b[0;36m<module>\u001b[1;34m\u001b[0m\n\u001b[1;32m----> 1\u001b[1;33m \u001b[0mopen\u001b[0m\u001b[1;33m(\u001b[0m\u001b[1;34m\"C:\\nisanAyi\\bilgiler.txt\"\u001b[0m\u001b[1;33m)\u001b[0m\u001b[1;33m\u001b[0m\u001b[1;33m\u001b[0m\u001b[0m\n\u001b[0m",
      "\u001b[1;31mOSError\u001b[0m: [Errno 22] Invalid argument: 'C:\\nisanAyi\\x08ilgiler.txt'"
     ]
    }
   ],
   "source": [
    "open(\"C:\\nisanAyi\\bilgiler.txt\")"
   ]
  },
  {
   "cell_type": "code",
   "execution_count": 33,
   "metadata": {},
   "outputs": [],
   "source": [
    "# bu hatanın çıkma sebebi C: dan sonra \\n ifadesinin gelmesidir."
   ]
  },
  {
   "cell_type": "code",
   "execution_count": 34,
   "metadata": {
    "scrolled": true
   },
   "outputs": [
    {
     "ename": "OSError",
     "evalue": "[Errno 22] Invalid argument: 'C:\\\\nisanAyi\\x08ilgiler.txt'",
     "output_type": "error",
     "traceback": [
      "\u001b[1;31m---------------------------------------------------------------------------\u001b[0m",
      "\u001b[1;31mOSError\u001b[0m                                   Traceback (most recent call last)",
      "\u001b[1;32m<ipython-input-34-bccf4bf4ab20>\u001b[0m in \u001b[0;36m<module>\u001b[1;34m\u001b[0m\n\u001b[1;32m----> 1\u001b[1;33m \u001b[0mopen\u001b[0m\u001b[1;33m(\u001b[0m\u001b[1;34m\"C:\\\\nisanAyi\\bilgiler.txt\"\u001b[0m\u001b[1;33m)\u001b[0m  \u001b[1;31m# dosya olmadığı için yine hata verecektir.\u001b[0m\u001b[1;33m\u001b[0m\u001b[1;33m\u001b[0m\u001b[0m\n\u001b[0m",
      "\u001b[1;31mOSError\u001b[0m: [Errno 22] Invalid argument: 'C:\\\\nisanAyi\\x08ilgiler.txt'"
     ]
    }
   ],
   "source": [
    "open(\"C:\\\\nisanAyi\\bilgiler.txt\")  # dosya olmadığı için yine hata verecektir."
   ]
  },
  {
   "cell_type": "code",
   "execution_count": 35,
   "metadata": {},
   "outputs": [],
   "source": [
    "# Bunlar gibi birçok kaçış dizisi ifadesi var. İhtiyaca göre araştırılarak kullanılabilir."
   ]
  },
  {
   "cell_type": "markdown",
   "metadata": {},
   "source": [
    "## Yorum Satırları"
   ]
  },
  {
   "cell_type": "code",
   "execution_count": 36,
   "metadata": {},
   "outputs": [],
   "source": [
    "# kodları açıklamak, bu kodları hem kendimiz hem de kodları okuyan baskaları için daha anlasılır hale getirmek için kullanılır."
   ]
  },
  {
   "cell_type": "code",
   "execution_count": 37,
   "metadata": {},
   "outputs": [],
   "source": [
    "# Yorum satırına yazdığımız şeyler birnevi etkisizleştirmektir."
   ]
  },
  {
   "cell_type": "code",
   "execution_count": 38,
   "metadata": {},
   "outputs": [],
   "source": [
    "# Süsleme amaçlı da kullanılabilir."
   ]
  },
  {
   "cell_type": "code",
   "execution_count": 41,
   "metadata": {},
   "outputs": [],
   "source": [
    "#####################################################\n",
    "#\"\"\"\"\"\"\"\"\"\"\"\"\"\"\"\"\"\"\"\"\"\"\"\"\"\"\"\"\"\"\"\"\"\"\"\"\"\"\"\"\"\"\"\"\"\"\"\"\"\"\"#\n",
    "#              Sürüm v.1                            #\n",
    "#              Lisans: GGG                          #\n",
    "####################################################"
   ]
  },
  {
   "cell_type": "code",
   "execution_count": 40,
   "metadata": {},
   "outputs": [
    {
     "data": {
      "text/plain": [
       "'\\nBu araya yazdıklarımız yorum satırı olarak ele alınır.\\nÇoklu satırlı yorumlarda kullanılabilir.\\n\\n'"
      ]
     },
     "execution_count": 40,
     "metadata": {},
     "output_type": "execute_result"
    }
   ],
   "source": [
    "\"\"\"\n",
    "Bu araya yazdıklarımız yorum satırı olarak ele alınır.\n",
    "Çoklu satırlı yorumlarda kullanılabilir.\n",
    "\n",
    "\"\"\""
   ]
  },
  {
   "cell_type": "code",
   "execution_count": null,
   "metadata": {},
   "outputs": [],
   "source": []
  }
 ],
 "metadata": {
  "kernelspec": {
   "display_name": "Python 3",
   "language": "python",
   "name": "python3"
  },
  "language_info": {
   "codemirror_mode": {
    "name": "ipython",
    "version": 3
   },
   "file_extension": ".py",
   "mimetype": "text/x-python",
   "name": "python",
   "nbconvert_exporter": "python",
   "pygments_lexer": "ipython3",
   "version": "3.8.5"
  }
 },
 "nbformat": 4,
 "nbformat_minor": 4
}
