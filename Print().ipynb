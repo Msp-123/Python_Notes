{
 "cells": [
  {
   "cell_type": "code",
   "execution_count": 1,
   "metadata": {},
   "outputs": [],
   "source": [
    "#print() fonksiyonunun görevi ekrana çıktı vermemizi saglamaktır"
   ]
  },
  {
   "cell_type": "code",
   "execution_count": 3,
   "metadata": {},
   "outputs": [
    {
     "name": "stdout",
     "output_type": "stream",
     "text": [
      "Python bir programlama dilidir.\n",
      "Print bir fonksiyondur.\n"
     ]
    }
   ],
   "source": [
    "#Nasıl Kullanılır?\n",
    "\n",
    "print(\"Python bir programlama dilidir.\")\n",
    "cümle = \"Print bir fonksiyondur.\"\n",
    "print(cümle)"
   ]
  },
  {
   "cell_type": "code",
   "execution_count": 4,
   "metadata": {},
   "outputs": [
    {
     "data": {
      "text/plain": [
       "' Python bize üç farklı tırnak seçenegi sunar:\\n1. Tek tırnak (‘ ‘)\\n2. Çift tırnak (” ”)\\n3. Üç tırnak (“”” “””)'"
      ]
     },
     "execution_count": 4,
     "metadata": {},
     "output_type": "execute_result"
    }
   ],
   "source": [
    "\"\"\" Python bize üç farklı tırnak seçenegi sunar:\n",
    "1. Tek tırnak (‘ ‘)\n",
    "2. Çift tırnak (” ”)\n",
    "3. Üç tırnak (“”” “””)  \"\"\""
   ]
  },
  {
   "cell_type": "code",
   "execution_count": 5,
   "metadata": {},
   "outputs": [
    {
     "name": "stdout",
     "output_type": "stream",
     "text": [
      "Python programlama dili\n",
      "Python programlama dili\n",
      "Python programlama dili\n"
     ]
    }
   ],
   "source": [
    "print('Python programlama dili')\n",
    "print(\"Python programlama dili\")\n",
    "print(\"\"\"Python programlama dili\"\"\")"
   ]
  },
  {
   "cell_type": "code",
   "execution_count": 6,
   "metadata": {},
   "outputs": [],
   "source": [
    "#Peki çıktılarda hiçbir fark yoksa neden üç farklı tırnak çesidi var?"
   ]
  },
  {
   "cell_type": "code",
   "execution_count": 7,
   "metadata": {},
   "outputs": [
    {
     "ename": "SyntaxError",
     "evalue": "invalid syntax (<ipython-input-7-9db8c093dd6e>, line 1)",
     "output_type": "error",
     "traceback": [
      "\u001b[1;36m  File \u001b[1;32m\"<ipython-input-7-9db8c093dd6e>\"\u001b[1;36m, line \u001b[1;32m1\u001b[0m\n\u001b[1;33m    print(\"Python \"C\" dili kullanılarak yazılmış bir dildir.\")\u001b[0m\n\u001b[1;37m                   ^\u001b[0m\n\u001b[1;31mSyntaxError\u001b[0m\u001b[1;31m:\u001b[0m invalid syntax\n"
     ]
    }
   ],
   "source": [
    "print(\"Python \"C\" dili kullanılarak yazılmış bir dildir.\")"
   ]
  },
  {
   "cell_type": "code",
   "execution_count": 10,
   "metadata": {},
   "outputs": [
    {
     "name": "stdout",
     "output_type": "stream",
     "text": [
      "Python \"C\" dili kullanılarak yazılmış bir dildir.\n"
     ]
    }
   ],
   "source": [
    "print('Python \"C\" dili kullanılarak yazılmış bir dildir.')"
   ]
  },
  {
   "cell_type": "code",
   "execution_count": 11,
   "metadata": {},
   "outputs": [
    {
     "name": "stdout",
     "output_type": "stream",
     "text": [
      "Tofas'ın 10 yıllık mali planları\n"
     ]
    }
   ],
   "source": [
    "print(\"Tofas'ın 10 yıllık mali planları\")"
   ]
  },
  {
   "cell_type": "code",
   "execution_count": 12,
   "metadata": {},
   "outputs": [
    {
     "name": "stdout",
     "output_type": "stream",
     "text": [
      "Python programlama dilinin adı \"piton\" yılanından gelmez\n"
     ]
    }
   ],
   "source": [
    "print(\"\"\"Python programlama dilinin adı \"piton\" yılanından gelmez\"\"\")"
   ]
  },
  {
   "cell_type": "code",
   "execution_count": 13,
   "metadata": {},
   "outputs": [
    {
     "data": {
      "text/plain": [
       "'pek çok karakter dizisi için üç tırnak isaretini kullanabilirsiniz.\\nAncak Python’da karakter dizileri tanımlanırken genellikle tek tırnak veya çift tırnak isaretleri\\nkullanılır. Üç tırnak isaretlerinin asıl kullanım yeri ise farklıdır. '"
      ]
     },
     "execution_count": 13,
     "metadata": {},
     "output_type": "execute_result"
    }
   ],
   "source": [
    "\"\"\"pek çok karakter dizisi için üç tırnak isaretini kullanabilirsiniz.\n",
    "Ancak Python’da karakter dizileri tanımlanırken genellikle tek tırnak veya çift tırnak isaretleri\n",
    "kullanılır. Üç tırnak isaretlerinin asıl kullanım yeri ise farklıdır. \n",
    "Birden fazla satıra yayılmış karakter dizileri için kullanılır.\"\"\""
   ]
  },
  {
   "cell_type": "code",
   "execution_count": 14,
   "metadata": {
    "scrolled": true
   },
   "outputs": [
    {
     "ename": "NameError",
     "evalue": "name 'python' is not defined",
     "output_type": "error",
     "traceback": [
      "\u001b[1;31m---------------------------------------------------------------------------\u001b[0m",
      "\u001b[1;31mNameError\u001b[0m                                 Traceback (most recent call last)",
      "\u001b[1;32m<ipython-input-14-32886514c262>\u001b[0m in \u001b[0;36m<module>\u001b[1;34m\u001b[0m\n\u001b[1;32m----> 1\u001b[1;33m \u001b[0mpython\u001b[0m\u001b[1;33m\u001b[0m\u001b[1;33m\u001b[0m\u001b[0m\n\u001b[0m",
      "\u001b[1;31mNameError\u001b[0m: name 'python' is not defined"
     ]
    }
   ],
   "source": [
    "python"
   ]
  },
  {
   "cell_type": "code",
   "execution_count": 18,
   "metadata": {},
   "outputs": [
    {
     "data": {
      "text/plain": [
       "'python'"
      ]
     },
     "execution_count": 18,
     "metadata": {},
     "output_type": "execute_result"
    }
   ],
   "source": [
    "\"\"\"python\"\"\""
   ]
  },
  {
   "cell_type": "code",
   "execution_count": 28,
   "metadata": {},
   "outputs": [
    {
     "name": "stdout",
     "output_type": "stream",
     "text": [
      "Mert Sukru Pehlivan\n"
     ]
    }
   ],
   "source": [
    "print(\"Mert\",\"Sukru\",\"Pehlivan\")"
   ]
  },
  {
   "cell_type": "code",
   "execution_count": 33,
   "metadata": {},
   "outputs": [
    {
     "name": "stdout",
     "output_type": "stream",
     "text": [
      "Mert 24 16.4\n"
     ]
    }
   ],
   "source": [
    "print(\"Mert\",24, 16.4)"
   ]
  },
  {
   "cell_type": "code",
   "execution_count": 20,
   "metadata": {},
   "outputs": [
    {
     "name": "stdout",
     "output_type": "stream",
     "text": [
      "Ben 24 yaşındayım.\n"
     ]
    }
   ],
   "source": [
    "sayi = \"24\"\n",
    "print(\"Ben \" + sayi + \" yaşındayım.\")"
   ]
  },
  {
   "cell_type": "markdown",
   "metadata": {},
   "source": [
    "## len()"
   ]
  },
  {
   "cell_type": "code",
   "execution_count": 21,
   "metadata": {},
   "outputs": [
    {
     "name": "stdout",
     "output_type": "stream",
     "text": [
      "Python\n"
     ]
    }
   ],
   "source": [
    "print(\"Python\")"
   ]
  },
  {
   "cell_type": "code",
   "execution_count": 24,
   "metadata": {},
   "outputs": [
    {
     "data": {
      "text/plain": [
       "6"
      ]
     },
     "execution_count": 24,
     "metadata": {},
     "output_type": "execute_result"
    }
   ],
   "source": [
    "len(\"Python\")\n",
    "#len() bir fonksiyon, “Python” adlı karakter dizisi ise bu fonksiyonun parametresidir."
   ]
  },
  {
   "cell_type": "code",
   "execution_count": 25,
   "metadata": {},
   "outputs": [
    {
     "data": {
      "text/plain": [
       "11"
      ]
     },
     "execution_count": 25,
     "metadata": {},
     "output_type": "execute_result"
    }
   ],
   "source": [
    "len(\"Python dili\")"
   ]
  },
  {
   "cell_type": "code",
   "execution_count": 26,
   "metadata": {},
   "outputs": [
    {
     "data": {
      "text/plain": [
       "0"
      ]
     },
     "execution_count": 26,
     "metadata": {},
     "output_type": "execute_result"
    }
   ],
   "source": [
    "len(\"\")"
   ]
  },
  {
   "cell_type": "code",
   "execution_count": 27,
   "metadata": {},
   "outputs": [
    {
     "data": {
      "text/plain": [
       "1"
      ]
     },
     "execution_count": 27,
     "metadata": {},
     "output_type": "execute_result"
    }
   ],
   "source": [
    "len(\" \")"
   ]
  },
  {
   "cell_type": "markdown",
   "metadata": {},
   "source": [
    "## print() Fonksiyonunun Parametreleri\n"
   ]
  },
  {
   "cell_type": "markdown",
   "metadata": {},
   "source": [
    "## sep()"
   ]
  },
  {
   "cell_type": "code",
   "execution_count": 37,
   "metadata": {},
   "outputs": [
    {
     "name": "stdout",
     "output_type": "stream",
     "text": [
      "Mert 24\n"
     ]
    },
    {
     "data": {
      "text/plain": [
       "'Burada print() fonksiyonunu iki farklı parametre ile birlikte kullandık. Bu fonksiyon,\\nkendisine verdigimiz bu parametreleri belli bir düzene göre birbiriyle birlestirdi. Bu düzen\\ngeregince print(), kendisine verilen parametreleri birlestirirken, parametreler arasına bir\\nbosluk yerlestiriyor.'"
      ]
     },
     "execution_count": 37,
     "metadata": {},
     "output_type": "execute_result"
    }
   ],
   "source": [
    "print(\"Mert\",24)\n",
    "\n",
    "\n",
    "\"\"\"Burada print() fonksiyonunu iki farklı parametre ile birlikte kullandık. Bu fonksiyon,\n",
    "kendisine verdigimiz bu parametreleri belli bir düzene göre birbiriyle birlestirdi. Bu düzen\n",
    "geregince print(), kendisine verilen parametreleri birlestirirken, parametreler arasına bir\n",
    "bosluk yerlestiriyor.\"\"\""
   ]
  },
  {
   "cell_type": "code",
   "execution_count": 38,
   "metadata": {},
   "outputs": [
    {
     "name": "stdout",
     "output_type": "stream",
     "text": [
      "Python PHP C++ C\n"
     ]
    }
   ],
   "source": [
    "print(\"Python\", \"PHP\", \"C++\", \"C\")"
   ]
  },
  {
   "cell_type": "code",
   "execution_count": 40,
   "metadata": {},
   "outputs": [
    {
     "name": "stdout",
     "output_type": "stream",
     "text": [
      "PythonPHPC++C\n"
     ]
    }
   ],
   "source": [
    "print(\"Python\", \"PHP\", \"C++\", \"C\",sep=\"\")"
   ]
  },
  {
   "cell_type": "code",
   "execution_count": 41,
   "metadata": {},
   "outputs": [
    {
     "name": "stdout",
     "output_type": "stream",
     "text": [
      "Python,PHP,C++,C\n"
     ]
    }
   ],
   "source": [
    "print(\"Python\", \"PHP\", \"C++\", \"C\",sep=\",\")"
   ]
  },
  {
   "cell_type": "code",
   "execution_count": 42,
   "metadata": {},
   "outputs": [
    {
     "name": "stdout",
     "output_type": "stream",
     "text": [
      "Python/PHP/C++/C\n"
     ]
    }
   ],
   "source": [
    "print(\"Python\", \"PHP\", \"C++\", \"C\",sep=\"/\")"
   ]
  },
  {
   "cell_type": "code",
   "execution_count": 45,
   "metadata": {},
   "outputs": [
    {
     "name": "stdout",
     "output_type": "stream",
     "text": [
      "Python\n",
      "PHP\n",
      "C++\n",
      "C\n"
     ]
    }
   ],
   "source": [
    "print(\"Python\", \"PHP\", \"C++\", \"C\",sep=\"\\n\")"
   ]
  },
  {
   "cell_type": "code",
   "execution_count": 49,
   "metadata": {},
   "outputs": [
    {
     "name": "stdout",
     "output_type": "stream",
     "text": [
      "Python dili, PHP dili, C++ dili, C\n"
     ]
    }
   ],
   "source": [
    "print(\"Python\", \"PHP\", \"C++\", \"C\",sep=\" dili, \")"
   ]
  },
  {
   "cell_type": "code",
   "execution_count": 54,
   "metadata": {},
   "outputs": [
    {
     "name": "stdout",
     "output_type": "stream",
     "text": [
      "Python PHP C++ C\n"
     ]
    }
   ],
   "source": [
    "print(\"Python\", \"PHP\", \"C++\", \"C\",sep=None) # default değeri kullandı yani bir boşluk"
   ]
  },
  {
   "cell_type": "markdown",
   "metadata": {},
   "source": [
    "## end()"
   ]
  },
  {
   "cell_type": "code",
   "execution_count": 55,
   "metadata": {},
   "outputs": [
    {
     "name": "stdout",
     "output_type": "stream",
     "text": [
      "Python dili, PHP dili, C++ dili, C dili"
     ]
    }
   ],
   "source": [
    "print(\"Python\", \"PHP\", \"C++\", \"C\",sep=\" dili, \",end=\" dili\")"
   ]
  },
  {
   "cell_type": "code",
   "execution_count": 56,
   "metadata": {},
   "outputs": [
    {
     "name": "stdout",
     "output_type": "stream",
     "text": [
      "Python,PHP,C++,C programlama dilleridir."
     ]
    }
   ],
   "source": [
    "print(\"Python\", \"PHP\", \"C++\", \"C\",sep=\",\",end=\" programlama dilleridir.\")"
   ]
  },
  {
   "cell_type": "code",
   "execution_count": 1,
   "metadata": {},
   "outputs": [],
   "source": [
    "# Yine tıpkı sep parametresi gibi, end parametresinin degeri de sadece bir karakter dizisi veya None olabilir"
   ]
  },
  {
   "cell_type": "code",
   "execution_count": 2,
   "metadata": {},
   "outputs": [],
   "source": [
    "# end parametresini default olarak bırakırsak, print ten sonra alt satıra geçer."
   ]
  },
  {
   "cell_type": "code",
   "execution_count": 6,
   "metadata": {},
   "outputs": [
    {
     "name": "stdout",
     "output_type": "stream",
     "text": [
      "Mert\n",
      "Mert\n"
     ]
    }
   ],
   "source": [
    "print(\"Mert\",end=None)\n",
    "print(\"Mert\")"
   ]
  },
  {
   "cell_type": "markdown",
   "metadata": {},
   "source": [
    "## Yıldızlı Parametreler"
   ]
  },
  {
   "cell_type": "code",
   "execution_count": null,
   "metadata": {},
   "outputs": [],
   "source": [
    "# karakter dizisinin her bir ögesini parçalarına ayırarak, bunları tek tek print() fonksiyonuna yolluyor"
   ]
  },
  {
   "cell_type": "code",
   "execution_count": 7,
   "metadata": {},
   "outputs": [],
   "source": [
    "# L.i.n.u.x ifadesini nasıl elde edebiliriz"
   ]
  },
  {
   "cell_type": "code",
   "execution_count": 9,
   "metadata": {},
   "outputs": [
    {
     "name": "stdout",
     "output_type": "stream",
     "text": [
      "L,i,n,u,x\n"
     ]
    }
   ],
   "source": [
    "print(\"L\",\"i\",\"n\",\"u\",\"x\", sep=\",\")"
   ]
  },
  {
   "cell_type": "code",
   "execution_count": 10,
   "metadata": {},
   "outputs": [
    {
     "name": "stdout",
     "output_type": "stream",
     "text": [
      "L,i,n,u,x\n"
     ]
    }
   ],
   "source": [
    "print(*\"Linux\",sep=\",\")"
   ]
  },
  {
   "cell_type": "code",
   "execution_count": 12,
   "metadata": {},
   "outputs": [
    {
     "ename": "TypeError",
     "evalue": "len() takes exactly one argument (3 given)",
     "output_type": "error",
     "traceback": [
      "\u001b[1;31m---------------------------------------------------------------------------\u001b[0m",
      "\u001b[1;31mTypeError\u001b[0m                                 Traceback (most recent call last)",
      "\u001b[1;32m<ipython-input-12-6969bf1a510c>\u001b[0m in \u001b[0;36m<module>\u001b[1;34m\u001b[0m\n\u001b[0;32m      1\u001b[0m \u001b[1;31m# len() fonksiyonuna tek parametre verebiliriz.\u001b[0m\u001b[1;33m\u001b[0m\u001b[1;33m\u001b[0m\u001b[1;33m\u001b[0m\u001b[0m\n\u001b[1;32m----> 2\u001b[1;33m \u001b[0mlen\u001b[0m\u001b[1;33m(\u001b[0m\u001b[1;34m\"Mert\"\u001b[0m\u001b[1;33m,\u001b[0m\u001b[1;34m\"Sukru\"\u001b[0m\u001b[1;33m,\u001b[0m\u001b[1;34m\"Pehlivan\"\u001b[0m\u001b[1;33m)\u001b[0m\u001b[1;33m\u001b[0m\u001b[1;33m\u001b[0m\u001b[0m\n\u001b[0m",
      "\u001b[1;31mTypeError\u001b[0m: len() takes exactly one argument (3 given)"
     ]
    }
   ],
   "source": [
    "# len() fonksiyonuna tek parametre verebiliriz.\n",
    "len(\"Mert\",\"Sukru\",\"Pehlivan\")"
   ]
  },
  {
   "cell_type": "code",
   "execution_count": 14,
   "metadata": {},
   "outputs": [
    {
     "ename": "TypeError",
     "evalue": "len() takes exactly one argument (4 given)",
     "output_type": "error",
     "traceback": [
      "\u001b[1;31m---------------------------------------------------------------------------\u001b[0m",
      "\u001b[1;31mTypeError\u001b[0m                                 Traceback (most recent call last)",
      "\u001b[1;32m<ipython-input-14-a8e9a2774f02>\u001b[0m in \u001b[0;36m<module>\u001b[1;34m\u001b[0m\n\u001b[1;32m----> 1\u001b[1;33m \u001b[0mlen\u001b[0m\u001b[1;33m(\u001b[0m\u001b[1;33m*\u001b[0m\u001b[1;34m\"Mert\"\u001b[0m\u001b[1;33m)\u001b[0m\u001b[1;33m\u001b[0m\u001b[1;33m\u001b[0m\u001b[0m\n\u001b[0m",
      "\u001b[1;31mTypeError\u001b[0m: len() takes exactly one argument (4 given)"
     ]
    }
   ],
   "source": [
    "len(*\"Mert\")"
   ]
  },
  {
   "cell_type": "code",
   "execution_count": 15,
   "metadata": {},
   "outputs": [
    {
     "name": "stdout",
     "output_type": "stream",
     "text": [
      "T.B.M.M\n"
     ]
    }
   ],
   "source": [
    "print(*\"TBMM\",sep=\".\")"
   ]
  },
  {
   "cell_type": "code",
   "execution_count": 16,
   "metadata": {},
   "outputs": [
    {
     "name": "stdout",
     "output_type": "stream",
     "text": [
      "1\n",
      "2\n",
      "3\n",
      "4\n",
      "5\n",
      "6\n",
      "7\n",
      "8\n",
      "9\n"
     ]
    }
   ],
   "source": [
    "print(*\"123456789\",sep=\"\\n\")"
   ]
  },
  {
   "cell_type": "code",
   "execution_count": 17,
   "metadata": {},
   "outputs": [
    {
     "name": "stdout",
     "output_type": "stream",
     "text": [
      "T.B.M.M\n"
     ]
    }
   ],
   "source": [
    "ad = \"TBMM\"\n",
    "print(*ad,sep=\".\")"
   ]
  },
  {
   "cell_type": "code",
   "execution_count": null,
   "metadata": {},
   "outputs": [],
   "source": []
  },
  {
   "cell_type": "code",
   "execution_count": null,
   "metadata": {},
   "outputs": [],
   "source": []
  }
 ],
 "metadata": {
  "kernelspec": {
   "display_name": "Python 3",
   "language": "python",
   "name": "python3"
  },
  "language_info": {
   "codemirror_mode": {
    "name": "ipython",
    "version": 3
   },
   "file_extension": ".py",
   "mimetype": "text/x-python",
   "name": "python",
   "nbconvert_exporter": "python",
   "pygments_lexer": "ipython3",
   "version": "3.8.5"
  }
 },
 "nbformat": 4,
 "nbformat_minor": 4
}
