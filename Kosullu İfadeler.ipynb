{
 "cells": [
  {
   "cell_type": "code",
   "execution_count": 1,
   "metadata": {},
   "outputs": [],
   "source": [
    "# Koşula bağlı durumlar yaratabilmek için bazı araçlar kullanmamız gerekmektedir."
   ]
  },
  {
   "cell_type": "markdown",
   "metadata": {},
   "source": [
    "## if"
   ]
  },
  {
   "cell_type": "code",
   "execution_count": 2,
   "metadata": {},
   "outputs": [],
   "source": [
    "# eğer anlamına gelen ifade koşul bildirmek için kullanılıyor."
   ]
  },
  {
   "cell_type": "code",
   "execution_count": 3,
   "metadata": {},
   "outputs": [
    {
     "name": "stdout",
     "output_type": "stream",
     "text": [
      "Sayı 100'den büyüktür.\n"
     ]
    }
   ],
   "source": [
    "sayi = 125\n",
    "if sayi > 100:\n",
    "    print(\"Sayı 100'den büyüktür.\")"
   ]
  },
  {
   "cell_type": "code",
   "execution_count": 4,
   "metadata": {},
   "outputs": [
    {
     "data": {
      "text/plain": [
       "'\\nİşleç Anlamı\\n> büyüktür\\n< küçüktür\\n>= büyük eşittir\\n<= küçük eşittir\\n== eşittir\\n!= eşit değildir'"
      ]
     },
     "execution_count": 4,
     "metadata": {},
     "output_type": "execute_result"
    }
   ],
   "source": [
    "\"\"\"\n",
    "İşleç Anlamı\n",
    "> büyüktür\n",
    "< küçüktür\n",
    ">= büyük eşittir\n",
    "<= küçük eşittir\n",
    "== eşittir\n",
    "!= eşit değildir\"\"\""
   ]
  },
  {
   "cell_type": "code",
   "execution_count": 6,
   "metadata": {},
   "outputs": [],
   "source": [
    "# Genel kural olarak 4 boşlukluk bir girintileme uygun olacaktır.(Tab tuşu)"
   ]
  },
  {
   "cell_type": "code",
   "execution_count": 8,
   "metadata": {},
   "outputs": [
    {
     "ename": "SyntaxError",
     "evalue": "unexpected EOF while parsing (<ipython-input-8-27d6bfb4c9d8>, line 1)",
     "output_type": "error",
     "traceback": [
      "\u001b[1;36m  File \u001b[1;32m\"<ipython-input-8-27d6bfb4c9d8>\"\u001b[1;36m, line \u001b[1;32m1\u001b[0m\n\u001b[1;33m    if sayi == 20: # unexpected end of file yani kod bloğununu çalıştıramadan sona ulaşıyor.\u001b[0m\n\u001b[1;37m                                                                                            ^\u001b[0m\n\u001b[1;31mSyntaxError\u001b[0m\u001b[1;31m:\u001b[0m unexpected EOF while parsing\n"
     ]
    }
   ],
   "source": [
    "if sayi == 20: # unexpected end of file yani kod bloğununu çalıştıramadan sona ulaşıyor."
   ]
  },
  {
   "cell_type": "code",
   "execution_count": 12,
   "metadata": {},
   "outputs": [
    {
     "name": "stdout",
     "output_type": "stream",
     "text": [
      "Bir sayı giriniz:\t10\n",
      "Sayı 10'a eşittir.\n"
     ]
    }
   ],
   "source": [
    "sayi = int(input(\"Bir sayı giriniz:\\t\"))\n",
    "\n",
    "if sayi >10:\n",
    "    print(\"Sayı 10'dan büyüktür.\")\n",
    "\n",
    "if sayi < 10:\n",
    "    print(\"Sayı 10'dan küçüktür.\")\n",
    "\n",
    "if sayi ==10:\n",
    "    print(\"Sayı 10'a eşittir.\")"
   ]
  },
  {
   "cell_type": "code",
   "execution_count": 14,
   "metadata": {},
   "outputs": [
    {
     "data": {
      "text/plain": [
       "'\" Bu kodlara göre, eğer kullanıcının\\ngirdiği sayı 10 ‘dan büyükse, ilk if bloğu işletilecek; eğer sayı 10 ‘dan küçükse ikinci if bloğu\\nişletilecek; eğer sayı 10’a eşit ise üçüncü if bloğu işletilecektir.'"
      ]
     },
     "execution_count": 14,
     "metadata": {},
     "output_type": "execute_result"
    }
   ],
   "source": [
    "\"\"\"\" Bu kodlara göre, eğer kullanıcının\n",
    "girdiği sayı 10 ‘dan büyükse, ilk if bloğu işletilecek; eğer sayı 10 ‘dan küçükse ikinci if bloğu\n",
    "işletilecek; eğer sayı 10’a eşit ise üçüncü if bloğu işletilecektir.\"\"\""
   ]
  },
  {
   "cell_type": "code",
   "execution_count": 16,
   "metadata": {},
   "outputs": [
    {
     "name": "stdout",
     "output_type": "stream",
     "text": [
      "Parola:1234235\n",
      "Parolanız yanlış!\n"
     ]
    }
   ],
   "source": [
    "parola = input(\"Parola:\")\n",
    "\n",
    "if parola == \"1234567\":\n",
    "    print(\"Sisteme giriliyor.\")\n",
    "if parola != \"1234567\":\n",
    "    print(\"Parolanız yanlış!\")"
   ]
  },
  {
   "cell_type": "markdown",
   "metadata": {},
   "source": [
    "## elif"
   ]
  },
  {
   "cell_type": "code",
   "execution_count": 17,
   "metadata": {},
   "outputs": [],
   "source": [
    "# else if"
   ]
  },
  {
   "cell_type": "code",
   "execution_count": 28,
   "metadata": {},
   "outputs": [
    {
     "name": "stdout",
     "output_type": "stream",
     "text": [
      "Yaşınızı giriniz: 0\n",
      "YOK ARTIK!\n"
     ]
    }
   ],
   "source": [
    "yas = int(input(\"Yaşınızı giriniz: \"))\n",
    "\n",
    "if yas >= 18:\n",
    "    print(\"Kayıt olabilirsiniz\")\n",
    "elif yas <= 0:\n",
    "    print(\"YOK ARTIK!\")\n",
    "elif yas < 18:\n",
    "    print(\"Sisteme kayıt olamazsınız!!\")"
   ]
  },
  {
   "cell_type": "code",
   "execution_count": 29,
   "metadata": {},
   "outputs": [],
   "source": [
    "# Bu örneği sadece if lerle yaparsak:"
   ]
  },
  {
   "cell_type": "code",
   "execution_count": 36,
   "metadata": {},
   "outputs": [
    {
     "name": "stdout",
     "output_type": "stream",
     "text": [
      "Yaşınızı giriniz: -3\n",
      "YOK ARTIK!\n",
      "Sisteme kayıt olamazsınız!!\n"
     ]
    }
   ],
   "source": [
    "yas = int(input(\"Yaşınızı giriniz: \"))\n",
    "\n",
    "if yas >= 18:\n",
    "    print(\"Kayıt olabilirsiniz\")\n",
    "if yas <= 0:\n",
    "    print(\"YOK ARTIK!\")\n",
    "if yas < 18:\n",
    "    print(\"Sisteme kayıt olamazsınız!!\")    # 45, 12, -3 ifadeleri sırasıyla denersek"
   ]
  },
  {
   "cell_type": "code",
   "execution_count": 37,
   "metadata": {},
   "outputs": [
    {
     "data": {
      "text/plain": [
       "'Bu durum if ile elif arasındaki çok önemli bir farktan kaynaklanır. Buna göre if bize olası\\nbütün sonuçları listeler, elif ise sadece doğru olan ilk sonucu verir.'"
      ]
     },
     "execution_count": 37,
     "metadata": {},
     "output_type": "execute_result"
    }
   ],
   "source": [
    "\"\"\"Bu durum if ile elif arasındaki çok önemli bir farktan kaynaklanır. Buna göre if bize olası\n",
    "bütün sonuçları listeler, elif ise sadece doğru olan ilk sonucu verir.\"\"\""
   ]
  },
  {
   "cell_type": "code",
   "execution_count": 44,
   "metadata": {},
   "outputs": [
    {
     "name": "stdout",
     "output_type": "stream",
     "text": [
      "Sayınızı giriniz: 167\n",
      "Sayınız 150'den büyüktür.\n",
      "Sayınız 100'den büyüktür.\n"
     ]
    }
   ],
   "source": [
    "sayi = int(input(\"Sayınızı giriniz: \"))\n",
    "\n",
    "if sayi < 100:\n",
    "    print(\"100'den küçük\")\n",
    "if sayi < 50:\n",
    "    print(\"50'den küçük\")\n",
    "if sayi == 100:\n",
    "    print(\"Sayınız 100'dür.\")\n",
    "if sayi > 150:\n",
    "    print(\"Sayınız 150'den büyüktür.\")\n",
    "if sayi >  100:\n",
    "    print(\"Sayınız 100'den büyüktür.\")"
   ]
  },
  {
   "cell_type": "code",
   "execution_count": 46,
   "metadata": {},
   "outputs": [
    {
     "name": "stdout",
     "output_type": "stream",
     "text": [
      "Sayınızı giriniz: 34\n",
      "100'den küçük\n"
     ]
    }
   ],
   "source": [
    "sayi = int(input(\"Sayınızı giriniz: \"))\n",
    "\n",
    "if sayi < 100:\n",
    "    print(\"100'den küçük\")\n",
    "elif sayi < 50:\n",
    "    print(\"50'den küçük\")\n",
    "elif sayi == 100:\n",
    "    print(\"Sayınız 100'dür.\")\n",
    "elif sayi >  100:\n",
    "    print(\"Sayınız 100'den büyüktür.\")\n",
    "elif sayi > 150:\n",
    "    print(\"Sayınız 150'den büyüktür.\")"
   ]
  },
  {
   "cell_type": "code",
   "execution_count": 47,
   "metadata": {},
   "outputs": [],
   "source": [
    "# elif  yazıldığında ekrana doğru olan ilk sonuç verilir. "
   ]
  },
  {
   "cell_type": "markdown",
   "metadata": {},
   "source": [
    " ## else\n"
   ]
  },
  {
   "cell_type": "code",
   "execution_count": 52,
   "metadata": {},
   "outputs": [],
   "source": [
    "# Her koşul durumu için if yada elif bloğu yazmak hem yorucu hem de anlamsız olabilir."
   ]
  },
  {
   "cell_type": "code",
   "execution_count": 53,
   "metadata": {},
   "outputs": [],
   "source": [
    "# else ifadesini verilen koşullardan hiçbiri olmazsa çalışacak bloğu ifade eder."
   ]
  },
  {
   "cell_type": "code",
   "execution_count": 56,
   "metadata": {},
   "outputs": [
    {
     "name": "stdout",
     "output_type": "stream",
     "text": [
      "Program çıkmak istediğinize emin misiniz? \\ Çıkmak için 'e' harfine basınıze\n",
      "Çıkış yapılıyor.\n"
     ]
    }
   ],
   "source": [
    "soru = input(\"Program çıkmak istediğinize emin misiniz? \\ Çıkmak için 'e' harfine basınız\")\n",
    "if soru == \"e\":\n",
    "    print(\"Çıkış yapılıyor.\")\n",
    "else:\n",
    "    print(\"Menü sayfasına dönülüyor.\")"
   ]
  },
  {
   "cell_type": "code",
   "execution_count": 57,
   "metadata": {},
   "outputs": [],
   "source": [
    "# Örnek Uygulama"
   ]
  },
  {
   "cell_type": "code",
   "execution_count": null,
   "metadata": {},
   "outputs": [],
   "source": [
    "\"\"\"\"Diyelim ki sisteme kayıt için kullanıcı adı ve parola belirlenmesini isteyen bir\n",
    "program yazıyorsunuz. Yazacağınız bu programda, belirlenebilecek kullanıcı adı\n",
    "ve parolanın toplam uzunluğu 40 karakteri geçmeyecek\"\"\""
   ]
  },
  {
   "cell_type": "code",
   "execution_count": 5,
   "metadata": {},
   "outputs": [
    {
     "name": "stdout",
     "output_type": "stream",
     "text": [
      "Kullanıcı adını giriniz: Mert Sukru\n",
      "Sifrenizi giriniz: 123456\n",
      "Kullanıcı adı ve sifreniz toplamda 16 karakterden oluşuyor.\n",
      "Sisteme kaydınız gerçekleşiyor\n",
      "...\n"
     ]
    }
   ],
   "source": [
    "kullanıcı_adı = input(\"Kullanıcı adını giriniz: \")\n",
    "sifre = input(\"Sifrenizi giriniz: \")\n",
    "\n",
    "toplam_uzunluk = len(kullanıcı_adı) +  len(sifre)\n",
    "\n",
    "mesaj = \"Kullanıcı adı ve sifreniz toplamda {} karakterden oluşuyor.\"\n",
    "\n",
    "print(mesaj.format(toplam_uzunluk))\n",
    "\n",
    "if toplam_uzunluk > 20:\n",
    "    print(\"Kullanıcı adı ve sifreniz toplamda 40 karakteri geçmemeli.\")\n",
    "else:\n",
    "    print(\"Sisteme kaydınız gerçekleşiyor\\n\",\"...\",sep=\"\")"
   ]
  },
  {
   "cell_type": "markdown",
   "metadata": {},
   "source": [
    "## and / or / not "
   ]
  },
  {
   "cell_type": "code",
   "execution_count": 6,
   "metadata": {},
   "outputs": [],
   "source": [
    "# Bool islecleri olarak gördüğümüz ifadeleri koşul durumlarında kullanabiliriz."
   ]
  },
  {
   "cell_type": "code",
   "execution_count": null,
   "metadata": {},
   "outputs": [],
   "source": [
    "# bir durumun gerçekleşmesi için 2 şartın sağlanması gerekirse"
   ]
  },
  {
   "cell_type": "code",
   "execution_count": 1,
   "metadata": {},
   "outputs": [
    {
     "name": "stdout",
     "output_type": "stream",
     "text": [
      "Kullanıcı adını giriniz: Mert Sukru\n",
      "Sifrenizi giriniz: 123456\n",
      "Giriş yapılıyor...\n"
     ]
    }
   ],
   "source": [
    "kullanıcı_adı = input(\"Kullanıcı adını giriniz: \")\n",
    "sifre = input(\"Sifrenizi giriniz: \")\n",
    "\n",
    "if kullanıcı_adı == \"Mert Sukru\":\n",
    "    if sifre == \"123456\":\n",
    "        print(\"Giriş yapılıyor...\")\n",
    "else:\n",
    "    print(\"Hatalı giriş yaptınız!!!\")"
   ]
  },
  {
   "cell_type": "code",
   "execution_count": 2,
   "metadata": {},
   "outputs": [
    {
     "data": {
      "text/plain": [
       "'Python’da istediğiniz kadar iç içe geçmiş if deyimi kullanabilirsiniz. Ancak\\nyazdığınız bir programda eğer üçten fazla iç içe if deyimi kullandıysanız, benimsediğiniz\\nyöntemi yeniden gözden geçirmenizi tavsiye ederim. Çünkü iç içe geçmiş if deyimleri bir\\nsüre sonra anlaşılması güç bir kod yapısı ortaya çıkarabilir\\n'"
      ]
     },
     "execution_count": 2,
     "metadata": {},
     "output_type": "execute_result"
    }
   ],
   "source": [
    "\"\"\"Python’da istediğiniz kadar iç içe geçmiş if deyimi kullanabilirsiniz. Ancak\n",
    "yazdığınız bir programda eğer üçten fazla iç içe if deyimi kullandıysanız, benimsediğiniz\n",
    "yöntemi yeniden gözden geçirmenizi tavsiye ederim. Çünkü iç içe geçmiş if deyimleri bir\n",
    "süre sonra anlaşılması güç bir kod yapısı ortaya çıkarabilir\n",
    "\"\"\""
   ]
  },
  {
   "cell_type": "code",
   "execution_count": 3,
   "metadata": {},
   "outputs": [],
   "source": [
    "# Bu durumu daha kolay yazabilmek için"
   ]
  },
  {
   "cell_type": "code",
   "execution_count": 7,
   "metadata": {},
   "outputs": [
    {
     "name": "stdout",
     "output_type": "stream",
     "text": [
      "Kullanıcı adını giriniz: Mert Sukru\n",
      "Sifrenizi giriniz: 123456\n",
      "Giriş yapılıyor...\n"
     ]
    }
   ],
   "source": [
    "kullanıcı_adı = input(\"Kullanıcı adını giriniz: \")\n",
    "sifre = input(\"Sifrenizi giriniz: \")\n",
    "\n",
    "if kullanıcı_adı == \"Mert Sukru\" and sifre == \"123456\":\n",
    "    print(\"Giriş yapılıyor...\")\n",
    "elif kullanıcı_adı != \"Mert Sukru\" and sifre == \"123456\":\n",
    "    print(\"Kullanıcı adını yanlış girdiniz\")\n",
    "elif kullanıcı_adı == \"Mert Sukru\" and sifre != \"123456\":\n",
    "    print(\"Şifrenizi yanlış girdiniz\")\n",
    "else:\n",
    "    print(\"Kullanıcı adı ve sifrenizi yanlış girdiniz.\")"
   ]
  },
  {
   "cell_type": "code",
   "execution_count": 9,
   "metadata": {},
   "outputs": [
    {
     "name": "stdout",
     "output_type": "stream",
     "text": [
      "Kullanıcı adını giriniz: Mert Sukru\n",
      "Sifrenizi giriniz: 12322\n",
      "Şifrenizi yanlış girdiniz\n"
     ]
    }
   ],
   "source": [
    "kullanıcı_adı = input(\"Kullanıcı adını giriniz: \")\n",
    "sifre = input(\"Sifrenizi giriniz: \")\n",
    "\n",
    "if kullanıcı_adı == \"Mert Sukru\" and sifre == \"123456\":\n",
    "    print(\"Giriş yapılıyor...\")\n",
    "elif not kullanıcı_adı == \"Mert Sukru\" and sifre == \"123456\":\n",
    "    print(\"Kullanıcı adını yanlış girdiniz\")\n",
    "elif kullanıcı_adı == \"Mert Sukru\" and not sifre == \"123456\":\n",
    "    print(\"Şifrenizi yanlış girdiniz\")\n",
    "else:\n",
    "    print(\"Kullanıcı adı ve sifrenizi yanlış girdiniz.\")"
   ]
  },
  {
   "cell_type": "code",
   "execution_count": 37,
   "metadata": {},
   "outputs": [
    {
     "name": "stdout",
     "output_type": "stream",
     "text": [
      "Sınav notunuzu giriniz:84\n",
      "B\n"
     ]
    }
   ],
   "source": [
    "x = int(input(\"Sınav notunuzu giriniz:\"))\n",
    "\n",
    "if x > 100 or x< 0:\n",
    "    print(\"Böyle bir not yok!!!\")\n",
    "elif x <= 100 and x >= 85:\n",
    "    print(\"Notunuz:A\")\n",
    "elif x < 85 and x >= 70:\n",
    "    print(\"B\")\n",
    "else :\n",
    "    print(\"Kaldınız!!!\")"
   ]
  },
  {
   "cell_type": "code",
   "execution_count": 44,
   "metadata": {},
   "outputs": [
    {
     "name": "stdout",
     "output_type": "stream",
     "text": [
      "Sınav notunuzu giriniz:34\n",
      "Kaldınız!!!\n"
     ]
    }
   ],
   "source": [
    "x = int(input(\"Sınav notunuzu giriniz:\"))\n",
    "\n",
    "if x > 100 or x< 0:\n",
    "    print(\"Böyle bir not yok!!!\")\n",
    "elif 85 <= x <= 100:\n",
    "    print(\"Notunuz:A\")\n",
    "elif 70 <= x < 85:\n",
    "    print(\"B\")\n",
    "else :\n",
    "    print(\"Kaldınız!!!\")"
   ]
  },
  {
   "cell_type": "code",
   "execution_count": null,
   "metadata": {},
   "outputs": [],
   "source": []
  },
  {
   "cell_type": "code",
   "execution_count": null,
   "metadata": {},
   "outputs": [],
   "source": []
  }
 ],
 "metadata": {
  "kernelspec": {
   "display_name": "Python 3",
   "language": "python",
   "name": "python3"
  },
  "language_info": {
   "codemirror_mode": {
    "name": "ipython",
    "version": 3
   },
   "file_extension": ".py",
   "mimetype": "text/x-python",
   "name": "python",
   "nbconvert_exporter": "python",
   "pygments_lexer": "ipython3",
   "version": "3.8.5"
  }
 },
 "nbformat": 4,
 "nbformat_minor": 4
}
